{
 "cells": [
  {
   "cell_type": "code",
   "execution_count": 1,
   "id": "475b5f75-9528-4c2f-afd2-a719b038233a",
   "metadata": {},
   "outputs": [],
   "source": [
    "import json"
   ]
  },
  {
   "cell_type": "code",
   "execution_count": 8,
   "id": "eea07da6-af9f-4dd1-9245-e95e349389aa",
   "metadata": {},
   "outputs": [
    {
     "data": {
      "text/plain": [
       "4541"
      ]
     },
     "execution_count": 8,
     "metadata": {},
     "output_type": "execute_result"
    }
   ],
   "source": [
    "data_path = 'data/preprocessed/lcquad_2.0/lcquad_2.0_test.json'\n",
    "data = json.load(open(data_path))['dataset']\n",
    "len(data)"
   ]
  },
  {
   "cell_type": "code",
   "execution_count": 10,
   "id": "6a151646-dad1-468b-bf64-34c313f4cb21",
   "metadata": {},
   "outputs": [
    {
     "data": {
      "text/plain": [
       "[4187]"
      ]
     },
     "execution_count": 10,
     "metadata": {},
     "output_type": "execute_result"
    }
   ],
   "source": [
    "sample_str = 'are the treaty  which start with the letter'\n",
    "\n",
    "[i for i, x in enumerate(data) if sample_str in x['en_question']]"
   ]
  },
  {
   "cell_type": "code",
   "execution_count": null,
   "id": "d26a345c-93c3-4c6d-93e3-124365dde641",
   "metadata": {},
   "outputs": [],
   "source": []
  }
 ],
 "metadata": {
  "kernelspec": {
   "display_name": "Python 3 (ipykernel)",
   "language": "python",
   "name": "python3"
  },
  "language_info": {
   "codemirror_mode": {
    "name": "ipython",
    "version": 3
   },
   "file_extension": ".py",
   "mimetype": "text/x-python",
   "name": "python",
   "nbconvert_exporter": "python",
   "pygments_lexer": "ipython3",
   "version": "3.8.10"
  }
 },
 "nbformat": 4,
 "nbformat_minor": 5
}
