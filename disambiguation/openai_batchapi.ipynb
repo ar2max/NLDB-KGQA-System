{
 "cells": [
  {
   "cell_type": "code",
   "execution_count": null,
   "id": "4a48e7b2-2501-430e-a17c-4bd9d9f44380",
   "metadata": {},
   "outputs": [],
   "source": [
    "import os\n",
    "import re\n",
    "import json\n",
    "from tqdm import tqdm\n",
    "import pandas as pd\n",
    "import numpy as np\n",
    "import openai\n",
    "import random\n",
    "\n",
    "\n",
    "os.environ[\"OPENAI_KEY\"] = \"\""
   ]
  },
  {
   "cell_type": "markdown",
   "id": "648f9fc9-d120-44c6-ae4e-8ad8fa58de63",
   "metadata": {
    "jp-MarkdownHeadingCollapsed": true
   },
   "source": [
    "## Prompts"
   ]
  },
  {
   "cell_type": "code",
   "execution_count": null,
   "id": "5bfa68ac",
   "metadata": {},
   "outputs": [],
   "source": [
    "FEW_SHOT_EXAMPLES_ENTS = \"\"\"\n",
    "                  EXAMPLE#1\n",
    "                   QUESTION: What does DiCaprio's full name sound like?\n",
    "                   CANDIDATE ENTITIES: \n",
    "                   Q116673393: Sibon irmelindicaprioae -- species of snake\n",
    "                    Q38111: Leonardo DiCaprio -- American actor and film producer (born 1974)\n",
    "                    Q11461: sound -- vibration that propagates as an acoustic wave\n",
    "                    Q36860035: DiCaprio -- family name\n",
    "                    Q25349951: Martin Scorsese and Leonardo DiCaprio -- collaborations\n",
    "                    Q56653813: DiCaprio 2 -- album by J.I.D\n",
    "                   RELEVANT ENTITIES: Q38111.\n",
    "                   \n",
    "                   \n",
    "                   EXAMPLE#2\n",
    "                   QUESTION: In which city near Moscow is the new Jerusalem monastery located?\n",
    "                    CANDIDATE ENTITIES: \n",
    "                    Q55502: Kingdom of Jerusalem -- medieval Christian kingdom in the Middle East\n",
    "                    Q773979: New Jerusalem Monastery -- monastery in Moscow Oblast, Russia\n",
    "                    Q1218: Jerusalem -- city in the Middle East, holy to the three Abrahamic religions\n",
    "                    Q649: Moscow -- capital and most populous city of Russia\n",
    "                    Q515: city -- large human settlement\n",
    "                    Q13164: Moscow State University -- university in Moscow, Russia\n",
    "                    Q6760: UTC+03:00 -- identifier for a time offset from UTC of +3\n",
    "                    Q10540001: Jerusalem -- family name                    \n",
    "                    RELEVANT ENTITIES: Q773979, Q649.\n",
    "\n",
    "                    \n",
    "                    EXAMPLE#3\n",
    "                    QUESTION: What capital stands on the banks of Potalaka?\n",
    "                    CANDIDATE ENTITIES: \n",
    "                    Q11626848: Mount Potalaka -- the mythical dwelling of the Buddhist bodhisattva Avalokiteśvara, said to exist in India\n",
    "                    Q22687: bank -- financial institution that accepts deposits\n",
    "                    Q60756888: Potalaka Guanyin -- sculpture by unknown artist (1965.556)\n",
    "                    Q179444: Potomac River -- river in the mid-Atlantic United States\n",
    "                    Q193893: capital -- upper part of a column (architecture)\n",
    "                    Q60: New York City -- most populous city in the United States\n",
    "                    Q5119: capital city -- primary governing city of a top-level (country) or first-level and second-level subdivision (country, state, province, regency, etc) political entity\n",
    "                    **Reasoning:**  \n",
    "                    - \"Capital\" refers to a **governing city**, not architectural elements (Q193893).  \n",
    "                    - \"Potalaka\" (Q11626848) is a **mythical** location, so no real-world capital is directly linked.  \n",
    "                    - Since no entity directly matches the question, **the most general applicable concept** is \"capital city\" (Q5119).\n",
    "                    RELEVANT ENTITIES: Q179444, Q5119.\n",
    "                    \n",
    "                    \n",
    "                    EXAMPLE#4 \n",
    "                    QUESTION: What is the official language of Brazil?  \n",
    "                    CANDIDATE ENTITIES:  \n",
    "                    Q750553: Spanish language -- Romance language originating in Spain  \n",
    "                    Q5146: Portuguese language -- Romance language, official in Portugal and Brazil  \n",
    "                    Q155: Brazil -- country in South America  \n",
    "                    Q483110: Brasília -- capital city of Brazil\n",
    "                    **Reasoning**:  \n",
    "                    - \"Official language\" refers to the main language used for governance.  \n",
    "                    - The description of Q5146 explicitly states it is official in Brazil.  \n",
    "                    - Q750553 (Spanish) is incorrect because it is **not** the official language.  \n",
    "                    - Q155 and Q483110 are related but not **languages**. \n",
    "                    RELEVANT ENTITIES: Q5146.  \n",
    "\"\"\"\n",
    "\n",
    "SYSTEM_PROMPT_ENTS = f\"\"\"You are an experienced WikiData user. \n",
    "                   You receive a QUESTION and a SET of extracted Wikidata CANDIDATE ENTITIES, retrieved from an index based on similarity between the QUESTION and the ENTITY. \n",
    "                   Each entity has a wikidata ID, label and description in a form of Wikidata ID: label -- description. \n",
    "                   Your task is to select only the most semantically relevant entities based on their labels and descriptions.\n",
    "                   \n",
    "                   Instruction:\n",
    "                    -- Ignore entities that are loosely related, homonyms, or have indirect contextual links to the QUESTION.\n",
    "                    -- If no entity perfectly matches the question, select the best available entity based on contextual closeness.\n",
    "                    -- If multiple entities seem relevant, prefer those with a stronger direct connection to the query subject.\n",
    "                    -- If there are ambiguous entities that relate to the different countries, ALWAYS choose the entity that is related to Russia, based on description.\n",
    "                    -- Some questions may have multiple correct entities. Return all entities that are directly relevant. Do NOT include entities that are only indirectly related (e.g., broad categories like 'city' instead of a specific location).\n",
    "                    -- DO NOT reject entity, if it fits to the entity mentioned in query, but DOES NOT DIRECTLY answer the question.\n",
    "                    -- Always include reasoning in the beginning of the responce.\n",
    "                    -- Always place \"RELEVANT ENTITIES: ...\" at the end of your response.\n",
    "\n",
    "                   Here are examples:\n",
    "                   {FEW_SHOT_EXAMPLES_ENTS}\n",
    "                   \"\"\"\n",
    "\n",
    "USER_PROMPT_ENTS = \"\"\"QUESTION: {question}\\nCANDIDATE ENTITIES:\\n{candidate_list_str}\"\"\""
   ]
  },
  {
   "cell_type": "code",
   "execution_count": null,
   "id": "371f2070-9e7d-4a03-a910-9276fce3419d",
   "metadata": {},
   "outputs": [],
   "source": [
    "FEW_SHOT_EXAMPLES_PROP = \"\"\"\n",
    "                    EXAMPLE#1\n",
    "                    QUESTION: How much does Nurmagomedov weigh?\n",
    "                    CANDIDATE PROPERTIES:\n",
    "                    P166: award received -- award or recognition received by a person, organization or creative work\n",
    "                    P54: member of sports team -- sports teams or clubs that the subject represents or represented\n",
    "                    P1082: population -- number of people inhabiting the place; number of people of subject\n",
    "                    P1351: number of points/goals/set scored -- goals / points scored in a match or an event used as qualifier to the participant. Use P1358 for league points.\n",
    "                    P1350: number of matches played/races/starts -- matches or games a player or a team played during an event. Also a total number of matches a player officially appeared in during the whole career.\n",
    "                    P2121: prize money -- amount in a specific currency\n",
    "                    P585: point in time -- date something took place, existed or a statement was true; for providing time use the \"refine date\" property (P4241)\n",
    "                    P2067: mass -- mass (in colloquial usage also known as weight) of the item\n",
    "                    P1412: languages spoken, written or signed -- language(s) that a person or a people speaks, writes or signs, including the native language(s)\n",
    "                    P2046: area -- area occupied by an object\n",
    "                    RELEVANT PROPERTIES: P2067\n",
    "\n",
    "\n",
    "                    EXAMPLE#2\n",
    "                    QUESTION: Where is the Academy of Sciences of Armenia located\n",
    "                    CANDIDATE PROPERTIES:\n",
    "                    P463: member of -- organization, club or musical group to which the subject belongs. Do not use for membership in ethnic or social groups, nor for holding a political position, such as a member of parliament (use P39 for that)\n",
    "                    P31: instance of -- that class of which this subject is a particular example and member; different from P279 (subclass of); for example: K2 is an instance of mountain; volcano is a subclass of mountain (and an instance of volcanic landform)\n",
    "                    P19: place of birth -- most specific known birth location of a person, animal or fictional character\n",
    "                    P580: start time -- time an entity begins to exist or a statement starts being valid\n",
    "                    P582: end time -- moment when an entity ceases to exist or a statement stops being valid\n",
    "                    P69: educated at -- educational institution attended by subject\n",
    "                    P159: headquarters location -- city or town where an organization's headquarters is or has been situated. Use P276 qualifier for specific building\n",
    "                    P585: point in time -- date something took place, existed or a statement was true; for providing time use the \"refine date\" property (P4241)\n",
    "                    RELEVANT PROPERTIES: P159\n",
    "\n",
    "\n",
    "                    EXAMPLE#3\n",
    "                    QUESTION: What is the singing voice of Dmitri Hvorostovsky?\n",
    "                    CANDIDATE PROPERTIES:\n",
    "                    P412: voice type -- person's voice type. expected values: soprano, mezzo-soprano, contralto, countertenor, tenor, baritone, bass (and derivatives)\n",
    "                    P725: voice actor -- performer of a spoken role in a creative work such as animation, video game, radio drama, or dubbing over [use \"character role\" (P453) as qualifier] [use \"cast member\" (P161) for live acting]\n",
    "                    P175: performer -- actor, musician, band or other performer associated with this role or musical work\n",
    "                    P453: character role -- specific role played or filled by subject -- use only as qualifier of \"cast member\" (P161), \"voice actor\" (P725)\n",
    "                    P179: part of the series -- series which contains the subject\n",
    "                    P674: characters -- characters which appear in this item (like plays, operas, operettas, books, comics, films, TV series, video games)\n",
    "                    P1441: present in work -- this (fictional or fictionalized) entity, place, or person appears in that work as part of the narration (use P2860 for works citing other works, P361/P1433 for works being part of other works, P1343 for entities described in non-fictional accounts)\n",
    "                    **Reasoning:** \n",
    "                    - the question asks about voice's characteristics of some person\n",
    "                    - P412 is relevant, because it's a property described a voice type, which is voice's characteristic\n",
    "                    - P725, P175, P674 represent properties described a person role in something, not related to voice\n",
    "                    - other properties also represent something not similar to voice \n",
    "                    RELEVANT PROPERTIES: P412\n",
    "                   \n",
    "                   \n",
    "                    EXAMPLE#4\n",
    "                    QUESTION: Who was S. V. Mikhalkov's co-author in writing the text of the anthem of the Soviet Union?\n",
    "                    CANDIDATE PROPERTIES:\n",
    "                    P31: instance of -- that class of which this subject is a particular example and member; different from P279 (subclass of); for example: K2 is an instance of mountain; volcano is a subclass of mountain (and an instance of volcanic landform)\n",
    "                    P86: composer -- person(s) who wrote the music [for lyricist, use \"lyrics by\" (P676)]\n",
    "                    P1412: languages spoken, written or signed -- language(s) that a person or a people speaks, writes or signs, including the native language(s)\n",
    "                    P92: main regulatory text -- text setting the main rules by which the subject is regulated\n",
    "                    P50: author -- main creator(s) of a written work (use on works, not humans); use P2093 (author name string) when Wikidata item is unknown or does not exist\n",
    "                    P155: follows -- immediately prior item in a series of which the subject is a part, preferably use as qualifier of P179 [if the subject has replaced the preceding item, e.g. political offices, use \"replaces\" (P1365)]\n",
    "                    P676: lyricist -- author of song lyrics\n",
    "                    **Reasoning:** \n",
    "                    - the question asks about an co-author of a some national anthem's text, not the music itself!\n",
    "                    - description of P676 makes it clear that it represent \"author of song lyrics\" - that's what we needed\n",
    "                    - P31's description is too general and not correspond to songs's author\n",
    "                    - P86, P50 are close, but they describe a composer/author of written work, not a lyrics writer\n",
    "                    - other properties also describe something another than lyric's writer\n",
    "                    RELEVANT PROPERTIES: P676\n",
    "\n",
    "\n",
    "                    EXAMPLE#5\n",
    "                    QUESTION: In which country did the great Russian chess player Alexander Alekhine end his life?\n",
    "                    CANDIDATE PROPERTIES:\n",
    "                    P20: place of death -- most specific known (e.g. city instead of country, or hospital instead of city) death location of a person, animal or fictional character\n",
    "                    P27: country of citizenship -- the object is a country that recognizes the subject as its citizen\n",
    "                    P582: end time -- moment when an entity ceases to exist or a statement stops being valid\n",
    "                    P31: instance of -- that class of which this subject is a particular example and member; different from P279 (subclass of); for example: K2 is an instance of mountain; volcano is a subclass of mountain (and an instance of volcanic landform)\n",
    "                    P276: location -- location of the object, structure or event. In the case of an administrative entity as containing item use P131. For statistical entities use P8138. In the case of a geographic entity use P706. Use P7153 for locations associated with the object\n",
    "                    P26: spouse -- the subject has the object as their spouse (husband, wife, partner, etc.). Use \"unmarried partner\" (P451) for non-married companions\n",
    "                    P17: country -- sovereign state that this item is in (not to be used for human beings)\n",
    "                    P39: position held -- subject currently or formerly holds the object position or public office\n",
    "                    P580: start time -- time an entity begins to exist or a statement starts being valid\n",
    "                    P19: place of birth -- most specific known birth location of a person, animal or fictional character\n",
    "                    **Reasoning:**\n",
    "                    - the question asks about location of somebody's death and it's country where it happened\n",
    "                    - in the candidates we can clearly see P20 and P17, which respresent **place of death** and **contry**\n",
    "                    - P276 and P582 are close, but too common for this QUESTION\n",
    "                    - other has no relation to QUESTION's PROPERTIES\n",
    "                    RELEVANT PROPERTIES: P20, P17\n",
    "\"\"\"\n",
    "\n",
    "SYSTEM_PROMPT_PROP = f\"\"\"You are an experienced WikiData user. \n",
    "                   You receive a QUESTION and a SET of extracted Wikidata CANDIDATE PROPERTIES, retrieved from an index based on similarity between the QUESTION and the PROPERTY. \n",
    "                   Each property has a wikidata ID, label and description in a form of Wikidata ID: label -- description. \n",
    "                   Your task is to select only the most semantically relevant properties based on their labels and descriptions.\n",
    "                   \n",
    "                   Instruction:\n",
    "                    -- Ignore properties that are loosely related, homonyms, or have indirect contextual links to the QUESTION.\n",
    "                    -- If no property perfectly matches the question, select the best available property based on contextual closeness.\n",
    "                    -- If multiple properties seem relevant, prefer those with a stronger direct connection to the query subject.\n",
    "                    -- Some questions may have multiple correct properties. Return all properties that are directly relevant. \n",
    "                    -- Always include reasoning in the beginning of the responce.\n",
    "                    -- Always place \"RELEVANT PROPERTIES: ...\" at the end of your response.\n",
    "\n",
    "                   Here are examples:\n",
    "                   {FEW_SHOT_EXAMPLES_PROP}\n",
    "                   \"\"\"\n",
    "\n",
    "USER_PROMPT_PROP = \"\"\"QUESTION: {question}\\nCANDIDATE PROPERTIES:\\n{candidate_list_str}\"\"\""
   ]
  },
  {
   "cell_type": "markdown",
   "id": "c0aa24ff-c0e9-410c-97b0-6e6dc26eceb3",
   "metadata": {
    "jp-MarkdownHeadingCollapsed": true
   },
   "source": [
    "## Functions"
   ]
  },
  {
   "cell_type": "code",
   "execution_count": null,
   "id": "5e9996c2-88db-436f-a75d-1646bb273956",
   "metadata": {},
   "outputs": [],
   "source": [
    "'''\n",
    "Prompt and Preprocessing Functions\n",
    "'''\n",
    "\n",
    "def get_default(dic, field, default=''):\n",
    "    return dic[field] if field in dic else default\n",
    "\n",
    "    \n",
    "def prepare_candidates(sample, retriever_output):    \n",
    "    sample_id = sample['id']\n",
    "    # relevant_ids = list(sample['id2alias'].keys())\n",
    "    retrived_cands = retriever_output[str(sample_id)]\n",
    "    retrived_ids = retrived_cands.keys()\n",
    "    retrived_ids = list(filter(lambda x: x is not None, retrived_ids))\n",
    "    \n",
    "    candidates_set = list(set(retrived_ids\n",
    "                              # + relevant_ids\n",
    "                             ))\n",
    "    # HERE I DO SHUFFLING, SINCE I DO NOT KNOW THE ORDER FROM RETRIEVER\n",
    "    random.shuffle(candidates_set)\n",
    "    \n",
    "    entities_list = [f\"{key}: {get_default(retrived_cands[key], 'label')} -- {get_default(retrived_cands[key], 'description')}\" for key in retrived_ids]\n",
    "    entities_str = \"\\n\".join(entities_list)\n",
    "    return entities_str\n",
    "        \n",
    "\n",
    "def construct_user_prompt(sample, retriever_output, user_prompt):\n",
    "    question = sample['en_question']\n",
    "    candidates_set_string = prepare_candidates(sample, retriever_output)\n",
    "    user_prompt = user_prompt.format(question=question, candidate_list_str=candidates_set_string)\n",
    "    return user_prompt\n",
    "\n",
    "\n",
    "def create_batch_file(batch_data, batch_retriver, system_prompt, user_prompt):\n",
    "    file = []\n",
    "    for i in range(len(batch_data)):\n",
    "        messages=[{\"role\": \"system\", \"content\": system_prompt},\n",
    "                  {\"role\": \"user\", \"content\": construct_user_prompt(batch_data[i], batch_retriver, user_prompt)}]\n",
    "        new_request = {\"custom_id\": f\"request_{i}\", \n",
    "                       \"method\": \"POST\", \n",
    "                       \"url\": \"/v1/chat/completions\", \n",
    "                       \"body\": {\"model\": \"gpt-4-1106-preview\", \n",
    "                                \"messages\": messages, \n",
    "                                \"temperature\": 0,\n",
    "                                \"max_tokens\": 400,\n",
    "                                \"top_p\": 1,\n",
    "                                \"frequency_penalty\": 0,\n",
    "                                \"presence_penalty\": 0,\n",
    "                                # \"response_format\": {\"type\": \"json_object\"}\n",
    "                               }}\n",
    "        file.append(new_request)\n",
    "    return file"
   ]
  },
  {
   "cell_type": "code",
   "execution_count": null,
   "id": "d1319c85-9dcd-4466-994b-addaeacf298e",
   "metadata": {},
   "outputs": [],
   "source": [
    "'''\n",
    "Run OpenAI Functions\n",
    "'''\n",
    "def ask_openai_batch(file_path):\n",
    "    client = openai.OpenAI(\n",
    "        api_key=os.environ.get(\"OPENAI_KEY\"),\n",
    "    )\n",
    "\n",
    "    batch_input_file = client.files.create(file=open(file_path, 'rb'), purpose='batch')\n",
    "    batch_input_file_id = batch_input_file.id\n",
    "\n",
    "    response_batch = None\n",
    "    idx = 0\n",
    "    while response_batch is None and idx < 10:\n",
    "        try:\n",
    "            response_batch = client.batches.create(\n",
    "                input_file_id=batch_input_file_id,\n",
    "                endpoint=\"/v1/chat/completions\",\n",
    "                completion_window='24h',\n",
    "            )\n",
    "            idx += 1\n",
    "            \n",
    "        except openai.APIConnectionError as e:\n",
    "            idx += 1\n",
    "            print(e)\n",
    "\n",
    "    if idx == 10:\n",
    "        return \"This sentence was not judged.\"\n",
    "\n",
    "    return response_batch\n",
    "\n",
    "\n",
    "def check_batch(batch_id):\n",
    "    client = openai.OpenAI(\n",
    "        api_key=os.environ.get(\"OPENAI_KEY\"),\n",
    "    )\n",
    "\n",
    "    return client.batches.retrieve(batch_id)\n",
    "\n",
    "def get_response_batch(batch_id):\n",
    "    client = openai.OpenAI(\n",
    "        api_key=os.environ.get(\"OPENAI_KEY\"),\n",
    "    )\n",
    "    file_response = client.files.content(batch_id)\n",
    "        \n",
    "    response_data = []\n",
    "    for line in file_response.iter_lines():\n",
    "        answer_dict = eval(line.replace('null', 'None'))\n",
    "        answer_str = answer_dict['response']['body']['choices'][0]['message']['content']\n",
    "        response_data.append(answer_str)\n",
    "\n",
    "    return response_data\n",
    "\n",
    "def get_usage_info(batch_id):\n",
    "    client = openai.OpenAI(\n",
    "        api_key=os.environ.get(\"OPENAI_KEY\"),\n",
    "    )\n",
    "    file_response = client.files.content(check_batch(id_).output_file_id)\n",
    "\n",
    "    prompt_tokens_total, completion_tokens_total = 0, 0\n",
    "    for line in file_response.iter_lines():\n",
    "        answer_dict = eval(line.replace('null', 'None'))\n",
    "        usage = answer_dict['response']['body']['usage']\n",
    "        prompt_tokens_total += usage['prompt_tokens']\n",
    "        completion_tokens_total += usage['completion_tokens']\n",
    "    return {\n",
    "        'prompt_tokens': prompt_tokens_total, \n",
    "        'completion_tokens': completion_tokens_total\n",
    "    }"
   ]
  },
  {
   "cell_type": "code",
   "execution_count": null,
   "id": "78a57a4d-8009-4604-9608-1b90473801e6",
   "metadata": {},
   "outputs": [],
   "source": [
    "'''\n",
    "Eval Functions\n",
    "'''\n",
    "def extract_wikidata_ids(text, search_pattern):\n",
    "    pattern = search_pattern + r\"\\s*([\\w, ]+)\"    \n",
    "    match = re.search(pattern, text)\n",
    "    \n",
    "    if match:\n",
    "        # Extract the IDs and return them as a list\n",
    "        wikidata_ids = match.group(1).split(', ')\n",
    "        return wikidata_ids\n",
    "    else:\n",
    "        return []\n",
    "        \n",
    "# RELEVANT ENTITIES: / RELEVANT PROPERTIES:\n",
    "def parse_responce(responce_str, search_pattern):\n",
    "    if search_pattern == 'entity':\n",
    "        search_pattern = 'RELEVANT ENTITIES:'\n",
    "    elif search_pattern == 'property':\n",
    "        search_pattern = 'RELEVANT PROPERTIES:'\n",
    "    else:\n",
    "        raise Exception('Choose correct seacrh pattern')\n",
    "    \n",
    "    # parse main case\n",
    "    if search_pattern in responce_str:\n",
    "        wikidata_ids = extract_wikidata_ids(responce_str, search_pattern)\n",
    "        return wikidata_ids\n",
    "    # I hope there are no other cases, but still -- better to ch\n",
    "    else:\n",
    "        return None\n",
    "\n",
    "\n",
    "def get_metrics(eval_data, response_data, search_pattern, gold_key):\n",
    "\n",
    "    assert len(eval_data) == len(response_data)\n",
    "\n",
    "    get_gold = lambda x: x[gold_key]['query'].keys()\n",
    "    \n",
    "    overall_precision, overall_recall, overall_f1 = 0, 0, 0\n",
    "    failed_examples = []\n",
    "    error_generations, incomplete_generation = [], []\n",
    "    false_positive_generations = []\n",
    "    for idx, pair in enumerate(zip(eval_data, response_data)):\n",
    "        sample, gpt_response = pair\n",
    "        extracted_candidates = parse_responce(gpt_response, search_pattern)\n",
    "\n",
    "        gold_ids = get_gold(sample)\n",
    "        \n",
    "        if extracted_candidates:\n",
    "            true_positives = set(extracted_candidates) & set(gold_ids)\n",
    "    \n",
    "            precision = len(true_positives) / len(extracted_candidates) if extracted_candidates else 0.0\n",
    "            if precision == 0:\n",
    "                false_positive_generations.append([idx, gpt_response, gold_ids])\n",
    "    \n",
    "            # Recall: Proportion of gold entities that are correctly predicted\n",
    "            recall = len(true_positives) / len(gold_ids) if gold_ids else 0.0\n",
    "            if recall == 0:\n",
    "                error_generations.append([idx, gpt_response, gold_ids])\n",
    "            if recall != 1:\n",
    "                incomplete_generation.append([idx, gpt_response, gold_ids])\n",
    "    \n",
    "            # F1-Score: Harmonic mean of Precision and Recall\n",
    "            f1 = 2 * (precision * recall) / (precision + recall) if precision + recall > 0 else 0.0\n",
    "    \n",
    "            overall_precision += precision\n",
    "            overall_recall += recall\n",
    "            overall_f1 += f1\n",
    "        else:\n",
    "            failed_examples.append(gpt_response)\n",
    "        \n",
    "    overall_precision /= len(response_data)\n",
    "    overall_recall /= len(response_data)\n",
    "    overall_f1 /= len(response_data)\n",
    "    \n",
    "    print('Precision: ', overall_precision)\n",
    "    print('Recall: ', overall_recall)\n",
    "    print('F1: ', overall_f1)\n",
    "\n",
    "\n",
    "def get_result(data, retriver_output, response_arr, search_pattern):\n",
    "    result = {}\n",
    "    for idx, pair in enumerate(zip(data, response_arr)):\n",
    "        sample, gpt_response = pair\n",
    "        extracted_candidates = parse_responce(gpt_response, search_pattern)\n",
    "        uid = str(sample['id'])\n",
    "        result[uid] = {\n",
    "            'question_eng': sample['en_question'],\n",
    "            'query': sample['query'],\n",
    "            'candidates': {cand: retriver_output[uid][cand]['label']\n",
    "                           for cand in extracted_candidates if cand in retriver_output[uid]} if extracted_candidates else {}\n",
    "        }\n",
    "    return result"
   ]
  },
  {
   "cell_type": "markdown",
   "id": "d0c103dd-6e7f-4a54-af64-011ba2e86725",
   "metadata": {},
   "source": [
    "## Data"
   ]
  },
  {
   "cell_type": "code",
   "execution_count": null,
   "id": "f56af167-c0f3-43a5-8c92-00e6c189d8e8",
   "metadata": {},
   "outputs": [],
   "source": [
    "task_name = 'entity' # entity / property\n",
    "data_name = 'rubq'\n",
    "retriver_out_path = 'data/retriver_out/rubq/rubq_test_entities_retrieval.json'\n",
    "data_path = 'data/preprocessed/rubq/rubq_test.json'\n",
    "topk = 100\n",
    "\n",
    "retriver_out = json.load(open(retriver_out_path))\n",
    "retriver_out = {k: dict(list(v.items())[:topk]) for k, v in retriver_out.items()}\n",
    "\n",
    "data = json.load(open(data_path))['dataset']\n",
    "eval_data = [sample for sample in data if str(sample['id']) in retriver_out]\n",
    "\n",
    "if task_name == 'entity':\n",
    "    SYSTEM_PROMPT = SYSTEM_PROMPT_ENTS\n",
    "    USER_PROMPT = USER_PROMPT_ENTS\n",
    "    retr_field = 'entities'\n",
    "elif task_name == 'property':\n",
    "    SYSTEM_PROMPT = SYSTEM_PROMPT_PROP\n",
    "    USER_PROMPT = USER_PROMPT_PROP\n",
    "    retr_field = 'relations'\n",
    "else:\n",
    "    raise Exception('Choose correct task_name')\n",
    "\n",
    "print(\n",
    "    f'len(data) = {len(data)}', \n",
    "    f'len(eval) = {len(eval_data)}',\n",
    "    f'retr {topk} = {np.mean([len(\n",
    "        set(x[retr_field]['query'].keys()) & \n",
    "        set(retriver_out[str(x['id'])])\n",
    "    ) > 0 for x in eval_data])}',\n",
    "    sep='\\n'\n",
    ")"
   ]
  },
  {
   "cell_type": "markdown",
   "id": "f029c0fe-8997-42a9-a318-12cf908db7bc",
   "metadata": {},
   "source": [
    "## Post to OpenAI"
   ]
  },
  {
   "cell_type": "code",
   "execution_count": null,
   "id": "e47e499f-e565-41ea-b04c-525ab68ceb4a",
   "metadata": {},
   "outputs": [],
   "source": [
    "price_per_1m = {'prompt': 5, 'completion': 15}"
   ]
  },
  {
   "cell_type": "code",
   "execution_count": null,
   "id": "1ab933f2-f094-45a8-a3be-6afeaacd0817",
   "metadata": {},
   "outputs": [],
   "source": [
    "batch_file = create_batch_file(eval_data, retriver_out, SYSTEM_PROMPT, USER_PROMPT)"
   ]
  },
  {
   "cell_type": "code",
   "execution_count": null,
   "id": "029e4ddb-f9c7-458f-8abf-ca3cdd7a563a",
   "metadata": {
    "collapsed": true,
    "jupyter": {
     "outputs_hidden": true
    },
    "scrolled": true
   },
   "outputs": [],
   "source": [
    "idx = 69\n",
    "print(eval_data[idx]['entities']['query'].keys())\n",
    "print(eval_data[idx]['relations']['query'].keys())\n",
    "print('======')\n",
    "print(batch_file[idx]['body']['messages'][1]['content'])"
   ]
  },
  {
   "cell_type": "code",
   "execution_count": null,
   "id": "71fbbff5-8895-4a55-ac3d-ca572edbabec",
   "metadata": {},
   "outputs": [],
   "source": [
    "batch_file_path = os.path.join(os.path.dirname(retriver_out_path), \"gpt-4-1106-preview\",\n",
    "                               f'{data_name}_{task_name}_{topk}.jsonl')\n",
    "\n",
    "if not os.path.exists(os.path.dirname(batch_file_path)):\n",
    "    os.makedirs(os.path.dirname(batch_file_path))\n",
    "\n",
    "with open(batch_file_path, 'w') as jsonl_file:\n",
    "    for entry in batch_file:\n",
    "        jsonl_file.write(json.dumps(entry) + '\\n')"
   ]
  },
  {
   "cell_type": "code",
   "execution_count": null,
   "id": "976627f6-08fc-44cd-b8eb-ced16883fcb4",
   "metadata": {
    "scrolled": true
   },
   "outputs": [],
   "source": [
    "batch_response = ask_openai_batch(batch_file_path)"
   ]
  },
  {
   "cell_type": "markdown",
   "id": "41ac8d0b-e27d-4872-bdf6-b1cfe73a0804",
   "metadata": {},
   "source": [
    "## gpt-4-1106-preview"
   ]
  },
  {
   "cell_type": "markdown",
   "id": "c4d3c605-4a2c-4cc8-a900-3f83aec41dc9",
   "metadata": {
    "jp-MarkdownHeadingCollapsed": true
   },
   "source": [
    "### Rubq Entity 100"
   ]
  },
  {
   "cell_type": "code",
   "execution_count": null,
   "id": "bdd21718-1473-4d54-9af0-4baf8607f0f1",
   "metadata": {},
   "outputs": [],
   "source": [
    "id_ = 'batch_67c8cd0d2808819088783fa5f60e8285'\n",
    "check_batch(id_).status, check_batch(id_).request_counts"
   ]
  },
  {
   "cell_type": "code",
   "execution_count": null,
   "id": "18f608d5-eceb-4ab0-9717-78449c69f83c",
   "metadata": {},
   "outputs": [],
   "source": [
    "out_id_ = check_batch(id_).output_file_id\n",
    "response_list = get_response_batch(out_id_)\n",
    "result = get_result(eval_data, retriver_out, response_list, search_pattern=task_name)\n",
    "get_metrics(eval_data, response_list, search_pattern=task_name, gold_key=retr_field)"
   ]
  },
  {
   "cell_type": "code",
   "execution_count": null,
   "id": "e515339b-07c2-45ea-b3a2-1ffee3265659",
   "metadata": {},
   "outputs": [],
   "source": [
    "result_file_path = os.path.join(os.path.dirname(retriver_out_path), \"gpt-4-1106-preview\",\n",
    "                               f'{data_name}_result_{task_name}_{topk}.jsonl')\n",
    "\n",
    "json.dump(result, open(result_file_path, 'w'))"
   ]
  },
  {
   "cell_type": "code",
   "execution_count": null,
   "id": "51ac4695-556b-4840-a752-b195570a017d",
   "metadata": {},
   "outputs": [],
   "source": [
    "response_file_path = os.path.join(os.path.dirname(retriver_out_path), \"gpt-4-1106-preview\",\n",
    "                               f'response_{task_name}_{topk}.jsonl')\n",
    "\n",
    "json.dump(response_list, open(response_file_path, 'w'))"
   ]
  },
  {
   "cell_type": "code",
   "execution_count": null,
   "id": "e9c3ae07-8ac5-4cbb-8699-9cf4a283edbb",
   "metadata": {},
   "outputs": [],
   "source": [
    "usage = get_usage_info(id_)\n",
    "print(\n",
    "    f\"usage = {usage}\",\n",
    "    f\"price = {round(price_per_1m['prompt'] * usage['prompt_tokens']/1e6 + price_per_1m['completion'] * usage['completion_tokens']/1e6, 2)}$\",\n",
    "    sep='\\n'\n",
    ")"
   ]
  },
  {
   "cell_type": "markdown",
   "id": "e64acf6d-ba38-4686-9e2f-36ff8fc0049d",
   "metadata": {
    "jp-MarkdownHeadingCollapsed": true
   },
   "source": [
    "### Rubq Entity 10"
   ]
  },
  {
   "cell_type": "code",
   "execution_count": null,
   "id": "97cd50b1-0d41-4c10-bb3d-d3c1d66dda13",
   "metadata": {},
   "outputs": [],
   "source": [
    "id_ = 'batch_67c8d69d880481908a7a56d38a85445c'\n",
    "check_batch(id_).status, check_batch(id_).request_counts"
   ]
  },
  {
   "cell_type": "code",
   "execution_count": null,
   "id": "2d46be2c-6ec7-40a8-8001-75158365f173",
   "metadata": {},
   "outputs": [],
   "source": [
    "out_id_ = check_batch(id_).output_file_id\n",
    "response_list = get_response_batch(out_id_)\n",
    "result = get_result(eval_data, retriver_out, response_list, search_pattern=task_name)\n",
    "get_metrics(eval_data, response_list, search_pattern=task_name, gold_key=retr_field)"
   ]
  },
  {
   "cell_type": "code",
   "execution_count": null,
   "id": "aab83db2-9b10-4ea0-9aa4-0b01c4be9fe9",
   "metadata": {},
   "outputs": [],
   "source": [
    "result_file_path = os.path.join(os.path.dirname(retriver_out_path), \"gpt-4-1106-preview\",\n",
    "                               f'{data_name}_result_{task_name}_{topk}.jsonl')\n",
    "\n",
    "json.dump(result, open(result_file_path, 'w'))"
   ]
  },
  {
   "cell_type": "code",
   "execution_count": null,
   "id": "1e86695c-43eb-4bb9-9f3c-33f15dd37921",
   "metadata": {},
   "outputs": [],
   "source": [
    "response_file_path = os.path.join(os.path.dirname(retriver_out_path), \"gpt-4-1106-preview\",\n",
    "                               f'response_{task_name}_{topk}.jsonl')\n",
    "\n",
    "json.dump(response_list, open(response_file_path, 'w'))"
   ]
  },
  {
   "cell_type": "code",
   "execution_count": null,
   "id": "43442f86-fe97-4eaa-a6e4-3275f2e5f86e",
   "metadata": {},
   "outputs": [],
   "source": [
    "usage = get_usage_info(id_)\n",
    "print(\n",
    "    f\"usage = {usage}\",\n",
    "    f\"price = {round(price_per_1m['prompt'] * usage['prompt_tokens']/1e6 + price_per_1m['completion'] * usage['completion_tokens']/1e6, 2)}$\",\n",
    "    sep='\\n'\n",
    ")"
   ]
  },
  {
   "cell_type": "markdown",
   "id": "746063d6-e819-4910-9100-4a66fa34d564",
   "metadata": {
    "jp-MarkdownHeadingCollapsed": true
   },
   "source": [
    "### Rubq Property 100"
   ]
  },
  {
   "cell_type": "code",
   "execution_count": null,
   "id": "6b15df54-a10d-4070-961b-771b330b0dc9",
   "metadata": {},
   "outputs": [],
   "source": [
    "id_ = 'batch_67c8dc8911a48190853a7856a5936e84'\n",
    "check_batch(id_).status, check_batch(id_).request_counts"
   ]
  },
  {
   "cell_type": "code",
   "execution_count": null,
   "id": "176548fb-7a15-4e9e-a8bc-96905ac532e3",
   "metadata": {},
   "outputs": [],
   "source": [
    "out_id_ = check_batch(id_).output_file_id\n",
    "response_list = get_response_batch(out_id_)\n",
    "result = get_result(eval_data, retriver_out, response_list, search_pattern=task_name)\n",
    "get_metrics(eval_data, response_list, search_pattern=task_name, gold_key=retr_field)"
   ]
  },
  {
   "cell_type": "code",
   "execution_count": null,
   "id": "b61064c7-ad87-4d9c-9480-02e5b3a0179c",
   "metadata": {},
   "outputs": [],
   "source": [
    "result_file_path = os.path.join(os.path.dirname(retriver_out_path), \"gpt-4-1106-preview\",\n",
    "                               f'{data_name}_result_{task_name}_{topk}.jsonl')\n",
    "\n",
    "json.dump(result, open(result_file_path, 'w'))"
   ]
  },
  {
   "cell_type": "code",
   "execution_count": null,
   "id": "f82ee7d1-4f1e-4ea4-af76-a6066386deb1",
   "metadata": {},
   "outputs": [],
   "source": [
    "response_file_path = os.path.join(os.path.dirname(retriver_out_path), \"gpt-4-1106-preview\",\n",
    "                               f'response_{task_name}_{topk}.jsonl')\n",
    "\n",
    "json.dump(response_list, open(response_file_path, 'w'))"
   ]
  },
  {
   "cell_type": "code",
   "execution_count": null,
   "id": "f62296ca-a81b-4d07-9723-caa8edbab929",
   "metadata": {},
   "outputs": [],
   "source": [
    "usage = get_usage_info(id_)\n",
    "print(\n",
    "    f\"usage = {usage}\",\n",
    "    f\"price = {round(price_per_1m['prompt'] * usage['prompt_tokens']/1e6 + price_per_1m['completion'] * usage['completion_tokens']/1e6, 2)}$\",\n",
    "    sep='\\n'\n",
    ")"
   ]
  },
  {
   "cell_type": "markdown",
   "id": "e868751e-17f5-41f2-81b0-9749cfd223cb",
   "metadata": {
    "jp-MarkdownHeadingCollapsed": true
   },
   "source": [
    "### Rubq Property 10"
   ]
  },
  {
   "cell_type": "code",
   "execution_count": null,
   "id": "f530be92-2604-4104-bcc0-93706f3ddc6f",
   "metadata": {
    "scrolled": true
   },
   "outputs": [],
   "source": [
    "id_ = 'batch_67c8e18605988190af52f49d7747c0fc'\n",
    "check_batch(id_).status, check_batch(id_).request_counts"
   ]
  },
  {
   "cell_type": "code",
   "execution_count": null,
   "id": "bb35a2f8-b9cc-4771-b482-9a0064ee23d8",
   "metadata": {},
   "outputs": [],
   "source": [
    "out_id_ = check_batch(id_).output_file_id\n",
    "response_list = get_response_batch(out_id_)\n",
    "result = get_result(eval_data, retriver_out, response_list, search_pattern=task_name)\n",
    "get_metrics(eval_data, response_list, search_pattern=task_name, gold_key=retr_field)"
   ]
  },
  {
   "cell_type": "code",
   "execution_count": null,
   "id": "f4c998ac-f68e-435f-b857-6e9533cdf333",
   "metadata": {},
   "outputs": [],
   "source": [
    "result_file_path = os.path.join(os.path.dirname(retriver_out_path), \"gpt-4-1106-preview\",\n",
    "                               f'{data_name}_result_{task_name}_{topk}.jsonl')\n",
    "\n",
    "json.dump(result, open(result_file_path, 'w'))"
   ]
  },
  {
   "cell_type": "code",
   "execution_count": null,
   "id": "166f8385-60b0-456f-9a7a-ae33189ff7d6",
   "metadata": {},
   "outputs": [],
   "source": [
    "response_file_path = os.path.join(os.path.dirname(retriver_out_path), \"gpt-4-1106-preview\",\n",
    "                               f'response_{task_name}_{topk}.jsonl')\n",
    "\n",
    "json.dump(response_list, open(response_file_path, 'w'))"
   ]
  },
  {
   "cell_type": "code",
   "execution_count": null,
   "id": "0cf3e20c-e11c-4e73-8a33-4224fb916884",
   "metadata": {},
   "outputs": [],
   "source": [
    "usage = get_usage_info(id_)\n",
    "print(\n",
    "    f\"usage = {usage}\",\n",
    "    f\"price = {round(price_per_1m['prompt'] * usage['prompt_tokens']/1e6 + price_per_1m['completion'] * usage['completion_tokens']/1e6, 2)}$\",\n",
    "    sep='\\n'\n",
    ")"
   ]
  },
  {
   "cell_type": "markdown",
   "id": "f498661e-3907-45f1-a4c9-a87a85bd03a6",
   "metadata": {
    "jp-MarkdownHeadingCollapsed": true
   },
   "source": [
    "### Lcquad Entity 100"
   ]
  },
  {
   "cell_type": "code",
   "execution_count": null,
   "id": "72e02c3b-0cbc-4ec1-83af-d346b145144f",
   "metadata": {
    "scrolled": true
   },
   "outputs": [],
   "source": [
    "id_ = 'batch_67c8e547658481908cb0ab9d2126a95b'\n",
    "check_batch(id_).status, check_batch(id_).request_counts"
   ]
  },
  {
   "cell_type": "code",
   "execution_count": null,
   "id": "641dbe94-2f8f-40ba-a41e-446bdb6eb2ba",
   "metadata": {},
   "outputs": [],
   "source": [
    "out_id_ = check_batch(id_).output_file_id\n",
    "response_list = get_response_batch(out_id_)\n",
    "result = get_result(eval_data, retriver_out, response_list, search_pattern=task_name)\n",
    "get_metrics(eval_data, response_list, search_pattern=task_name, gold_key=retr_field)"
   ]
  },
  {
   "cell_type": "code",
   "execution_count": null,
   "id": "67051040-e82f-4de9-aa63-bc0d0f0ad9a9",
   "metadata": {},
   "outputs": [],
   "source": [
    "result_file_path = os.path.join(os.path.dirname(retriver_out_path), \"gpt-4-1106-preview\",\n",
    "                               f'{data_name}_result_{task_name}_{topk}.jsonl')\n",
    "\n",
    "json.dump(result, open(result_file_path, 'w'))"
   ]
  },
  {
   "cell_type": "code",
   "execution_count": null,
   "id": "d2fd6ba4-1105-4db0-9d3a-31cbfe018d53",
   "metadata": {},
   "outputs": [],
   "source": [
    "response_file_path = os.path.join(os.path.dirname(retriver_out_path), \"gpt-4-1106-preview\",\n",
    "                               f'response_{task_name}_{topk}.jsonl')\n",
    "\n",
    "json.dump(response_list, open(response_file_path, 'w'))"
   ]
  },
  {
   "cell_type": "code",
   "execution_count": null,
   "id": "dc64d7bd-2f45-4a68-b9a1-9c5ed0821269",
   "metadata": {},
   "outputs": [],
   "source": [
    "usage = get_usage_info(id_)\n",
    "print(\n",
    "    f\"usage = {usage}\",\n",
    "    f\"price = {round(price_per_1m['prompt'] * usage['prompt_tokens']/1e6 + price_per_1m['completion'] * usage['completion_tokens']/1e6, 2)}$\",\n",
    "    sep='\\n'\n",
    ")"
   ]
  },
  {
   "cell_type": "markdown",
   "id": "983815b2-f109-4562-8cd0-da7c88fb4400",
   "metadata": {
    "jp-MarkdownHeadingCollapsed": true
   },
   "source": [
    "### Lcquad Entity 10"
   ]
  },
  {
   "cell_type": "code",
   "execution_count": null,
   "id": "47a04319-f88e-4fae-8d4d-ef6e1ed2e946",
   "metadata": {
    "scrolled": true
   },
   "outputs": [],
   "source": [
    "id_ = 'batch_67c8ec2b8dcc8190b64f039cc0fdf2a5'\n",
    "check_batch(id_).status, check_batch(id_).request_counts"
   ]
  },
  {
   "cell_type": "code",
   "execution_count": null,
   "id": "869c9b4d-0539-4087-8105-30aec4c2a76b",
   "metadata": {},
   "outputs": [],
   "source": [
    "out_id_ = check_batch(id_).output_file_id\n",
    "response_list = get_response_batch(out_id_)\n",
    "result = get_result(eval_data, retriver_out, response_list, search_pattern=task_name)\n",
    "get_metrics(eval_data, response_list, search_pattern=task_name, gold_key=retr_field)"
   ]
  },
  {
   "cell_type": "code",
   "execution_count": null,
   "id": "05676dcf-94ee-4376-93b6-033d2411cad7",
   "metadata": {},
   "outputs": [],
   "source": [
    "result_file_path = os.path.join(os.path.dirname(retriver_out_path), \"gpt-4-1106-preview\",\n",
    "                               f'{data_name}_result_{task_name}_{topk}.jsonl')\n",
    "\n",
    "json.dump(result, open(result_file_path, 'w'))"
   ]
  },
  {
   "cell_type": "code",
   "execution_count": null,
   "id": "d2630be7-9b10-40dc-aa01-3402a44057a0",
   "metadata": {},
   "outputs": [],
   "source": [
    "response_file_path = os.path.join(os.path.dirname(retriver_out_path), \"gpt-4-1106-preview\",\n",
    "                               f'response_{task_name}_{topk}.jsonl')\n",
    "\n",
    "json.dump(response_list, open(response_file_path, 'w'))"
   ]
  },
  {
   "cell_type": "code",
   "execution_count": null,
   "id": "a2673228-449a-4569-a447-cd53f5a90199",
   "metadata": {},
   "outputs": [],
   "source": [
    "usage = get_usage_info(id_)\n",
    "print(\n",
    "    f\"usage = {usage}\",\n",
    "    f\"price = {round(price_per_1m['prompt'] * usage['prompt_tokens']/1e6 + price_per_1m['completion'] * usage['completion_tokens']/1e6, 2)}$\",\n",
    "    sep='\\n'\n",
    ")"
   ]
  },
  {
   "cell_type": "markdown",
   "id": "d32481fd-6e83-4729-b470-07636d51661b",
   "metadata": {
    "jp-MarkdownHeadingCollapsed": true
   },
   "source": [
    "### Lcquad Property 100"
   ]
  },
  {
   "cell_type": "code",
   "execution_count": null,
   "id": "e09ff08b-e17e-4c9f-b089-63c299fccf7d",
   "metadata": {},
   "outputs": [],
   "source": [
    "id_ = 'batch_67c9879c57088190a4e013e99451a318'\n",
    "check_batch(id_).status, check_batch(id_).request_counts"
   ]
  },
  {
   "cell_type": "code",
   "execution_count": null,
   "id": "b3f8f997-36d8-4649-a60a-4c29f41cd60b",
   "metadata": {},
   "outputs": [],
   "source": [
    "out_id_ = check_batch(id_).output_file_id\n",
    "response_list = get_response_batch(out_id_)\n",
    "result = get_result(eval_data, retriver_out, response_list, search_pattern=task_name)\n",
    "get_metrics(eval_data, response_list, search_pattern=task_name, gold_key=retr_field)"
   ]
  },
  {
   "cell_type": "code",
   "execution_count": null,
   "id": "cfd7d180-46ca-46ba-b1a5-31b9a09fc48e",
   "metadata": {},
   "outputs": [],
   "source": [
    "result_file_path = os.path.join(os.path.dirname(retriver_out_path), \"gpt-4-1106-preview\",\n",
    "                               f'{data_name}_result_{task_name}_{topk}.jsonl')\n",
    "\n",
    "json.dump(result, open(result_file_path, 'w'))"
   ]
  },
  {
   "cell_type": "code",
   "execution_count": null,
   "id": "cdd98fa5-d9cf-4afe-9312-5adbcd6d63ad",
   "metadata": {},
   "outputs": [],
   "source": [
    "response_file_path = os.path.join(os.path.dirname(retriver_out_path), \"gpt-4-1106-preview\",\n",
    "                               f'response_{task_name}_{topk}.jsonl')\n",
    "\n",
    "json.dump(response_list, open(response_file_path, 'w'))"
   ]
  },
  {
   "cell_type": "code",
   "execution_count": null,
   "id": "e519c34d-2bd2-4dc6-87fe-eafce271c58c",
   "metadata": {},
   "outputs": [],
   "source": [
    "usage = get_usage_info(id_)\n",
    "print(\n",
    "    f\"usage = {usage}\",\n",
    "    f\"price = {round(price_per_1m['prompt'] * usage['prompt_tokens']/1e6 + price_per_1m['completion'] * usage['completion_tokens']/1e6, 2)}$\",\n",
    "    sep='\\n'\n",
    ")"
   ]
  },
  {
   "cell_type": "markdown",
   "id": "51af1a91-4664-4eed-831c-32592a5e9cd3",
   "metadata": {
    "jp-MarkdownHeadingCollapsed": true
   },
   "source": [
    "### Lcquad Property 10 "
   ]
  },
  {
   "cell_type": "code",
   "execution_count": null,
   "id": "dbe3352f-aea5-4f2d-8341-025beb60421b",
   "metadata": {},
   "outputs": [],
   "source": [
    "id_ = 'batch_67c9925f48d4819095e49188abb1eccd'\n",
    "check_batch(id_).status, check_batch(id_).request_counts"
   ]
  },
  {
   "cell_type": "code",
   "execution_count": null,
   "id": "abb7241e-3ae6-43af-b1ef-52c5b1ade68f",
   "metadata": {},
   "outputs": [],
   "source": [
    "out_id_ = check_batch(id_).output_file_id\n",
    "response_list = get_response_batch(out_id_)\n",
    "result = get_result(eval_data, retriver_out, response_list, search_pattern=task_name)\n",
    "get_metrics(eval_data, response_list, search_pattern=task_name, gold_key=retr_field)"
   ]
  },
  {
   "cell_type": "code",
   "execution_count": null,
   "id": "63fa614f-0705-445d-9144-c674ae487b3c",
   "metadata": {},
   "outputs": [],
   "source": [
    "result_file_path = os.path.join(os.path.dirname(retriver_out_path), \"gpt-4-1106-preview\",\n",
    "                               f'{data_name}_result_{task_name}_{topk}.jsonl')\n",
    "\n",
    "json.dump(result, open(result_file_path, 'w'))"
   ]
  },
  {
   "cell_type": "code",
   "execution_count": null,
   "id": "0cc1dc5f-193a-421c-bbb7-b876fdc5a91b",
   "metadata": {},
   "outputs": [],
   "source": [
    "response_file_path = os.path.join(os.path.dirname(retriver_out_path), \"gpt-4-1106-preview\",\n",
    "                               f'response_{task_name}_{topk}.jsonl')\n",
    "\n",
    "json.dump(response_list, open(response_file_path, 'w'))"
   ]
  },
  {
   "cell_type": "code",
   "execution_count": null,
   "id": "7415059a-f5b3-4432-bbec-35d21a878ca6",
   "metadata": {},
   "outputs": [],
   "source": [
    "usage = get_usage_info(id_)\n",
    "print(\n",
    "    f\"usage = {usage}\",\n",
    "    f\"price = {round(price_per_1m['prompt'] * usage['prompt_tokens']/1e6 + price_per_1m['completion'] * usage['completion_tokens']/1e6, 2)}$\",\n",
    "    sep='\\n'\n",
    ")"
   ]
  },
  {
   "cell_type": "markdown",
   "id": "238cbeee-77f2-4bdd-8a61-e4445b161812",
   "metadata": {
    "jp-MarkdownHeadingCollapsed": true
   },
   "source": [
    "### Pat Entity 100 "
   ]
  },
  {
   "cell_type": "code",
   "execution_count": null,
   "id": "5ccdd338-2faf-47a4-abce-96041a867807",
   "metadata": {},
   "outputs": [],
   "source": [
    "id_ = 'batch_67c9a4b588ec8190b5482f5e69e83e39'\n",
    "check_batch(id_).status, check_batch(id_).request_counts"
   ]
  },
  {
   "cell_type": "code",
   "execution_count": null,
   "id": "1d4845b4-2f5b-4085-aeca-31fe9f6bafa0",
   "metadata": {},
   "outputs": [],
   "source": [
    "out_id_ = check_batch(id_).output_file_id\n",
    "response_list = get_response_batch(out_id_)\n",
    "result = get_result(eval_data, retriver_out, response_list, search_pattern=task_name)\n",
    "get_metrics(eval_data, response_list, search_pattern=task_name, gold_key=retr_field)"
   ]
  },
  {
   "cell_type": "code",
   "execution_count": null,
   "id": "d8ab46ac-906a-45c0-bec0-970c5fb8e8e4",
   "metadata": {},
   "outputs": [],
   "source": [
    "result_file_path = os.path.join(os.path.dirname(retriver_out_path), \"gpt-4-1106-preview\",\n",
    "                               f'{data_name}_result_{task_name}_{topk}.jsonl')\n",
    "\n",
    "json.dump(result, open(result_file_path, 'w'))"
   ]
  },
  {
   "cell_type": "code",
   "execution_count": null,
   "id": "e2ead09d-30c4-47bc-a476-9bb6c3e77c9b",
   "metadata": {},
   "outputs": [],
   "source": [
    "response_file_path = os.path.join(os.path.dirname(retriver_out_path), \"gpt-4-1106-preview\",\n",
    "                               f'response_{task_name}_{topk}.jsonl')\n",
    "\n",
    "json.dump(response_list, open(response_file_path, 'w'))"
   ]
  },
  {
   "cell_type": "code",
   "execution_count": null,
   "id": "fee5c6f5-6eb9-431e-a189-fc5b326d6f8a",
   "metadata": {},
   "outputs": [],
   "source": [
    "usage = get_usage_info(id_)\n",
    "print(\n",
    "    f\"usage = {usage}\",\n",
    "    f\"price = {round(price_per_1m['prompt'] * usage['prompt_tokens']/1e6 + price_per_1m['completion'] * usage['completion_tokens']/1e6, 2)}$\",\n",
    "    sep='\\n'\n",
    ")"
   ]
  },
  {
   "cell_type": "markdown",
   "id": "22312c58-04c4-4efb-a823-884d43115cf2",
   "metadata": {
    "jp-MarkdownHeadingCollapsed": true
   },
   "source": [
    "### Pat Entity 10 "
   ]
  },
  {
   "cell_type": "code",
   "execution_count": null,
   "id": "52cd90a6-cc18-40f1-9f61-20947020eebb",
   "metadata": {},
   "outputs": [],
   "source": [
    "id_ = 'batch_67cac8421b148190af92580078ea6f20'\n",
    "check_batch(id_).status, check_batch(id_).request_counts"
   ]
  },
  {
   "cell_type": "code",
   "execution_count": null,
   "id": "a519f643-c974-4672-81f9-c28592d59ce4",
   "metadata": {},
   "outputs": [],
   "source": [
    "out_id_ = check_batch(id_).output_file_id\n",
    "response_list = get_response_batch(out_id_)\n",
    "result = get_result(eval_data, retriver_out, response_list, search_pattern=task_name)\n",
    "get_metrics(eval_data, response_list, search_pattern=task_name, gold_key=retr_field)"
   ]
  },
  {
   "cell_type": "code",
   "execution_count": null,
   "id": "9ad8bc59-f217-45b7-b98b-83504500965b",
   "metadata": {},
   "outputs": [],
   "source": [
    "result_file_path = os.path.join(os.path.dirname(retriver_out_path), \"gpt-4-1106-preview\",\n",
    "                               f'{data_name}_result_{task_name}_{topk}.jsonl')\n",
    "\n",
    "json.dump(result, open(result_file_path, 'w'))"
   ]
  },
  {
   "cell_type": "code",
   "execution_count": null,
   "id": "2fdd8094-ce9d-4568-9104-00aa06eb9083",
   "metadata": {},
   "outputs": [],
   "source": [
    "response_file_path = os.path.join(os.path.dirname(retriver_out_path), \"gpt-4-1106-preview\",\n",
    "                               f'response_{task_name}_{topk}.jsonl')\n",
    "\n",
    "json.dump(response_list, open(response_file_path, 'w'))"
   ]
  },
  {
   "cell_type": "code",
   "execution_count": null,
   "id": "18cc8674-fd8d-4269-a8bf-1c82880a0000",
   "metadata": {},
   "outputs": [],
   "source": [
    "usage = get_usage_info(id_)\n",
    "print(\n",
    "    f\"usage = {usage}\",\n",
    "    f\"price = {round(price_per_1m['prompt'] * usage['prompt_tokens']/1e6 + price_per_1m['completion'] * usage['completion_tokens']/1e6, 2)}$\",\n",
    "    sep='\\n'\n",
    ")"
   ]
  },
  {
   "cell_type": "markdown",
   "id": "376a6efb-e765-4f33-9439-b96990144507",
   "metadata": {
    "jp-MarkdownHeadingCollapsed": true
   },
   "source": [
    "### Pat Property 100 "
   ]
  },
  {
   "cell_type": "code",
   "execution_count": null,
   "id": "0bad9a72-5cc1-429f-9fb9-01dc6e0529b9",
   "metadata": {},
   "outputs": [],
   "source": [
    "id_ = 'batch_67d2d7dfea508190b5fc8e2c74c1513f'\n",
    "check_batch(id_).status, check_batch(id_).request_counts"
   ]
  },
  {
   "cell_type": "code",
   "execution_count": null,
   "id": "26dd0292-b03e-4e0b-85cd-a8757603e2a8",
   "metadata": {},
   "outputs": [],
   "source": [
    "out_id_ = check_batch(id_).output_file_id\n",
    "response_list = get_response_batch(out_id_)\n",
    "result = get_result(eval_data, retriver_out, response_list, search_pattern=task_name)\n",
    "get_metrics(eval_data, response_list, search_pattern=task_name, gold_key=retr_field)"
   ]
  },
  {
   "cell_type": "code",
   "execution_count": null,
   "id": "bdd44aa2-8878-4fcb-a3b6-8cbd11c734cf",
   "metadata": {},
   "outputs": [],
   "source": [
    "result_file_path = os.path.join(os.path.dirname(retriver_out_path), \"gpt-4-1106-preview\",\n",
    "                               f'{data_name}_result_{task_name}_{topk}.jsonl')\n",
    "\n",
    "json.dump(result, open(result_file_path, 'w'))"
   ]
  },
  {
   "cell_type": "code",
   "execution_count": null,
   "id": "75685172-57fe-4c7a-8473-a238d27b7fd6",
   "metadata": {},
   "outputs": [],
   "source": [
    "response_file_path = os.path.join(os.path.dirname(retriver_out_path), \"gpt-4-1106-preview\",\n",
    "                               f'response_{task_name}_{topk}.jsonl')\n",
    "\n",
    "json.dump(response_list, open(response_file_path, 'w'))"
   ]
  },
  {
   "cell_type": "code",
   "execution_count": null,
   "id": "e17890f7-a00c-42a1-ab92-99f6f7417ada",
   "metadata": {},
   "outputs": [],
   "source": [
    "usage = get_usage_info(id_)\n",
    "print(\n",
    "    f\"usage = {usage}\",\n",
    "    f\"price = {round(price_per_1m['prompt'] * usage['prompt_tokens']/1e6 + price_per_1m['completion'] * usage['completion_tokens']/1e6, 2)}$\",\n",
    "    sep='\\n'\n",
    ")"
   ]
  },
  {
   "cell_type": "markdown",
   "id": "353a38bf-d7a4-48de-b784-7825d99d7437",
   "metadata": {
    "jp-MarkdownHeadingCollapsed": true
   },
   "source": [
    "### Pat Property 10 "
   ]
  },
  {
   "cell_type": "code",
   "execution_count": null,
   "id": "cdef0ab7-1382-4bae-880f-d4ad7e7ae5b0",
   "metadata": {},
   "outputs": [],
   "source": [
    "id_ = 'batch_67d2f1cba2dc819095224c4246eb1436'\n",
    "check_batch(id_).status, check_batch(id_).request_counts"
   ]
  },
  {
   "cell_type": "code",
   "execution_count": null,
   "id": "cf507310-95b2-49a3-a27b-8bb095c9d29d",
   "metadata": {
    "scrolled": true
   },
   "outputs": [],
   "source": [
    "out_id_ = check_batch(id_).output_file_id\n",
    "response_list = get_response_batch(out_id_)\n",
    "result = get_result(eval_data, retriver_out, response_list, search_pattern=task_name)\n",
    "get_metrics(eval_data, response_list, search_pattern=task_name, gold_key=retr_field)"
   ]
  },
  {
   "cell_type": "code",
   "execution_count": null,
   "id": "d0166d73-cec5-4014-a9c0-b4a6d1ce995c",
   "metadata": {},
   "outputs": [],
   "source": [
    "result_file_path = os.path.join(os.path.dirname(retriver_out_path), \"gpt-4-1106-preview\",\n",
    "                               f'{data_name}_result_{task_name}_{topk}.jsonl')\n",
    "\n",
    "json.dump(result, open(result_file_path, 'w'))"
   ]
  },
  {
   "cell_type": "code",
   "execution_count": null,
   "id": "205f8da4-da41-42c3-acc0-a1a6f67feb99",
   "metadata": {},
   "outputs": [],
   "source": [
    "response_file_path = os.path.join(os.path.dirname(retriver_out_path), \"gpt-4-1106-preview\",\n",
    "                               f'response_{task_name}_{topk}.jsonl')\n",
    "\n",
    "json.dump(response_list, open(response_file_path, 'w'))"
   ]
  },
  {
   "cell_type": "code",
   "execution_count": null,
   "id": "8a8496b8-62e4-49d7-be94-cc5b18090f54",
   "metadata": {
    "scrolled": true
   },
   "outputs": [],
   "source": [
    "usage = get_usage_info(id_)\n",
    "print(\n",
    "    f\"usage = {usage}\",\n",
    "    f\"price = {round(price_per_1m['prompt'] * usage['prompt_tokens']/1e6 + price_per_1m['completion'] * usage['completion_tokens']/1e6, 2)}$\",\n",
    "    sep='\\n'\n",
    ")"
   ]
  },
  {
   "cell_type": "markdown",
   "id": "3ea0a4a2-9ddb-4bd0-a2c1-b8bc20ef0111",
   "metadata": {
    "jp-MarkdownHeadingCollapsed": true
   },
   "source": [
    "### Qald Entity 100 "
   ]
  },
  {
   "cell_type": "code",
   "execution_count": null,
   "id": "5b73a12c-d4e7-4fa3-a3cd-86340a41ce7a",
   "metadata": {},
   "outputs": [],
   "source": [
    "id_ = 'batch_67d3ffc087488190bd4a5b1b2b9e774c'\n",
    "check_batch(id_).status, check_batch(id_).request_counts"
   ]
  },
  {
   "cell_type": "code",
   "execution_count": null,
   "id": "4c198164-3d6c-4c67-88e2-571d0d1deec4",
   "metadata": {},
   "outputs": [],
   "source": [
    "out_id_ = check_batch(id_).output_file_id\n",
    "response_list = get_response_batch(out_id_)\n",
    "result = get_result(eval_data, retriver_out, response_list, search_pattern=task_name)\n",
    "get_metrics(eval_data, response_list, search_pattern=task_name, gold_key=retr_field)"
   ]
  },
  {
   "cell_type": "code",
   "execution_count": null,
   "id": "78e86a9a-3138-4c5d-b8c5-8170d4e70c08",
   "metadata": {},
   "outputs": [],
   "source": [
    "result_file_path = os.path.join(os.path.dirname(retriver_out_path), \"gpt-4-1106-preview\",\n",
    "                               f'{data_name}_result_{task_name}_{topk}.jsonl')\n",
    "\n",
    "json.dump(result, open(result_file_path, 'w'))"
   ]
  },
  {
   "cell_type": "code",
   "execution_count": null,
   "id": "8d31ab05-64c0-4f29-af02-ae39db5098c4",
   "metadata": {},
   "outputs": [],
   "source": [
    "response_file_path = os.path.join(os.path.dirname(retriver_out_path), \"gpt-4-1106-preview\",\n",
    "                               f'response_{task_name}_{topk}.jsonl')\n",
    "\n",
    "json.dump(response_list, open(response_file_path, 'w'))"
   ]
  },
  {
   "cell_type": "code",
   "execution_count": null,
   "id": "0b961600-0a31-4b6f-a629-b64f8c8a71b4",
   "metadata": {},
   "outputs": [],
   "source": [
    "usage = get_usage_info(id_)\n",
    "print(\n",
    "    f\"usage = {usage}\",\n",
    "    f\"price = {round(price_per_1m['prompt'] * usage['prompt_tokens']/1e6 + price_per_1m['completion'] * usage['completion_tokens']/1e6, 2)}$\",\n",
    "    sep='\\n'\n",
    ")"
   ]
  },
  {
   "cell_type": "markdown",
   "id": "97cdfc7b-dfcf-4aac-9ac7-e7a9821376ed",
   "metadata": {
    "jp-MarkdownHeadingCollapsed": true
   },
   "source": [
    "### Qald Entity 10 "
   ]
  },
  {
   "cell_type": "code",
   "execution_count": null,
   "id": "cb9d35db-a5eb-4a4e-b260-aed931c4bee4",
   "metadata": {},
   "outputs": [],
   "source": [
    "id_ = 'batch_67d4060f338c8190958d3167191e71d7'\n",
    "check_batch(id_).status, check_batch(id_).request_counts"
   ]
  },
  {
   "cell_type": "code",
   "execution_count": null,
   "id": "8833ef0c-9637-47f0-b8bd-f97d8ca3a506",
   "metadata": {},
   "outputs": [],
   "source": [
    "out_id_ = check_batch(id_).output_file_id\n",
    "response_list = get_response_batch(out_id_)\n",
    "result = get_result(eval_data, retriver_out, response_list, search_pattern=task_name)\n",
    "get_metrics(eval_data, response_list, search_pattern=task_name, gold_key=retr_field)"
   ]
  },
  {
   "cell_type": "code",
   "execution_count": null,
   "id": "5ff78034-d15f-48b0-a573-5679841f747d",
   "metadata": {},
   "outputs": [],
   "source": [
    "result_file_path = os.path.join(os.path.dirname(retriver_out_path), \"gpt-4-1106-preview\",\n",
    "                               f'{data_name}_result_{task_name}_{topk}.jsonl')\n",
    "\n",
    "json.dump(result, open(result_file_path, 'w'))"
   ]
  },
  {
   "cell_type": "code",
   "execution_count": null,
   "id": "8f967129-a81a-4275-b654-cf0d5c463f7f",
   "metadata": {},
   "outputs": [],
   "source": [
    "response_file_path = os.path.join(os.path.dirname(retriver_out_path), \"gpt-4-1106-preview\",\n",
    "                               f'response_{task_name}_{topk}.jsonl')\n",
    "\n",
    "json.dump(response_list, open(response_file_path, 'w'))"
   ]
  },
  {
   "cell_type": "code",
   "execution_count": null,
   "id": "926e02ee-0493-4bf9-8e82-d439d66547e0",
   "metadata": {},
   "outputs": [],
   "source": [
    "usage = get_usage_info(id_)\n",
    "print(\n",
    "    f\"usage = {usage}\",\n",
    "    f\"price = {round(price_per_1m['prompt'] * usage['prompt_tokens']/1e6 + price_per_1m['completion'] * usage['completion_tokens']/1e6, 2)}$\",\n",
    "    sep='\\n'\n",
    ")"
   ]
  },
  {
   "cell_type": "markdown",
   "id": "c1576d3f-fe4a-4402-939b-b8ca8699b683",
   "metadata": {
    "jp-MarkdownHeadingCollapsed": true
   },
   "source": [
    "### Qald Property 100 "
   ]
  },
  {
   "cell_type": "code",
   "execution_count": null,
   "id": "7b26e783-5078-4b25-8731-80011a2b6b0e",
   "metadata": {},
   "outputs": [],
   "source": [
    "id_ = 'batch_67d409fd2fb08190864a022ee64f685d'\n",
    "check_batch(id_).status, check_batch(id_).request_counts"
   ]
  },
  {
   "cell_type": "code",
   "execution_count": null,
   "id": "d14ff756-643b-4d6f-aa10-f1100ccb4e62",
   "metadata": {},
   "outputs": [],
   "source": [
    "out_id_ = check_batch(id_).output_file_id\n",
    "response_list = get_response_batch(out_id_)\n",
    "result = get_result(eval_data, retriver_out, response_list, search_pattern=task_name)\n",
    "get_metrics(eval_data, response_list, search_pattern=task_name, gold_key=retr_field)"
   ]
  },
  {
   "cell_type": "code",
   "execution_count": null,
   "id": "196215f6-9d11-49b3-bbf2-3bab91598718",
   "metadata": {},
   "outputs": [],
   "source": [
    "result_file_path = os.path.join(os.path.dirname(retriver_out_path), \"gpt-4-1106-preview\",\n",
    "                               f'{data_name}_result_{task_name}_{topk}.jsonl')\n",
    "\n",
    "json.dump(result, open(result_file_path, 'w'))"
   ]
  },
  {
   "cell_type": "code",
   "execution_count": null,
   "id": "000c075c-1f78-4664-8d54-fbd05db9db40",
   "metadata": {},
   "outputs": [],
   "source": [
    "response_file_path = os.path.join(os.path.dirname(retriver_out_path), \"gpt-4-1106-preview\",\n",
    "                               f'response_{task_name}_{topk}.jsonl')\n",
    "\n",
    "json.dump(response_list, open(response_file_path, 'w'))"
   ]
  },
  {
   "cell_type": "code",
   "execution_count": null,
   "id": "607858a2-4ff2-4db2-97ac-168fff3a4637",
   "metadata": {},
   "outputs": [],
   "source": [
    "usage = get_usage_info(id_)\n",
    "print(\n",
    "    f\"usage = {usage}\",\n",
    "    f\"price = {round(price_per_1m['prompt'] * usage['prompt_tokens']/1e6 + price_per_1m['completion'] * usage['completion_tokens']/1e6, 2)}$\",\n",
    "    sep='\\n'\n",
    ")"
   ]
  },
  {
   "cell_type": "markdown",
   "id": "b29d2db2-5fb2-465e-8587-645a4261f1b2",
   "metadata": {
    "jp-MarkdownHeadingCollapsed": true
   },
   "source": [
    "### Qald Property 10 "
   ]
  },
  {
   "cell_type": "code",
   "execution_count": null,
   "id": "389eac20-23ad-48fb-992a-ce40b1b7e786",
   "metadata": {},
   "outputs": [],
   "source": [
    "id_ = 'batch_67d40bb8a3088190a1efb5ea07bd70ac'\n",
    "check_batch(id_).status, check_batch(id_).request_counts"
   ]
  },
  {
   "cell_type": "code",
   "execution_count": null,
   "id": "cbf65bbd-75d8-49fc-a2d0-363dd51b6030",
   "metadata": {},
   "outputs": [],
   "source": [
    "out_id_ = check_batch(id_).output_file_id\n",
    "response_list = get_response_batch(out_id_)\n",
    "result = get_result(eval_data, retriver_out, response_list, search_pattern=task_name)\n",
    "get_metrics(eval_data, response_list, search_pattern=task_name, gold_key=retr_field)"
   ]
  },
  {
   "cell_type": "code",
   "execution_count": null,
   "id": "bf1c205b-2075-4b33-ba76-8c46c2520b32",
   "metadata": {},
   "outputs": [],
   "source": [
    "result_file_path = os.path.join(os.path.dirname(retriver_out_path), \"gpt-4-1106-preview\",\n",
    "                               f'{data_name}_result_{task_name}_{topk}.jsonl')\n",
    "\n",
    "json.dump(result, open(result_file_path, 'w'))"
   ]
  },
  {
   "cell_type": "code",
   "execution_count": null,
   "id": "36b701cd-67ff-4c7f-8bd6-fd9e544fc5b8",
   "metadata": {},
   "outputs": [],
   "source": [
    "response_file_path = os.path.join(os.path.dirname(retriver_out_path), \"gpt-4-1106-preview\",\n",
    "                               f'response_{task_name}_{topk}.jsonl')\n",
    "\n",
    "json.dump(response_list, open(response_file_path, 'w'))"
   ]
  },
  {
   "cell_type": "code",
   "execution_count": null,
   "id": "be96f3ff-4ad3-420c-8d38-f033643b451b",
   "metadata": {},
   "outputs": [],
   "source": [
    "usage = get_usage_info(id_)\n",
    "print(\n",
    "    f\"usage = {usage}\",\n",
    "    f\"price = {round(price_per_1m['prompt'] * usage['prompt_tokens']/1e6 + price_per_1m['completion'] * usage['completion_tokens']/1e6, 2)}$\",\n",
    "    sep='\\n'\n",
    ")"
   ]
  },
  {
   "cell_type": "markdown",
   "id": "8113f7ae-92ac-4dc2-aa0f-7db96dcb68ae",
   "metadata": {
    "jp-MarkdownHeadingCollapsed": true
   },
   "source": [
    "## get error file"
   ]
  },
  {
   "cell_type": "code",
   "execution_count": null,
   "id": "cf015c1c-fd4e-439e-a0c8-119a9ba6b9b9",
   "metadata": {},
   "outputs": [],
   "source": [
    "client = openai.OpenAI(\n",
    "    api_key=os.environ.get(\"OPENAI_KEY\"),\n",
    ")\n",
    "file_response = client.files.content(check_batch('batch_67cacfcc55cc81909fae43bfc1f4fe2c').error_file_id)"
   ]
  },
  {
   "cell_type": "code",
   "execution_count": null,
   "id": "c5a64516-6684-4c9b-bd11-6eb6a4a1981d",
   "metadata": {
    "scrolled": true
   },
   "outputs": [],
   "source": [
    "file_response.text"
   ]
  },
  {
   "cell_type": "code",
   "execution_count": null,
   "id": "a36f434a-4842-439f-a560-5bc29ad4acbd",
   "metadata": {},
   "outputs": [],
   "source": [
    "client = openai.OpenAI(\n",
    "    api_key=os.environ.get(\"OPENAI_KEY\"),\n",
    ")"
   ]
  },
  {
   "cell_type": "code",
   "execution_count": null,
   "id": "92089a00-adc3-4250-82e2-13c67fc27ae7",
   "metadata": {
    "collapsed": true,
    "jupyter": {
     "outputs_hidden": true
    }
   },
   "outputs": [],
   "source": [
    "client.batches.cancel(\"batch_67cacfcc55cc81909fae43bfc1f4fe2c\")"
   ]
  }
 ],
 "metadata": {
  "kernelspec": {
   "display_name": "kernel_chatgptapi",
   "language": "python",
   "name": "kernel_chatgptapi"
  },
  "language_info": {
   "codemirror_mode": {
    "name": "ipython",
    "version": 3
   },
   "file_extension": ".py",
   "mimetype": "text/x-python",
   "name": "python",
   "nbconvert_exporter": "python",
   "pygments_lexer": "ipython3",
   "version": "3.13.2"
  }
 },
 "nbformat": 4,
 "nbformat_minor": 5
}
