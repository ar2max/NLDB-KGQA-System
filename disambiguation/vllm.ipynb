{
 "cells": [
  {
   "cell_type": "code",
   "execution_count": null,
   "id": "4a48e7b2-2501-430e-a17c-4bd9d9f44380",
   "metadata": {},
   "outputs": [],
   "source": [
    "import os\n",
    "import re\n",
    "import json\n",
    "import subprocess\n",
    "from tqdm import tqdm\n",
    "import pandas as pd\n",
    "import numpy as np\n",
    "import openai\n",
    "import random"
   ]
  },
  {
   "cell_type": "markdown",
   "id": "648f9fc9-d120-44c6-ae4e-8ad8fa58de63",
   "metadata": {},
   "source": [
    "## Prompts"
   ]
  },
  {
   "cell_type": "code",
   "execution_count": null,
   "id": "5bfa68ac",
   "metadata": {},
   "outputs": [],
   "source": [
    "FEW_SHOT_EXAMPLES_ENTS = \"\"\"\n",
    "                  EXAMPLE#1\n",
    "                   QUESTION: What does DiCaprio's full name sound like?\n",
    "                   CANDIDATE ENTITIES: \n",
    "                   Q116673393: Sibon irmelindicaprioae -- species of snake\n",
    "                    Q38111: Leonardo DiCaprio -- American actor and film producer (born 1974)\n",
    "                    Q11461: sound -- vibration that propagates as an acoustic wave\n",
    "                    Q36860035: DiCaprio -- family name\n",
    "                    Q25349951: Martin Scorsese and Leonardo DiCaprio -- collaborations\n",
    "                    Q56653813: DiCaprio 2 -- album by J.I.D\n",
    "                   RELEVANT ENTITIES: Q38111.\n",
    "                   \n",
    "                   \n",
    "                   EXAMPLE#2\n",
    "                   QUESTION: In which city near Moscow is the new Jerusalem monastery located?\n",
    "                    CANDIDATE ENTITIES: \n",
    "                    Q55502: Kingdom of Jerusalem -- medieval Christian kingdom in the Middle East\n",
    "                    Q773979: New Jerusalem Monastery -- monastery in Moscow Oblast, Russia\n",
    "                    Q1218: Jerusalem -- city in the Middle East, holy to the three Abrahamic religions\n",
    "                    Q649: Moscow -- capital and most populous city of Russia\n",
    "                    Q515: city -- large human settlement\n",
    "                    Q13164: Moscow State University -- university in Moscow, Russia\n",
    "                    Q6760: UTC+03:00 -- identifier for a time offset from UTC of +3\n",
    "                    Q10540001: Jerusalem -- family name                    \n",
    "                    RELEVANT ENTITIES: Q773979, Q649.\n",
    "\n",
    "                    \n",
    "                    EXAMPLE#3\n",
    "                    QUESTION: What capital stands on the banks of Potalaka?\n",
    "                    CANDIDATE ENTITIES: \n",
    "                    Q11626848: Mount Potalaka -- the mythical dwelling of the Buddhist bodhisattva Avalokiteśvara, said to exist in India\n",
    "                    Q22687: bank -- financial institution that accepts deposits\n",
    "                    Q60756888: Potalaka Guanyin -- sculpture by unknown artist (1965.556)\n",
    "                    Q179444: Potomac River -- river in the mid-Atlantic United States\n",
    "                    Q193893: capital -- upper part of a column (architecture)\n",
    "                    Q60: New York City -- most populous city in the United States\n",
    "                    Q5119: capital city -- primary governing city of a top-level (country) or first-level and second-level subdivision (country, state, province, regency, etc) political entity\n",
    "                    **Reasoning:**  \n",
    "                    - \"Capital\" refers to a **governing city**, not architectural elements (Q193893).  \n",
    "                    - \"Potalaka\" (Q11626848) is a **mythical** location, so no real-world capital is directly linked.  \n",
    "                    - Since no entity directly matches the question, **the most general applicable concept** is \"capital city\" (Q5119).\n",
    "                    RELEVANT ENTITIES: Q179444, Q5119.\n",
    "                    \n",
    "                    \n",
    "                    EXAMPLE#4 \n",
    "                    QUESTION: What is the official language of Brazil?  \n",
    "                    CANDIDATE ENTITIES:  \n",
    "                    Q750553: Spanish language -- Romance language originating in Spain  \n",
    "                    Q5146: Portuguese language -- Romance language, official in Portugal and Brazil  \n",
    "                    Q155: Brazil -- country in South America  \n",
    "                    Q483110: Brasília -- capital city of Brazil\n",
    "                    **Reasoning**:  \n",
    "                    - \"Official language\" refers to the main language used for governance.  \n",
    "                    - The description of Q5146 explicitly states it is official in Brazil.  \n",
    "                    - Q750553 (Spanish) is incorrect because it is **not** the official language.  \n",
    "                    - Q155 and Q483110 are related but not **languages**. \n",
    "                    RELEVANT ENTITIES: Q5146.  \n",
    "\n",
    "                    EXAMPLE#5\n",
    "                    QUESTION: What city was Karl Marx born in?\n",
    "                    CANDIDATE ENTITIES:\n",
    "                    Q61412: Eleanor Marx -- English-born activist and daughter of Karl Marx (1855–1898)\n",
    "                    Q105367341: Karl Marx -- Holocaust victim (born 1890)\n",
    "                    Q9061: Karl Marx -- German-born philosopher (1818–1883)\n",
    "                    Q26828710: Karl Marx City -- 2016 film directed by Michael Tucker and Petra Epperlein\n",
    "                    Q3138: Trier -- city in Rhineland-Palatinate, Germany\n",
    "                    **Reasoning**:\n",
    "                    - \"born in\" refers to a some person, not other objects like films or cities\n",
    "                    - there is no information which can help us with a choice of people with similar names\n",
    "                    - Q9061 is much more popular that Q105367341 - so we will choose it\n",
    "                    - Q3138 seems to be a ANSWER to the QUESTION, but not an ENTITY mentioned in QUESTION - we reject it\n",
    "                    RELEVANT ENTITIES: Q9061.  \n",
    "\"\"\"\n",
    "\n",
    "SYSTEM_PROMPT_ENTS = f\"\"\"You are an experienced WikiData user. \n",
    "                   You receive a QUESTION and a SET of extracted Wikidata CANDIDATE ENTITIES, retrieved from an index based on similarity between the QUESTION and the ENTITY. \n",
    "                   Each entity has a wikidata ID, label and description in a form of Wikidata ID: label -- description. \n",
    "                   Your task is to select only the most semantically relevant entities based on their labels and descriptions.\n",
    "                   \n",
    "                   Instruction:\n",
    "                    -- Do not answer the question - you don't need find an entity representing an answer, you need to find an entities mentioned in that qustion.\n",
    "                    -- Ignore entities that are loosely related, homonyms, or have indirect contextual links to the QUESTION.\n",
    "                    -- If no entity perfectly matches the question, select the best available entity based on contextual closeness.\n",
    "                    -- If multiple entities seem relevant, prefer those with a stronger direct connection to the query subject.\n",
    "                    -- If there are ambiguous entities that relate to the different countries, ALWAYS choose the entity that is related to Russia, based on description.\n",
    "                    -- Some questions may have multiple correct entities. Return all entities that are directly relevant. Do NOT include entities that are only indirectly related (e.g., broad categories like 'city' instead of a specific location).\n",
    "                    -- DO NOT reject entity, if it fits to the entity mentioned in query, but DOES NOT DIRECTLY answer the question.\n",
    "                    -- Always include reasoning in the beginning of the responce.\n",
    "                    -- Always place \"RELEVANT ENTITIES: ...\" at the end of your response.\n",
    "\n",
    "                   Here are examples:\n",
    "                   {FEW_SHOT_EXAMPLES_ENTS}\n",
    "                   \"\"\"\n",
    "\n",
    "USER_PROMPT_ENTS = \"\"\"QUESTION: {question}\\nCANDIDATE ENTITIES:\\n{candidate_list_str}\"\"\""
   ]
  },
  {
   "cell_type": "code",
   "execution_count": null,
   "id": "371f2070-9e7d-4a03-a910-9276fce3419d",
   "metadata": {},
   "outputs": [],
   "source": [
    "FEW_SHOT_EXAMPLES_PROP = \"\"\"\n",
    "                    EXAMPLE#1\n",
    "                    QUESTION: How much does Nurmagomedov weigh?\n",
    "                    CANDIDATE PROPERTIES:\n",
    "                    P166: award received -- award or recognition received by a person, organization or creative work\n",
    "                    P54: member of sports team -- sports teams or clubs that the subject represents or represented\n",
    "                    P1082: population -- number of people inhabiting the place; number of people of subject\n",
    "                    P1351: number of points/goals/set scored -- goals / points scored in a match or an event used as qualifier to the participant. Use P1358 for league points.\n",
    "                    P1350: number of matches played/races/starts -- matches or games a player or a team played during an event. Also a total number of matches a player officially appeared in during the whole career.\n",
    "                    P2121: prize money -- amount in a specific currency\n",
    "                    P585: point in time -- date something took place, existed or a statement was true; for providing time use the \"refine date\" property (P4241)\n",
    "                    P2067: mass -- mass (in colloquial usage also known as weight) of the item\n",
    "                    P1412: languages spoken, written or signed -- language(s) that a person or a people speaks, writes or signs, including the native language(s)\n",
    "                    P2046: area -- area occupied by an object\n",
    "                    RELEVANT PROPERTIES: P2067\n",
    "\n",
    "\n",
    "                    EXAMPLE#2\n",
    "                    QUESTION: Where is the Academy of Sciences of Armenia located\n",
    "                    CANDIDATE PROPERTIES:\n",
    "                    P463: member of -- organization, club or musical group to which the subject belongs. Do not use for membership in ethnic or social groups, nor for holding a political position, such as a member of parliament (use P39 for that)\n",
    "                    P31: instance of -- that class of which this subject is a particular example and member; different from P279 (subclass of); for example: K2 is an instance of mountain; volcano is a subclass of mountain (and an instance of volcanic landform)\n",
    "                    P19: place of birth -- most specific known birth location of a person, animal or fictional character\n",
    "                    P580: start time -- time an entity begins to exist or a statement starts being valid\n",
    "                    P582: end time -- moment when an entity ceases to exist or a statement stops being valid\n",
    "                    P69: educated at -- educational institution attended by subject\n",
    "                    P159: headquarters location -- city or town where an organization's headquarters is or has been situated. Use P276 qualifier for specific building\n",
    "                    P585: point in time -- date something took place, existed or a statement was true; for providing time use the \"refine date\" property (P4241)\n",
    "                    RELEVANT PROPERTIES: P159\n",
    "\n",
    "\n",
    "                    EXAMPLE#3\n",
    "                    QUESTION: What is the singing voice of Dmitri Hvorostovsky?\n",
    "                    CANDIDATE PROPERTIES:\n",
    "                    P412: voice type -- person's voice type. expected values: soprano, mezzo-soprano, contralto, countertenor, tenor, baritone, bass (and derivatives)\n",
    "                    P725: voice actor -- performer of a spoken role in a creative work such as animation, video game, radio drama, or dubbing over [use \"character role\" (P453) as qualifier] [use \"cast member\" (P161) for live acting]\n",
    "                    P175: performer -- actor, musician, band or other performer associated with this role or musical work\n",
    "                    P453: character role -- specific role played or filled by subject -- use only as qualifier of \"cast member\" (P161), \"voice actor\" (P725)\n",
    "                    P179: part of the series -- series which contains the subject\n",
    "                    P674: characters -- characters which appear in this item (like plays, operas, operettas, books, comics, films, TV series, video games)\n",
    "                    P1441: present in work -- this (fictional or fictionalized) entity, place, or person appears in that work as part of the narration (use P2860 for works citing other works, P361/P1433 for works being part of other works, P1343 for entities described in non-fictional accounts)\n",
    "                    **Reasoning:** \n",
    "                    - the question asks about voice's characteristics of some person\n",
    "                    - P412 is relevant, because it's a property described a voice type, which is voice's characteristic\n",
    "                    - P725, P175, P674 represent properties described a person role in something, not related to voice\n",
    "                    - other properties also represent something not similar to voice \n",
    "                    RELEVANT PROPERTIES: P412\n",
    "                   \n",
    "                   \n",
    "                    EXAMPLE#4\n",
    "                    QUESTION: Who was S. V. Mikhalkov's co-author in writing the text of the anthem of the Soviet Union?\n",
    "                    CANDIDATE PROPERTIES:\n",
    "                    P31: instance of -- that class of which this subject is a particular example and member; different from P279 (subclass of); for example: K2 is an instance of mountain; volcano is a subclass of mountain (and an instance of volcanic landform)\n",
    "                    P86: composer -- person(s) who wrote the music [for lyricist, use \"lyrics by\" (P676)]\n",
    "                    P1412: languages spoken, written or signed -- language(s) that a person or a people speaks, writes or signs, including the native language(s)\n",
    "                    P92: main regulatory text -- text setting the main rules by which the subject is regulated\n",
    "                    P50: author -- main creator(s) of a written work (use on works, not humans); use P2093 (author name string) when Wikidata item is unknown or does not exist\n",
    "                    P155: follows -- immediately prior item in a series of which the subject is a part, preferably use as qualifier of P179 [if the subject has replaced the preceding item, e.g. political offices, use \"replaces\" (P1365)]\n",
    "                    P676: lyricist -- author of song lyrics\n",
    "                    **Reasoning:** \n",
    "                    - the question asks about an co-author of a some national anthem's text, not the music itself!\n",
    "                    - description of P676 makes it clear that it represent \"author of song lyrics\" - that's what we needed\n",
    "                    - P31's description is too general and not correspond to songs's author\n",
    "                    - P86, P50 are close, but they describe a composer/author of written work, not a lyrics writer\n",
    "                    - other properties also describe something another than lyric's writer\n",
    "                    RELEVANT PROPERTIES: P676\n",
    "\n",
    "\n",
    "                    EXAMPLE#5\n",
    "                    QUESTION: In which country did the great Russian chess player Alexander Alekhine end his life?\n",
    "                    CANDIDATE PROPERTIES:\n",
    "                    P20: place of death -- most specific known (e.g. city instead of country, or hospital instead of city) death location of a person, animal or fictional character\n",
    "                    P27: country of citizenship -- the object is a country that recognizes the subject as its citizen\n",
    "                    P582: end time -- moment when an entity ceases to exist or a statement stops being valid\n",
    "                    P31: instance of -- that class of which this subject is a particular example and member; different from P279 (subclass of); for example: K2 is an instance of mountain; volcano is a subclass of mountain (and an instance of volcanic landform)\n",
    "                    P276: location -- location of the object, structure or event. In the case of an administrative entity as containing item use P131. For statistical entities use P8138. In the case of a geographic entity use P706. Use P7153 for locations associated with the object\n",
    "                    P26: spouse -- the subject has the object as their spouse (husband, wife, partner, etc.). Use \"unmarried partner\" (P451) for non-married companions\n",
    "                    P17: country -- sovereign state that this item is in (not to be used for human beings)\n",
    "                    P39: position held -- subject currently or formerly holds the object position or public office\n",
    "                    P580: start time -- time an entity begins to exist or a statement starts being valid\n",
    "                    P19: place of birth -- most specific known birth location of a person, animal or fictional character\n",
    "                    **Reasoning:**\n",
    "                    - the question asks about location of somebody's death and it's country where it happened\n",
    "                    - in the candidates we can clearly see P20 and P17, which respresent **place of death** and **contry**\n",
    "                    - P276 and P582 are close, but too common for this QUESTION\n",
    "                    - other has no relation to QUESTION's PROPERTIES\n",
    "                    RELEVANT PROPERTIES: P20, P17\n",
    "\"\"\"\n",
    "\n",
    "SYSTEM_PROMPT_PROP = f\"\"\"You are an experienced WikiData user. \n",
    "                   You receive a QUESTION and a SET of extracted Wikidata CANDIDATE PROPERTIES, retrieved from an index based on similarity between the QUESTION and the PROPERTY. \n",
    "                   Each property has a wikidata ID, label and description in a form of Wikidata ID: label -- description. \n",
    "                   Your task is to select only the most semantically relevant properties based on their labels and descriptions.\n",
    "                   \n",
    "                   Instruction:\n",
    "                    -- Ignore properties that are loosely related, homonyms, or have indirect contextual links to the QUESTION.\n",
    "                    -- If no property perfectly matches the question, select the best available property based on contextual closeness.\n",
    "                    -- If multiple properties seem relevant, prefer those with a stronger direct connection to the query subject.\n",
    "                    -- Some questions may have multiple correct properties. Return all properties that are directly relevant. \n",
    "                    -- Always include reasoning in the beginning of the responce.\n",
    "                    -- Always place \"RELEVANT PROPERTIES: ...\" at the end of your response.\n",
    "\n",
    "                   Here are examples:\n",
    "                   {FEW_SHOT_EXAMPLES_PROP}\n",
    "                   \"\"\"\n",
    "\n",
    "USER_PROMPT_PROP = \"\"\"QUESTION: {question}\\nCANDIDATE PROPERTIES:\\n{candidate_list_str}\"\"\""
   ]
  },
  {
   "cell_type": "markdown",
   "id": "c0aa24ff-c0e9-410c-97b0-6e6dc26eceb3",
   "metadata": {},
   "source": [
    "## Functions"
   ]
  },
  {
   "cell_type": "code",
   "execution_count": null,
   "id": "5e9996c2-88db-436f-a75d-1646bb273956",
   "metadata": {},
   "outputs": [],
   "source": [
    "'''\n",
    "Prompt and Preprocessing Functions\n",
    "'''\n",
    "\n",
    "def get_default(dic, field, default=''):\n",
    "    return dic[field] if field in dic else default\n",
    "\n",
    "    \n",
    "def prepare_candidates(sample, retriever_output):    \n",
    "    sample_id = sample['id']\n",
    "    # relevant_ids = list(sample['id2alias'].keys())\n",
    "    retrived_cands = retriever_output[str(sample_id)]\n",
    "    retrived_ids = retrived_cands.keys()\n",
    "    retrived_ids = list(filter(lambda x: x is not None, retrived_ids))\n",
    "    \n",
    "    candidates_set = list(set(retrived_ids\n",
    "                              # + relevant_ids\n",
    "                             ))\n",
    "    # HERE I DO SHUFFLING, SINCE I DO NOT KNOW THE ORDER FROM RETRIEVER\n",
    "    random.shuffle(candidates_set)\n",
    "    \n",
    "    entities_list = [f\"{key}: {get_default(retrived_cands[key], 'label')} -- {get_default(retrived_cands[key], 'description')}\" for key in retrived_ids]\n",
    "    entities_str = \"\\n\".join(entities_list)\n",
    "    return entities_str\n",
    "        \n",
    "\n",
    "def construct_user_prompt(sample, retriever_output, user_prompt):\n",
    "    question = sample['en_question']\n",
    "    candidates_set_string = prepare_candidates(sample, retriever_output)\n",
    "    user_prompt = user_prompt.format(question=question, candidate_list_str=candidates_set_string)\n",
    "    return user_prompt"
   ]
  },
  {
   "cell_type": "code",
   "execution_count": null,
   "id": "d1319c85-9dcd-4466-994b-addaeacf298e",
   "metadata": {},
   "outputs": [],
   "source": [
    "'''\n",
    "Run OpenAI Functions\n",
    "'''\n",
    "def run_sample_with_openai(sample, retriever_output, system_prompt, user_prompt):\n",
    "    user_prompt = construct_user_prompt(sample, retriever_output, user_prompt)\n",
    "    \n",
    "    response = client.chat.completions.create(\n",
    "        model=vllm_model_name,\n",
    "        messages=[\n",
    "            {\"role\": \"system\", \"content\": system_prompt},\n",
    "            {\"role\": \"user\", \"content\": user_prompt}\n",
    "        ],\n",
    "        temperature=0,   # Reduce randomness for consistent entity selection\n",
    "        max_tokens=4000,  # Adjust if the response is cut off\n",
    "        top_p=1,         # Avoid sampling randomness\n",
    "        frequency_penalty=0,  \n",
    "        presence_penalty=0  \n",
    "    )\n",
    "    \n",
    "    return response.choices[0].message.content"
   ]
  },
  {
   "cell_type": "code",
   "execution_count": null,
   "id": "78a57a4d-8009-4604-9608-1b90473801e6",
   "metadata": {},
   "outputs": [],
   "source": [
    "'''\n",
    "Eval Functions\n",
    "'''\n",
    "def extract_wikidata_ids(text, search_pattern):\n",
    "    pattern = search_pattern + r\"\\s*([\\w, ]+)\"   \n",
    "    text = text.replace('*','')\n",
    "    match = re.search(pattern, text)\n",
    "    \n",
    "    if match:\n",
    "        # Extract the IDs and return them as a list\n",
    "        wikidata_ids = match.group(1).split(', ')\n",
    "        return wikidata_ids\n",
    "    else:\n",
    "        return []\n",
    "        \n",
    "# RELEVANT ENTITIES: / RELEVANT PROPERTIES:\n",
    "def parse_responce(responce_str, search_pattern):\n",
    "    if search_pattern == 'entity':\n",
    "        search_pattern = 'RELEVANT ENTITIES:'\n",
    "    elif search_pattern == 'property':\n",
    "        search_pattern = 'RELEVANT PROPERTIES:'\n",
    "    else:\n",
    "        raise Exception('Choose correct seacrh pattern')\n",
    "    \n",
    "    # parse main case\n",
    "    if search_pattern in responce_str:\n",
    "        wikidata_ids = extract_wikidata_ids(responce_str, search_pattern)\n",
    "        return wikidata_ids\n",
    "    # I hope there are no other cases, but still -- better to ch\n",
    "    else:\n",
    "        return None\n",
    "\n",
    "\n",
    "def get_metrics(eval_data, response_data, search_pattern, gold_key):\n",
    "\n",
    "    assert len(eval_data) == len(response_data)\n",
    "    get_gold = lambda x: x[gold_key]['query'].keys()\n",
    "    \n",
    "    overall_precision, overall_recall, overall_f1 = 0, 0, 0\n",
    "    failed_examples = []\n",
    "    error_generations, incomplete_generation = [], []\n",
    "    false_positive_generations = []\n",
    "    for idx, pair in enumerate(zip(eval_data, response_data)):\n",
    "        sample, gpt_response = pair\n",
    "        extracted_candidates = parse_responce(gpt_response, search_pattern)\n",
    "\n",
    "        gold_ids = get_gold(sample)\n",
    "        \n",
    "        if extracted_candidates:\n",
    "            true_positives = set(extracted_candidates) & set(gold_ids)\n",
    "    \n",
    "            precision = len(true_positives) / len(extracted_candidates) if extracted_candidates else 0.0\n",
    "            if precision == 0:\n",
    "                false_positive_generations.append([idx, gpt_response, gold_ids])\n",
    "    \n",
    "            # Recall: Proportion of gold entities that are correctly predicted\n",
    "            recall = len(true_positives) / len(gold_ids) if gold_ids else 0.0\n",
    "            if recall == 0:\n",
    "                error_generations.append([idx, gpt_response, gold_ids])\n",
    "            if recall != 1:\n",
    "                incomplete_generation.append([idx, gpt_response, gold_ids])\n",
    "    \n",
    "            # F1-Score: Harmonic mean of Precision and Recall\n",
    "            f1 = 2 * (precision * recall) / (precision + recall) if precision + recall > 0 else 0.0\n",
    "    \n",
    "            overall_precision += precision\n",
    "            overall_recall += recall\n",
    "            overall_f1 += f1\n",
    "        else:\n",
    "            failed_examples.append(gpt_response)\n",
    "        \n",
    "    overall_precision /= len(response_data)\n",
    "    overall_recall /= len(response_data)\n",
    "    overall_f1 /= len(response_data)\n",
    "    \n",
    "    print('Precision: ', overall_precision)\n",
    "    print('Recall: ', overall_recall)\n",
    "    print('F1: ', overall_f1)\n",
    "\n",
    "\n",
    "def get_result(data, retriver_output, response_arr, search_pattern):\n",
    "    result = {}\n",
    "    for idx, pair in enumerate(zip(data, response_arr)):\n",
    "        sample, gpt_response = pair\n",
    "        extracted_candidates = parse_responce(gpt_response, search_pattern)\n",
    "        uid = str(sample['id'])\n",
    "        result[uid] = {\n",
    "            'question_eng': sample['en_question'],\n",
    "            'query': sample['query'],\n",
    "            'candidates': {cand: retriver_output[uid][cand]['label']\n",
    "                           for cand in extracted_candidates if cand in retriver_output[uid]} if extracted_candidates else {}\n",
    "        }\n",
    "    return result\n",
    "\n",
    "\n",
    "'''\n",
    "Test Functions\n",
    "'''\n",
    "def test_prompt(data, retriever_output, user_prompt, idx):\n",
    "    sample = data[idx]\n",
    "    print('SPARQL: ', sample['query'])\n",
    "    print()\n",
    "    result_user_prompt = construct_user_prompt(sample, retriever_output, user_prompt)\n",
    "    print(result_user_prompt[:])\n",
    "\n",
    "\n",
    "def test_openai(data, retriver_output, system_prompt, user_prompt, idx):\n",
    "    sample = data[idx]\n",
    "    print('QUESTION: ', sample['en_question'])\n",
    "    print('SPARQL: ', sample['query'])\n",
    "    \n",
    "    openai_responce = run_sample_with_openai(sample, retriver_output, system_prompt, user_prompt)\n",
    "    print()\n",
    "    print(openai_responce)"
   ]
  },
  {
   "cell_type": "markdown",
   "id": "f029c0fe-8997-42a9-a318-12cf908db7bc",
   "metadata": {},
   "source": [
    "## Run VLLm Server"
   ]
  },
  {
   "cell_type": "markdown",
   "id": "a51e52eb-20ff-4056-8e40-c6dd07131d8c",
   "metadata": {},
   "source": [
    "__Запуск VLLm-сервера__\n",
    "- `export VLLM_USE_V1=0`\n",
    "- `vllm serve <model_name> --task generate --port 8000 --tensor-parallel-size <gpu_amount> --trust-remote-code`"
   ]
  },
  {
   "cell_type": "markdown",
   "id": "9ebb4334-9a8b-4cda-b294-85b0a3e8afb6",
   "metadata": {},
   "source": [
    "vllm serve deepseek-ai/DeepSeek-R1-Distill-Llama-70B --task generate --port 8000 --tensor-parallel-size 8 --trust-remote-code"
   ]
  },
  {
   "cell_type": "markdown",
   "id": "687a28a1-f34c-4894-a166-5ea8897bc035",
   "metadata": {},
   "source": [
    "Сейчас запуск на:\n",
    "- microsoft/Phi-3-mini-128k-instruct - 8GPU - 4B+128k\n",
    "- deepseek-ai/DeepSeek-R1-Distill-Llama-70B - при VLLM_USE_V1=1 - 8GPU - 70B+128k"
   ]
  },
  {
   "cell_type": "code",
   "execution_count": null,
   "id": "f3c19f6c-f5f8-4dbe-b0d2-527409376002",
   "metadata": {},
   "outputs": [],
   "source": [
    "# идем и запускаем сервак\n",
    "\n",
    "openai_api_key = \"EMPTY\"\n",
    "openai_api_base = \"http://localhost:8000/v1\"\n",
    "\n",
    "result_vllm = subprocess.run(['curl','http://localhost:8000/v1/models'], stdout=subprocess.PIPE)\n",
    "vllm_server_info = eval(result_vllm.stdout.decode(\"utf-8\").replace('null', 'None').replace('false', 'False').replace('true', 'True'))\n",
    "vllm_model_name = vllm_server_info['data'][0]['id']\n",
    "\n",
    "vllm_model_name, vllm_server_info"
   ]
  },
  {
   "cell_type": "code",
   "execution_count": null,
   "id": "32676ebd-ab97-4951-b68f-9ef827147016",
   "metadata": {},
   "outputs": [],
   "source": [
    "client = openai.OpenAI(\n",
    "    api_key=openai_api_key,\n",
    "    base_url=openai_api_base,\n",
    ")"
   ]
  },
  {
   "cell_type": "markdown",
   "id": "cd08bd23-3430-4064-9684-c2fd86ee7695",
   "metadata": {},
   "source": [
    "## Data"
   ]
  },
  {
   "cell_type": "code",
   "execution_count": null,
   "id": "23f6a274-805e-4741-9eb0-b74073a23dbc",
   "metadata": {},
   "outputs": [],
   "source": [
    "task_name = 'property' # entity / property\n",
    "data_name = 'pat'\n",
    "retriver_out_path = 'data/retriver_out/pat/pat_test_predicates_retrieval_new.json'\n",
    "data_path = 'data/preprocessed/pat/pat_test_new.json'\n",
    "topk = 10\n",
    "\n",
    "retriver_out = json.load(open(retriver_out_path))\n",
    "retriver_out = {k: dict(list(v.items())[:topk]) for k, v in retriver_out.items()}\n",
    "\n",
    "data = json.load(open(data_path))['dataset']\n",
    "eval_data = [sample for sample in data if str(sample['id']) in retriver_out]\n",
    "\n",
    "if task_name == 'entity':\n",
    "    SYSTEM_PROMPT = SYSTEM_PROMPT_ENTS\n",
    "    USER_PROMPT = USER_PROMPT_ENTS\n",
    "    retr_field = 'entities'\n",
    "elif task_name == 'property':\n",
    "    SYSTEM_PROMPT = SYSTEM_PROMPT_PROP\n",
    "    USER_PROMPT = USER_PROMPT_PROP\n",
    "    retr_field = 'relations'\n",
    "else:\n",
    "    raise Exception('Choose correct task_name')\n",
    "\n",
    "print(\n",
    "    f'len(data) = {len(data)}', \n",
    "    f'len(eval) = {len(eval_data)}',\n",
    "    f'retr {topk} = {np.mean([len(\n",
    "        set(x[retr_field]['query'].keys()) & \n",
    "        set(retriver_out[str(x['id'])])\n",
    "    ) > 0 for x in eval_data])}',\n",
    "    sep='\\n'\n",
    ")"
   ]
  },
  {
   "cell_type": "markdown",
   "id": "598794e6-b186-403a-a5c0-a3a03b32d4c4",
   "metadata": {},
   "source": [
    "## Inference VLLm"
   ]
  },
  {
   "cell_type": "code",
   "execution_count": null,
   "id": "32dc02d9-ac88-4084-b996-a09c577e1866",
   "metadata": {},
   "outputs": [],
   "source": [
    "test_prompt(eval_data, retriver_out, USER_PROMPT, 102)"
   ]
  },
  {
   "cell_type": "code",
   "execution_count": null,
   "id": "02c608c0-55f2-40e5-9308-8804fc4941c3",
   "metadata": {},
   "outputs": [],
   "source": [
    "idx = 44 #100\n",
    "test_openai(eval_data, retriver_out, SYSTEM_PROMPT, USER_PROMPT, idx)"
   ]
  },
  {
   "cell_type": "code",
   "execution_count": null,
   "id": "29c06be4-da99-4086-957b-34bbcc95dcf5",
   "metadata": {},
   "outputs": [],
   "source": [
    "get_gold = lambda x: x[retr_field]['query'].keys()"
   ]
  },
  {
   "cell_type": "code",
   "execution_count": null,
   "id": "ce4a04d9-e96d-48ca-a8ef-6221b0fdf65c",
   "metadata": {},
   "outputs": [],
   "source": [
    "get_gold(eval_data[idx])"
   ]
  },
  {
   "cell_type": "code",
   "execution_count": null,
   "id": "c8cc248d-012c-4622-baf7-b19fe80b1944",
   "metadata": {},
   "outputs": [],
   "source": [
    "parse_responce(run_sample_with_openai(eval_data[idx], retriver_out, SYSTEM_PROMPT, USER_PROMPT), task_name)"
   ]
  },
  {
   "cell_type": "markdown",
   "id": "5b947fb8-5047-4c1b-9da0-aa8b442c6d13",
   "metadata": {
    "jp-MarkdownHeadingCollapsed": true
   },
   "source": [
    "## microsoft/Phi-3-mini-128k-instruct"
   ]
  },
  {
   "cell_type": "markdown",
   "id": "7d86411e-7dd8-4013-b237-6b19773d033d",
   "metadata": {
    "jp-MarkdownHeadingCollapsed": true
   },
   "source": [
    "### Rubq Entity 100"
   ]
  },
  {
   "cell_type": "code",
   "execution_count": null,
   "id": "386310b3-430a-45a0-8650-56df3b592b25",
   "metadata": {
    "scrolled": true
   },
   "outputs": [],
   "source": [
    "responce_list = []\n",
    "for i in tqdm(range(len(eval_data[:]))):\n",
    "    sample = eval_data[i]\n",
    "    result = run_sample_with_openai(sample, retriver_out, SYSTEM_PROMPT, USER_PROMPT)\n",
    "    responce_list.append(result)"
   ]
  },
  {
   "cell_type": "code",
   "execution_count": null,
   "id": "0c6d1d6d-7ae9-4c22-91ba-67599c27857a",
   "metadata": {},
   "outputs": [],
   "source": [
    "result = get_result(eval_data, retriver_out, responce_list, search_pattern=task_name)\n",
    "get_metrics(eval_data, responce_list, search_pattern=task_name, gold_key=retr_field)"
   ]
  },
  {
   "cell_type": "code",
   "execution_count": null,
   "id": "41357427-d938-4b3a-8840-9a13bd84b18b",
   "metadata": {
    "scrolled": true
   },
   "outputs": [],
   "source": [
    "result_file_path = os.path.join(os.path.dirname(retriver_out_path), vllm_model_name.split('/')[-1],\n",
    "                                f'{data_name}_result_{task_name}_{topk}.json')\n",
    "\n",
    "if not os.path.exists(os.path.dirname(result_file_path)):\n",
    "    os.makedirs(os.path.dirname(result_file_path))\n",
    "\n",
    "json.dump(result, open(result_file_path, 'w'))"
   ]
  },
  {
   "cell_type": "markdown",
   "id": "7c71dadc-271e-465a-a57d-cf326daf7df5",
   "metadata": {
    "jp-MarkdownHeadingCollapsed": true
   },
   "source": [
    "### Rubq Entity 10"
   ]
  },
  {
   "cell_type": "code",
   "execution_count": null,
   "id": "ad10463e-0810-4bd5-b54e-291548b7b336",
   "metadata": {},
   "outputs": [],
   "source": [
    "responce_list = []\n",
    "for i in tqdm(range(len(eval_data[:]))):\n",
    "    sample = eval_data[i]\n",
    "    result = run_sample_with_openai(sample, retriver_out, SYSTEM_PROMPT, USER_PROMPT)\n",
    "    responce_list.append(result)"
   ]
  },
  {
   "cell_type": "code",
   "execution_count": null,
   "id": "f128f453-09e5-4e66-8242-012d62515ccd",
   "metadata": {},
   "outputs": [],
   "source": [
    "result = get_result(eval_data, retriver_out, responce_list, search_pattern=task_name)\n",
    "get_metrics(eval_data, responce_list, search_pattern=task_name, gold_key=retr_field)"
   ]
  },
  {
   "cell_type": "code",
   "execution_count": null,
   "id": "4d7ad6fe-04c9-4173-8cd9-d1fa843917ba",
   "metadata": {},
   "outputs": [],
   "source": [
    "result_file_path = os.path.join(os.path.dirname(retriver_out_path), vllm_model_name.split('/')[-1],\n",
    "                                f'{data_name}_result_{task_name}_{topk}.json')\n",
    "\n",
    "if not os.path.exists(os.path.dirname(result_file_path)):\n",
    "    os.makedirs(os.path.dirname(result_file_path))\n",
    "\n",
    "json.dump(result, open(result_file_path, 'w'))"
   ]
  },
  {
   "cell_type": "markdown",
   "id": "27f3888e-78a0-4917-8364-d89effe8201a",
   "metadata": {
    "jp-MarkdownHeadingCollapsed": true
   },
   "source": [
    "### Rubq Property 100"
   ]
  },
  {
   "cell_type": "code",
   "execution_count": null,
   "id": "204ad0b6-5159-4f5e-9be2-6eaa80a1d387",
   "metadata": {},
   "outputs": [],
   "source": [
    "responce_list = []\n",
    "for i in tqdm(range(len(eval_data[:]))):\n",
    "    sample = eval_data[i]\n",
    "    result = run_sample_with_openai(sample, retriver_out, SYSTEM_PROMPT, USER_PROMPT)\n",
    "    responce_list.append(result)"
   ]
  },
  {
   "cell_type": "code",
   "execution_count": null,
   "id": "bf7d5be5-8881-47b8-808c-6ea09ae592c7",
   "metadata": {},
   "outputs": [],
   "source": [
    "result = get_result(eval_data, retriver_out, responce_list, search_pattern=task_name)\n",
    "get_metrics(eval_data, responce_list, search_pattern=task_name, gold_key=retr_field)"
   ]
  },
  {
   "cell_type": "code",
   "execution_count": null,
   "id": "2d46be2c-6ec7-40a8-8001-75158365f173",
   "metadata": {},
   "outputs": [],
   "source": [
    "result_file_path = os.path.join(os.path.dirname(retriver_out_path), vllm_model_name.split('/')[-1],\n",
    "                                f'{data_name}_result_{task_name}_{topk}.json')\n",
    "\n",
    "if not os.path.exists(os.path.dirname(result_file_path)):\n",
    "    os.makedirs(os.path.dirname(result_file_path))\n",
    "\n",
    "json.dump(result, open(result_file_path, 'w'))"
   ]
  },
  {
   "cell_type": "markdown",
   "id": "b6192de2-a699-408e-a9da-100405ce1fba",
   "metadata": {
    "jp-MarkdownHeadingCollapsed": true
   },
   "source": [
    "### Rubq Property 10"
   ]
  },
  {
   "cell_type": "code",
   "execution_count": null,
   "id": "349d21ab-b824-4f51-8c5d-1aedbcbe93fa",
   "metadata": {},
   "outputs": [],
   "source": [
    "responce_list = []\n",
    "for i in tqdm(range(len(eval_data[:]))):\n",
    "    sample = eval_data[i]\n",
    "    result = run_sample_with_openai(sample, retriver_out, SYSTEM_PROMPT, USER_PROMPT)\n",
    "    responce_list.append(result)"
   ]
  },
  {
   "cell_type": "code",
   "execution_count": null,
   "id": "e1b57581-d399-454d-8f1b-4e59e902aa4a",
   "metadata": {},
   "outputs": [],
   "source": [
    "result = get_result(eval_data, retriver_out, responce_list, search_pattern=task_name)\n",
    "get_metrics(eval_data, responce_list, search_pattern=task_name, gold_key=retr_field)"
   ]
  },
  {
   "cell_type": "code",
   "execution_count": null,
   "id": "0852bb85-f518-4b3c-a256-fb98e38f34ca",
   "metadata": {},
   "outputs": [],
   "source": [
    "result_file_path = os.path.join(os.path.dirname(retriver_out_path), vllm_model_name.split('/')[-1],\n",
    "                                f'{data_name}_result_{task_name}_{topk}.json')\n",
    "\n",
    "if not os.path.exists(os.path.dirname(result_file_path)):\n",
    "    os.makedirs(os.path.dirname(result_file_path))\n",
    "\n",
    "json.dump(result, open(result_file_path, 'w'))"
   ]
  },
  {
   "cell_type": "markdown",
   "id": "03dbb52a-a0b5-46b8-b8c8-ce6e07c3dcd5",
   "metadata": {},
   "source": [
    "## deepseek-ai/DeepSeek-R1-Distill-Llama-70B"
   ]
  },
  {
   "cell_type": "markdown",
   "id": "433b4507-aeb3-4446-929e-5ad14a5ffed5",
   "metadata": {
    "jp-MarkdownHeadingCollapsed": true
   },
   "source": [
    "### Rubq Entity 100"
   ]
  },
  {
   "cell_type": "code",
   "execution_count": null,
   "id": "c4158bfb-d9ce-45ff-b80f-49771ae136ed",
   "metadata": {},
   "outputs": [],
   "source": [
    "responce_list = []\n",
    "for i in tqdm(range(len(eval_data[:]))):\n",
    "    sample = eval_data[i]\n",
    "    result = run_sample_with_openai(sample, retriver_out, SYSTEM_PROMPT, USER_PROMPT)\n",
    "    responce_list.append(result)"
   ]
  },
  {
   "cell_type": "code",
   "execution_count": null,
   "id": "a8d24119-5834-4a16-b893-10277099112e",
   "metadata": {},
   "outputs": [],
   "source": [
    "result = get_result(eval_data, retriver_out, responce_list, search_pattern=task_name)\n",
    "get_metrics(eval_data, responce_list, search_pattern=task_name, gold_key=retr_field)"
   ]
  },
  {
   "cell_type": "code",
   "execution_count": null,
   "id": "6556cf18-73a1-4c12-9cfd-01ded2ad172b",
   "metadata": {},
   "outputs": [],
   "source": [
    "result_file_path = os.path.join(os.path.dirname(retriver_out_path), vllm_model_name.split('/')[-1],\n",
    "                                f'{data_name}_result_{task_name}_{topk}.json')\n",
    "\n",
    "if not os.path.exists(os.path.dirname(result_file_path)):\n",
    "    os.makedirs(os.path.dirname(result_file_path))\n",
    "\n",
    "json.dump(result, open(result_file_path, 'w'))"
   ]
  },
  {
   "cell_type": "markdown",
   "id": "4f5503c7-3a65-4b73-954a-a3590e95f819",
   "metadata": {
    "jp-MarkdownHeadingCollapsed": true
   },
   "source": [
    "### Rubq Entity 10"
   ]
  },
  {
   "cell_type": "code",
   "execution_count": null,
   "id": "a8f7684c-c722-43c5-93db-a01be32381cb",
   "metadata": {},
   "outputs": [],
   "source": [
    "responce_list = []\n",
    "for i in tqdm(range(len(eval_data[:]))):\n",
    "    sample = eval_data[i]\n",
    "    result = run_sample_with_openai(sample, retriver_out, SYSTEM_PROMPT, USER_PROMPT)\n",
    "    responce_list.append(result)"
   ]
  },
  {
   "cell_type": "code",
   "execution_count": null,
   "id": "966fb535-eef4-402c-875d-d530c7d19669",
   "metadata": {},
   "outputs": [],
   "source": [
    "result = get_result(eval_data, retriver_out, responce_list, search_pattern=task_name)\n",
    "get_metrics(eval_data, responce_list, search_pattern=task_name, gold_key=retr_field)"
   ]
  },
  {
   "cell_type": "code",
   "execution_count": null,
   "id": "ed54f286-6434-4ad8-8857-ac595ef2f0ca",
   "metadata": {},
   "outputs": [],
   "source": [
    "result_file_path = os.path.join(os.path.dirname(retriver_out_path), vllm_model_name.split('/')[-1],\n",
    "                                f'{data_name}_result_{task_name}_{topk}.json')\n",
    "\n",
    "if not os.path.exists(os.path.dirname(result_file_path)):\n",
    "    os.makedirs(os.path.dirname(result_file_path))\n",
    "\n",
    "json.dump(result, open(result_file_path, 'w'))"
   ]
  },
  {
   "cell_type": "markdown",
   "id": "c10fa841-92ff-402b-a692-89a892d72602",
   "metadata": {
    "jp-MarkdownHeadingCollapsed": true
   },
   "source": [
    "### Rubq Property 100"
   ]
  },
  {
   "cell_type": "code",
   "execution_count": null,
   "id": "d070e807-d115-4d5e-b9b0-e49e85f405a4",
   "metadata": {},
   "outputs": [],
   "source": [
    "responce_list = []\n",
    "for i in tqdm(range(len(eval_data[:]))):\n",
    "    sample = eval_data[i]\n",
    "    result = run_sample_with_openai(sample, retriver_out, SYSTEM_PROMPT, USER_PROMPT)\n",
    "    responce_list.append(result)"
   ]
  },
  {
   "cell_type": "code",
   "execution_count": null,
   "id": "b4c02abd-7ec9-42fd-aac4-c60686a9726c",
   "metadata": {},
   "outputs": [],
   "source": [
    "result = get_result(eval_data, retriver_out, responce_list, search_pattern=task_name)\n",
    "get_metrics(eval_data, responce_list, search_pattern=task_name, gold_key=retr_field)"
   ]
  },
  {
   "cell_type": "code",
   "execution_count": null,
   "id": "b3d2a20c-c230-4401-802e-909ad033d81a",
   "metadata": {},
   "outputs": [],
   "source": [
    "result_file_path = os.path.join(os.path.dirname(retriver_out_path), vllm_model_name.split('/')[-1],\n",
    "                                f'{data_name}_result_{task_name}_{topk}.json')\n",
    "\n",
    "if not os.path.exists(os.path.dirname(result_file_path)):\n",
    "    os.makedirs(os.path.dirname(result_file_path))\n",
    "\n",
    "json.dump(result, open(result_file_path, 'w'))"
   ]
  },
  {
   "cell_type": "markdown",
   "id": "17d74679-85e7-4694-ae97-46980c504883",
   "metadata": {
    "jp-MarkdownHeadingCollapsed": true
   },
   "source": [
    "### Rubq Property 10"
   ]
  },
  {
   "cell_type": "code",
   "execution_count": null,
   "id": "b7cab9e7",
   "metadata": {},
   "outputs": [],
   "source": [
    "responce_list = []\n",
    "for i in tqdm(range(len(eval_data[:]))):\n",
    "    sample = eval_data[i]\n",
    "    result = run_sample_with_openai(sample, retriver_out, SYSTEM_PROMPT, USER_PROMPT)\n",
    "    responce_list.append(result)"
   ]
  },
  {
   "cell_type": "code",
   "execution_count": null,
   "id": "012b5041",
   "metadata": {},
   "outputs": [],
   "source": [
    "result = get_result(eval_data, retriver_out, responce_list, search_pattern=task_name)\n",
    "get_metrics(eval_data, responce_list, search_pattern=task_name, gold_key=retr_field)"
   ]
  },
  {
   "cell_type": "code",
   "execution_count": null,
   "id": "5dc289e6",
   "metadata": {},
   "outputs": [],
   "source": [
    "result_file_path = os.path.join(os.path.dirname(retriver_out_path), vllm_model_name.split('/')[-1],\n",
    "                                f'{data_name}_result_{task_name}_{topk}.json')\n",
    "\n",
    "if not os.path.exists(os.path.dirname(result_file_path)):\n",
    "    os.makedirs(os.path.dirname(result_file_path))\n",
    "\n",
    "json.dump(result, open(result_file_path, 'w'))"
   ]
  },
  {
   "cell_type": "markdown",
   "id": "49375ea1-e60c-442b-8a16-62ccb6b4fd20",
   "metadata": {
    "jp-MarkdownHeadingCollapsed": true
   },
   "source": [
    "### Lcquad Entity 100"
   ]
  },
  {
   "cell_type": "code",
   "execution_count": null,
   "id": "84409419-4e32-466e-88b0-27510278078d",
   "metadata": {},
   "outputs": [],
   "source": [
    "responce_list = []\n",
    "for i in tqdm(range(len(eval_data[:]))):\n",
    "    sample = eval_data[i]\n",
    "    result = run_sample_with_openai(sample, retriver_out, SYSTEM_PROMPT, USER_PROMPT)\n",
    "    responce_list.append(result)"
   ]
  },
  {
   "cell_type": "code",
   "execution_count": null,
   "id": "3cfb2978-bac2-4731-9c99-fd9c0f772573",
   "metadata": {},
   "outputs": [],
   "source": [
    "result = get_result(eval_data, retriver_out, responce_list, search_pattern=task_name)\n",
    "get_metrics(eval_data, responce_list, search_pattern=task_name, gold_key=retr_field)"
   ]
  },
  {
   "cell_type": "code",
   "execution_count": null,
   "id": "f1382652-b483-466e-bc14-a4b2acc82fea",
   "metadata": {},
   "outputs": [],
   "source": [
    "result_file_path = os.path.join(os.path.dirname(retriver_out_path), vllm_model_name.split('/')[-1],\n",
    "                                f'{data_name}_result_{task_name}_{topk}.json')\n",
    "\n",
    "if not os.path.exists(os.path.dirname(result_file_path)):\n",
    "    os.makedirs(os.path.dirname(result_file_path))\n",
    "\n",
    "json.dump(result, open(result_file_path, 'w'))"
   ]
  },
  {
   "cell_type": "markdown",
   "id": "4b092981-bcf7-456a-919e-62789b35eb88",
   "metadata": {
    "jp-MarkdownHeadingCollapsed": true
   },
   "source": [
    "### Lcquad Entity 10"
   ]
  },
  {
   "cell_type": "code",
   "execution_count": null,
   "id": "7ca86997-6f52-42f0-9cae-25cddb8033c4",
   "metadata": {},
   "outputs": [],
   "source": [
    "responce_list = []\n",
    "for i in tqdm(range(len(eval_data[:]))):\n",
    "    sample = eval_data[i]\n",
    "    result = run_sample_with_openai(sample, retriver_out, SYSTEM_PROMPT, USER_PROMPT)\n",
    "    responce_list.append(result)"
   ]
  },
  {
   "cell_type": "code",
   "execution_count": null,
   "id": "a11c212e-2f8f-4413-8e69-d542e16219a7",
   "metadata": {},
   "outputs": [],
   "source": [
    "result = get_result(eval_data, retriver_out, responce_list, search_pattern=task_name)\n",
    "get_metrics(eval_data, responce_list, search_pattern=task_name, gold_key=retr_field)"
   ]
  },
  {
   "cell_type": "code",
   "execution_count": null,
   "id": "3e255593-498e-42db-a0f5-387bff05ead0",
   "metadata": {},
   "outputs": [],
   "source": [
    "result_file_path = os.path.join(os.path.dirname(retriver_out_path), vllm_model_name.split('/')[-1],\n",
    "                                f'{data_name}_result_{task_name}_{topk}.json')\n",
    "\n",
    "if not os.path.exists(os.path.dirname(result_file_path)):\n",
    "    os.makedirs(os.path.dirname(result_file_path))\n",
    "\n",
    "json.dump(result, open(result_file_path, 'w'))"
   ]
  },
  {
   "cell_type": "markdown",
   "id": "b6ca7e8f-bcd0-4ce3-89e4-510a43a0dd64",
   "metadata": {
    "jp-MarkdownHeadingCollapsed": true
   },
   "source": [
    "### Lcquad Property 100"
   ]
  },
  {
   "cell_type": "code",
   "execution_count": null,
   "id": "b330feab-9ffa-4e1a-ad82-ac1b5f642cc4",
   "metadata": {},
   "outputs": [],
   "source": [
    "# lcquad property 100\n",
    "responce_list = []\n",
    "for i in tqdm(range(len(eval_data[:]))):\n",
    "    sample = eval_data[i]\n",
    "    result = run_sample_with_openai(sample, retriver_out, SYSTEM_PROMPT, USER_PROMPT)\n",
    "    responce_list.append(result)"
   ]
  },
  {
   "cell_type": "code",
   "execution_count": null,
   "id": "7dbbdda1-6273-4f12-bdc0-e93f95720371",
   "metadata": {},
   "outputs": [],
   "source": [
    "result = get_result(eval_data, retriver_out, responce_list, search_pattern=task_name)\n",
    "get_metrics(eval_data, responce_list, search_pattern=task_name, gold_key=retr_field)"
   ]
  },
  {
   "cell_type": "code",
   "execution_count": null,
   "id": "c3922a46-76a1-444a-b4c0-d52055bd1f35",
   "metadata": {},
   "outputs": [],
   "source": [
    "result_file_path = os.path.join(os.path.dirname(retriver_out_path), vllm_model_name.split('/')[-1],\n",
    "                                f'{data_name}_result_{task_name}_{topk}.json')\n",
    "\n",
    "if not os.path.exists(os.path.dirname(result_file_path)):\n",
    "    os.makedirs(os.path.dirname(result_file_path))\n",
    "\n",
    "json.dump(result, open(result_file_path, 'w'))"
   ]
  },
  {
   "cell_type": "markdown",
   "id": "bb25930f-0891-4eea-b3c6-b9a4b6c092cb",
   "metadata": {
    "jp-MarkdownHeadingCollapsed": true
   },
   "source": [
    "### Lcquad Property 10"
   ]
  },
  {
   "cell_type": "code",
   "execution_count": null,
   "id": "67f310ce-60f6-42e6-a0b0-9e76cefbb1f3",
   "metadata": {},
   "outputs": [],
   "source": [
    "responce_list = []\n",
    "for i in tqdm(range(len(eval_data[:]))):\n",
    "    sample = eval_data[i]\n",
    "    result = run_sample_with_openai(sample, retriver_out, SYSTEM_PROMPT, USER_PROMPT)\n",
    "    responce_list.append(result)"
   ]
  },
  {
   "cell_type": "code",
   "execution_count": null,
   "id": "c9a21d49-afba-4244-b4a6-dc6ceb619338",
   "metadata": {},
   "outputs": [],
   "source": [
    "result = get_result(eval_data, retriver_out, responce_list, search_pattern=task_name)\n",
    "get_metrics(eval_data, responce_list, search_pattern=task_name, gold_key=retr_field)"
   ]
  },
  {
   "cell_type": "code",
   "execution_count": null,
   "id": "e4120554-c860-4933-b800-c7635ed81088",
   "metadata": {},
   "outputs": [],
   "source": [
    "result_file_path = os.path.join(os.path.dirname(retriver_out_path), vllm_model_name.split('/')[-1],\n",
    "                                f'{data_name}_result_{task_name}_{topk}.json')\n",
    "\n",
    "if not os.path.exists(os.path.dirname(result_file_path)):\n",
    "    os.makedirs(os.path.dirname(result_file_path))\n",
    "\n",
    "json.dump(result, open(result_file_path, 'w'))"
   ]
  },
  {
   "cell_type": "markdown",
   "id": "dfb39173-d474-41a7-96d4-53f0a709ca0b",
   "metadata": {
    "jp-MarkdownHeadingCollapsed": true
   },
   "source": [
    "### Pat Entity 100"
   ]
  },
  {
   "cell_type": "code",
   "execution_count": null,
   "id": "46d713ee-e774-4c5d-af35-d4216c389ae9",
   "metadata": {},
   "outputs": [],
   "source": [
    "responce_list = []\n",
    "for i in tqdm(range(len(eval_data[:]))):\n",
    "    sample = eval_data[i]\n",
    "    result = run_sample_with_openai(sample, retriver_out, SYSTEM_PROMPT, USER_PROMPT)\n",
    "    responce_list.append(result)"
   ]
  },
  {
   "cell_type": "code",
   "execution_count": null,
   "id": "7c07e33f-fb18-468c-b45e-bb0975212a97",
   "metadata": {},
   "outputs": [],
   "source": [
    "result = get_result(eval_data, retriver_out, responce_list, search_pattern=task_name)\n",
    "get_metrics(eval_data, responce_list, search_pattern=task_name, gold_key=retr_field)"
   ]
  },
  {
   "cell_type": "code",
   "execution_count": null,
   "id": "6abba508-c093-4e5f-a9ec-d8f2c8108d3c",
   "metadata": {},
   "outputs": [],
   "source": [
    "result_file_path = os.path.join(os.path.dirname(retriver_out_path), vllm_model_name.split('/')[-1],\n",
    "                                f'{data_name}_result_{task_name}_{topk}.json')\n",
    "\n",
    "if not os.path.exists(os.path.dirname(result_file_path)):\n",
    "    os.makedirs(os.path.dirname(result_file_path))\n",
    "\n",
    "json.dump(result, open(result_file_path, 'w'))"
   ]
  },
  {
   "cell_type": "markdown",
   "id": "565ad48a-33db-4301-bce5-36f1000b0f79",
   "metadata": {
    "jp-MarkdownHeadingCollapsed": true
   },
   "source": [
    "### Pat Entity 10"
   ]
  },
  {
   "cell_type": "code",
   "execution_count": null,
   "id": "bda3f97b-3d0e-48ea-a9ca-a2afb58cfb0b",
   "metadata": {},
   "outputs": [],
   "source": [
    "responce_list = []\n",
    "for i in tqdm(range(len(eval_data[:]))):\n",
    "    sample = eval_data[i]\n",
    "    result = run_sample_with_openai(sample, retriver_out, SYSTEM_PROMPT, USER_PROMPT)\n",
    "    responce_list.append(result)"
   ]
  },
  {
   "cell_type": "code",
   "execution_count": null,
   "id": "4e786614-30d4-412e-93d6-6679d338bca8",
   "metadata": {},
   "outputs": [],
   "source": [
    "result = get_result(eval_data, retriver_out, responce_list, search_pattern=task_name)\n",
    "get_metrics(eval_data, responce_list, search_pattern=task_name, gold_key=retr_field)"
   ]
  },
  {
   "cell_type": "code",
   "execution_count": null,
   "id": "fc6c3a8b-318c-4bdb-81ba-b2ef49e3300a",
   "metadata": {},
   "outputs": [],
   "source": [
    "result_file_path = os.path.join(os.path.dirname(retriver_out_path), vllm_model_name.split('/')[-1],\n",
    "                                f'{data_name}_result_{task_name}_{topk}.json')\n",
    "\n",
    "if not os.path.exists(os.path.dirname(result_file_path)):\n",
    "    os.makedirs(os.path.dirname(result_file_path))\n",
    "\n",
    "json.dump(result, open(result_file_path, 'w'))"
   ]
  },
  {
   "cell_type": "markdown",
   "id": "2dc10fe0-6131-4864-b263-487945d86625",
   "metadata": {
    "jp-MarkdownHeadingCollapsed": true
   },
   "source": [
    "### Pat Entity 10 NEW"
   ]
  },
  {
   "cell_type": "code",
   "execution_count": null,
   "id": "03571e65-6353-487e-a7aa-1bb337dafe73",
   "metadata": {},
   "outputs": [],
   "source": [
    "responce_list = []\n",
    "for i in tqdm(range(len(eval_data[:]))):\n",
    "    sample = eval_data[i]\n",
    "    result = run_sample_with_openai(sample, retriver_out, SYSTEM_PROMPT, USER_PROMPT)\n",
    "    responce_list.append(result)"
   ]
  },
  {
   "cell_type": "code",
   "execution_count": null,
   "id": "2b7972fd-2e14-4ed2-ab77-d187e24935ad",
   "metadata": {},
   "outputs": [],
   "source": [
    "result = get_result(eval_data, retriver_out, responce_list, search_pattern=task_name)\n",
    "get_metrics(eval_data, responce_list, search_pattern=task_name, gold_key=retr_field)"
   ]
  },
  {
   "cell_type": "code",
   "execution_count": null,
   "id": "35f5d523",
   "metadata": {},
   "outputs": [],
   "source": [
    "result_file_path = os.path.join(os.path.dirname(retriver_out_path), vllm_model_name.split('/')[-1],\n",
    "                                f'{data_name}_result_{task_name}_{topk}_NEW.json')\n",
    "\n",
    "if not os.path.exists(os.path.dirname(result_file_path)):\n",
    "    os.makedirs(os.path.dirname(result_file_path))\n",
    "\n",
    "json.dump(result, open(result_file_path, 'w'))"
   ]
  },
  {
   "cell_type": "markdown",
   "id": "fa294b35-384e-4304-9524-392830810ca7",
   "metadata": {
    "jp-MarkdownHeadingCollapsed": true
   },
   "source": [
    "### Pat Property 100"
   ]
  },
  {
   "cell_type": "code",
   "execution_count": null,
   "id": "ae897221-a6db-490a-a30d-a1737cf98941",
   "metadata": {},
   "outputs": [],
   "source": [
    "responce_list = []\n",
    "for i in tqdm(range(len(eval_data[:]))):\n",
    "    sample = eval_data[i]\n",
    "    result = run_sample_with_openai(sample, retriver_out, SYSTEM_PROMPT, USER_PROMPT)\n",
    "    responce_list.append(result)"
   ]
  },
  {
   "cell_type": "code",
   "execution_count": null,
   "id": "8c7f98dd-87d6-40f3-8c13-76d826e9f9ca",
   "metadata": {},
   "outputs": [],
   "source": [
    "result = get_result(eval_data, retriver_out, responce_list, search_pattern=task_name)\n",
    "get_metrics(eval_data, responce_list, search_pattern=task_name, gold_key=retr_field)"
   ]
  },
  {
   "cell_type": "code",
   "execution_count": null,
   "id": "ab2abc5c-1728-4e14-8830-0a2b72fe4819",
   "metadata": {},
   "outputs": [],
   "source": [
    "result_file_path = os.path.join(os.path.dirname(retriver_out_path), vllm_model_name.split('/')[-1],\n",
    "                                f'{data_name}_result_{task_name}_{topk}.json')\n",
    "\n",
    "if not os.path.exists(os.path.dirname(result_file_path)):\n",
    "    os.makedirs(os.path.dirname(result_file_path))\n",
    "\n",
    "json.dump(result, open(result_file_path, 'w'))"
   ]
  },
  {
   "cell_type": "markdown",
   "id": "c8a2ea92-8380-489d-bdfe-dbacb5d8aa7d",
   "metadata": {
    "jp-MarkdownHeadingCollapsed": true
   },
   "source": [
    "### Pat Property 10"
   ]
  },
  {
   "cell_type": "code",
   "execution_count": null,
   "id": "bbebb7cb-d669-4e2e-be2a-df24dc7c3229",
   "metadata": {},
   "outputs": [],
   "source": [
    "responce_list = []\n",
    "for i in tqdm(range(len(eval_data[:]))):\n",
    "    sample = eval_data[i]\n",
    "    result = run_sample_with_openai(sample, retriver_out, SYSTEM_PROMPT, USER_PROMPT)\n",
    "    responce_list.append(result)"
   ]
  },
  {
   "cell_type": "code",
   "execution_count": null,
   "id": "f24f6a2d-ac79-434c-8f11-871c216caf6c",
   "metadata": {},
   "outputs": [],
   "source": [
    "result = get_result(eval_data, retriver_out, responce_list, search_pattern=task_name)\n",
    "get_metrics(eval_data, responce_list, search_pattern=task_name, gold_key=retr_field)"
   ]
  },
  {
   "cell_type": "code",
   "execution_count": null,
   "id": "b6c9c1e3-7384-495a-a5ab-c52f004de044",
   "metadata": {},
   "outputs": [],
   "source": [
    "result_file_path = os.path.join(os.path.dirname(retriver_out_path), vllm_model_name.split('/')[-1],\n",
    "                                f'{data_name}_result_{task_name}_{topk}.json')\n",
    "\n",
    "if not os.path.exists(os.path.dirname(result_file_path)):\n",
    "    os.makedirs(os.path.dirname(result_file_path))\n",
    "\n",
    "json.dump(result, open(result_file_path, 'w'))"
   ]
  },
  {
   "cell_type": "markdown",
   "id": "a738c1fe-e3fa-4546-b059-68588087eba4",
   "metadata": {
    "jp-MarkdownHeadingCollapsed": true
   },
   "source": [
    "### Pat Property 10 NEW"
   ]
  },
  {
   "cell_type": "code",
   "execution_count": null,
   "id": "f049a614-d629-428d-bf98-d1812833b279",
   "metadata": {},
   "outputs": [],
   "source": [
    "responce_list = []\n",
    "for i in tqdm(range(len(eval_data[:]))):\n",
    "    sample = eval_data[i]\n",
    "    result = run_sample_with_openai(sample, retriver_out, SYSTEM_PROMPT, USER_PROMPT)\n",
    "    responce_list.append(result)"
   ]
  },
  {
   "cell_type": "code",
   "execution_count": null,
   "id": "33686255-19a2-4309-842d-8a06dce0caea",
   "metadata": {},
   "outputs": [],
   "source": [
    "result = get_result(eval_data, retriver_out, responce_list, search_pattern=task_name)\n",
    "get_metrics(eval_data, responce_list, search_pattern=task_name, gold_key=retr_field)"
   ]
  },
  {
   "cell_type": "code",
   "execution_count": null,
   "id": "2c8a4952-4e88-43d8-b40e-4fa279b1386b",
   "metadata": {},
   "outputs": [],
   "source": [
    "result_file_path = os.path.join(os.path.dirname(retriver_out_path), vllm_model_name.split('/')[-1],\n",
    "                                f'{data_name}_result_{task_name}_{topk}_NEW.json')\n",
    "\n",
    "if not os.path.exists(os.path.dirname(result_file_path)):\n",
    "    os.makedirs(os.path.dirname(result_file_path))\n",
    "\n",
    "json.dump(result, open(result_file_path, 'w'))"
   ]
  },
  {
   "cell_type": "markdown",
   "id": "0003d12e-0fa1-431f-9459-fbf3d4fa0255",
   "metadata": {
    "jp-MarkdownHeadingCollapsed": true
   },
   "source": [
    "### Qald Entity 100"
   ]
  },
  {
   "cell_type": "code",
   "execution_count": null,
   "id": "4b71267a-ee2f-46e9-92e4-ad98c2956685",
   "metadata": {},
   "outputs": [],
   "source": [
    "responce_list = []\n",
    "for i in tqdm(range(len(eval_data[:]))):\n",
    "    sample = eval_data[i]\n",
    "    result = run_sample_with_openai(sample, retriver_out, SYSTEM_PROMPT, USER_PROMPT)\n",
    "    responce_list.append(result)"
   ]
  },
  {
   "cell_type": "code",
   "execution_count": null,
   "id": "fe0052b5-a42c-4d36-bd17-d4b00ec49064",
   "metadata": {},
   "outputs": [],
   "source": [
    "result = get_result(eval_data, retriver_out, responce_list, search_pattern=task_name)\n",
    "get_metrics(eval_data, responce_list, search_pattern=task_name, gold_key=retr_field)"
   ]
  },
  {
   "cell_type": "code",
   "execution_count": null,
   "id": "9e854d7d-fffd-49ab-a5ed-f138397fe636",
   "metadata": {},
   "outputs": [],
   "source": [
    "result_file_path = os.path.join(os.path.dirname(retriver_out_path), vllm_model_name.split('/')[-1],\n",
    "                                f'{data_name}_result_{task_name}_{topk}.json')\n",
    "\n",
    "if not os.path.exists(os.path.dirname(result_file_path)):\n",
    "    os.makedirs(os.path.dirname(result_file_path))\n",
    "\n",
    "json.dump(result, open(result_file_path, 'w'))"
   ]
  },
  {
   "cell_type": "markdown",
   "id": "7b591827-e9a8-4c0c-96a6-c24960aeffab",
   "metadata": {
    "jp-MarkdownHeadingCollapsed": true
   },
   "source": [
    "### Qald Entity 10"
   ]
  },
  {
   "cell_type": "code",
   "execution_count": null,
   "id": "11433765-1921-4292-b676-da90840c589d",
   "metadata": {},
   "outputs": [],
   "source": [
    "responce_list = []\n",
    "for i in tqdm(range(len(eval_data[:]))):\n",
    "    sample = eval_data[i]\n",
    "    result = run_sample_with_openai(sample, retriver_out, SYSTEM_PROMPT, USER_PROMPT)\n",
    "    responce_list.append(result)"
   ]
  },
  {
   "cell_type": "code",
   "execution_count": null,
   "id": "45c10371-4cbc-423d-a3f8-3cc10c65668b",
   "metadata": {},
   "outputs": [],
   "source": [
    "result = get_result(eval_data, retriver_out, responce_list, search_pattern=task_name)\n",
    "get_metrics(eval_data, responce_list, search_pattern=task_name, gold_key=retr_field)"
   ]
  },
  {
   "cell_type": "code",
   "execution_count": null,
   "id": "46ada7a9-b188-4113-b6e3-1f7bc8bf9d48",
   "metadata": {},
   "outputs": [],
   "source": [
    "result_file_path = os.path.join(os.path.dirname(retriver_out_path), vllm_model_name.split('/')[-1],\n",
    "                                f'{data_name}_result_{task_name}_{topk}.json')\n",
    "\n",
    "if not os.path.exists(os.path.dirname(result_file_path)):\n",
    "    os.makedirs(os.path.dirname(result_file_path))\n",
    "\n",
    "json.dump(result, open(result_file_path, 'w'))"
   ]
  },
  {
   "cell_type": "markdown",
   "id": "421bd9a1-8dfd-40c7-8655-bbe390079d34",
   "metadata": {
    "jp-MarkdownHeadingCollapsed": true
   },
   "source": [
    "### Qald Property 100"
   ]
  },
  {
   "cell_type": "code",
   "execution_count": null,
   "id": "da2420a1-73b3-4259-b719-537915d601cb",
   "metadata": {},
   "outputs": [],
   "source": [
    "responce_list = []\n",
    "for i in tqdm(range(len(eval_data[:]))):\n",
    "    sample = eval_data[i]\n",
    "    result = run_sample_with_openai(sample, retriver_out, SYSTEM_PROMPT, USER_PROMPT)\n",
    "    responce_list.append(result)"
   ]
  },
  {
   "cell_type": "code",
   "execution_count": null,
   "id": "070039ac-0362-4bf4-a0cc-4c8e221bb12b",
   "metadata": {},
   "outputs": [],
   "source": [
    "result = get_result(eval_data, retriver_out, responce_list, search_pattern=task_name)\n",
    "get_metrics(eval_data, responce_list, search_pattern=task_name, gold_key=retr_field)"
   ]
  },
  {
   "cell_type": "code",
   "execution_count": null,
   "id": "7fd5d1d4-3954-449d-a18e-8e348004c3c1",
   "metadata": {},
   "outputs": [],
   "source": [
    "result_file_path = os.path.join(os.path.dirname(retriver_out_path), vllm_model_name.split('/')[-1],\n",
    "                                f'{data_name}_result_{task_name}_{topk}.json')\n",
    "\n",
    "if not os.path.exists(os.path.dirname(result_file_path)):\n",
    "    os.makedirs(os.path.dirname(result_file_path))\n",
    "\n",
    "json.dump(result, open(result_file_path, 'w'))"
   ]
  },
  {
   "cell_type": "markdown",
   "id": "6956f78b-3068-49f6-97d3-a51f099af059",
   "metadata": {
    "jp-MarkdownHeadingCollapsed": true
   },
   "source": [
    "### Qald Property 10"
   ]
  },
  {
   "cell_type": "code",
   "execution_count": null,
   "id": "1e9fe923-3ac7-4a96-b4b3-fcfe28f65eac",
   "metadata": {},
   "outputs": [],
   "source": [
    "responce_list = []\n",
    "for i in tqdm(range(len(eval_data[:]))):\n",
    "    sample = eval_data[i]\n",
    "    result = run_sample_with_openai(sample, retriver_out, SYSTEM_PROMPT, USER_PROMPT)\n",
    "    responce_list.append(result)"
   ]
  },
  {
   "cell_type": "code",
   "execution_count": null,
   "id": "b6fc9cb9-dcb4-420c-bc4d-91affb4b5c1d",
   "metadata": {},
   "outputs": [],
   "source": [
    "result = get_result(eval_data, retriver_out, responce_list, search_pattern=task_name)\n",
    "get_metrics(eval_data, responce_list, search_pattern=task_name, gold_key=retr_field)"
   ]
  },
  {
   "cell_type": "code",
   "execution_count": null,
   "id": "5646114b-aef8-42cc-9988-ab921f6e8086",
   "metadata": {},
   "outputs": [],
   "source": [
    "result_file_path = os.path.join(os.path.dirname(retriver_out_path), vllm_model_name.split('/')[-1],\n",
    "                                f'{data_name}_result_{task_name}_{topk}.json')\n",
    "\n",
    "if not os.path.exists(os.path.dirname(result_file_path)):\n",
    "    os.makedirs(os.path.dirname(result_file_path))\n",
    "\n",
    "json.dump(result, open(result_file_path, 'w'))"
   ]
  },
  {
   "cell_type": "markdown",
   "id": "77d272cf-2345-4235-b50e-1e88dba185ec",
   "metadata": {},
   "source": [
    "## Create output"
   ]
  },
  {
   "cell_type": "code",
   "execution_count": null,
   "id": "05d367b3-4e7a-45df-aa7d-d008a464a1fb",
   "metadata": {},
   "outputs": [],
   "source": [
    "import tarfile\n",
    "def create_archive(source_dir, archive_path):\n",
    "    # Создаем объект архива\n",
    "    with tarfile.open(archive_path, 'w') as tar:\n",
    "        for root, dirs, files in os.walk(source_dir):\n",
    "            for file in files:\n",
    "                # Получаем полный путь до файла\n",
    "                full_path = os.path.join(root, file)\n",
    "                \n",
    "                # Добавляем файл в архив, сохраняя только его имя\n",
    "                tar.add(full_path, arcname=os.path.basename(file))"
   ]
  },
  {
   "cell_type": "code",
   "execution_count": null,
   "id": "22dc0000-c5e6-435a-8fac-21a8c4558737",
   "metadata": {},
   "outputs": [],
   "source": [
    "result_path = '/home/jovyan/msbutko/open_kgqa_utils/data/retriver_out/rubq/DeepSeek-R1-Distill-Llama-70B/'\n",
    "tar_name = 'out_' + '_'.join(os.path.dirname(result_path).split('/')[-2:]) + '.tar'\n",
    "create_archive(result_path, tar_name)"
   ]
  },
  {
   "cell_type": "code",
   "execution_count": null,
   "id": "0ada5736-5482-4bb2-bed0-984578113b23",
   "metadata": {},
   "outputs": [],
   "source": [
    "result_path = '/home/jovyan/msbutko/open_kgqa_utils/data/retriver_out/lcquad/DeepSeek-R1-Distill-Llama-70B/'\n",
    "tar_name = 'out_' + '_'.join(os.path.dirname(result_path).split('/')[-2:]) + '.tar'\n",
    "create_archive(result_path, tar_name)"
   ]
  },
  {
   "cell_type": "code",
   "execution_count": null,
   "id": "082fd134-550d-46b0-9c48-5bfc867b14af",
   "metadata": {},
   "outputs": [],
   "source": [
    "result_path = '/home/jovyan/msbutko/open_kgqa_utils/data/retriver_out/pat/DeepSeek-R1-Distill-Llama-70B/'\n",
    "tar_name = 'out_' + '_'.join(os.path.dirname(result_path).split('/')[-2:]) + '.tar'\n",
    "create_archive(result_path, tar_name)"
   ]
  },
  {
   "cell_type": "code",
   "execution_count": null,
   "id": "6457fd26-201d-4e65-9e46-369ab11a9c56",
   "metadata": {},
   "outputs": [],
   "source": [
    "result_path = '/home/jovyan/msbutko/open_kgqa_utils/data/retriver_out/qald/DeepSeek-R1-Distill-Llama-70B/'\n",
    "tar_name = 'out_' + '_'.join(os.path.dirname(result_path).split('/')[-2:]) + '.tar'\n",
    "create_archive(result_path, tar_name)"
   ]
  }
 ],
 "metadata": {
  "kernelspec": {
   "display_name": "kernel_vllm312",
   "language": "python",
   "name": "kernel_vllm312"
  },
  "language_info": {
   "codemirror_mode": {
    "name": "ipython",
    "version": 3
   },
   "file_extension": ".py",
   "mimetype": "text/x-python",
   "name": "python",
   "nbconvert_exporter": "python",
   "pygments_lexer": "ipython3",
   "version": "3.12.9"
  }
 },
 "nbformat": 4,
 "nbformat_minor": 5
}
