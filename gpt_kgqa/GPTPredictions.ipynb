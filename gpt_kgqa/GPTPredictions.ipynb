{
 "cells": [
  {
   "cell_type": "code",
   "execution_count": 1,
   "id": "14a078ce-e3c3-4aeb-883d-fd131aa0344c",
   "metadata": {},
   "outputs": [],
   "source": [
    "import json\n",
    "import pickle\n",
    "import random\n",
    "\n",
    "import pandas as pd"
   ]
  },
  {
   "cell_type": "markdown",
   "id": "07b16a4d-267e-4fd4-ae06-c3629c11ddb9",
   "metadata": {},
   "source": [
    "# Create single dataset"
   ]
  },
  {
   "cell_type": "code",
   "execution_count": 2,
   "id": "309ebe1b-595f-4006-8942-31e5f708894d",
   "metadata": {},
   "outputs": [],
   "source": [
    "with open('../data/PAT-singlehop.json', 'r') as file:\n",
    "    pat_singlehop = json.load(file)\n",
    "\n",
    "with open('../data/PAT-singlehop-special-attention.json', 'r') as file:\n",
    "    pat_singlehop_attention = json.load(file)\n",
    "    \n",
    "with open('../data/PAT-multihop.json', 'r') as file:\n",
    "    pat_multihop = json.load(file)"
   ]
  },
  {
   "cell_type": "code",
   "execution_count": 4,
   "id": "1cd7bb16-e54a-4d58-ae93-03efb9364e3e",
   "metadata": {},
   "outputs": [
    {
     "name": "stdout",
     "output_type": "stream",
     "text": [
      "Total questions: 6011\n",
      "Total ids: 7421\n",
      "Unique ids: 3367\n",
      "Largest id: 6306\n"
     ]
    }
   ],
   "source": [
    "ids = []\n",
    "\n",
    "for _, info in pat_singlehop.items():\n",
    "    ids.append(info['uniq_id'])\n",
    "\n",
    "for _, info in pat_singlehop_attention.items():\n",
    "    ids.append(info['uniq_id'])\n",
    "\n",
    "for _, info in pat_multihop.items():\n",
    "    ids.append(info['uniq_id'])\n",
    "\n",
    "print('Total questions:', len(pat_singlehop) + len(pat_multihop))\n",
    "print('Total ids:', len(ids))\n",
    "print('Unique ids:', len(set(ids)))\n",
    "print('Largest id:', max(ids))"
   ]
  },
  {
   "cell_type": "code",
   "execution_count": 5,
   "id": "10b6eabc-363d-444f-8230-6901689983f8",
   "metadata": {},
   "outputs": [],
   "source": [
    "list_of_uniq_ids = set()\n",
    "dataset = {}\n",
    "\n",
    "def gen_unique_id(id):\n",
    "    id = max(list_of_uniq_ids)\n",
    "    while id in list_of_uniq_ids:\n",
    "        id += 1\n",
    "    return id\n",
    "\n",
    "for question, info in pat_singlehop.items():\n",
    "    # assert info['uniq_id'] not in list_of_uniq_ids and type(info['uniq_id']) == int\n",
    "    if info['uniq_id'] not in list_of_uniq_ids:\n",
    "        id = info['uniq_id']\n",
    "    else:\n",
    "        id = gen_unique_id(6307)\n",
    "    id = int(id)\n",
    "    \n",
    "    list_of_uniq_ids.add(id)\n",
    "    data = info.copy()\n",
    "    data['attention'] = info['question'] in pat_singlehop_attention.keys()\n",
    "    dataset[id] = data.copy()\n",
    "\n",
    "\n",
    "for question, info in pat_multihop.items():\n",
    "    # assert info['uniq_id'] not in list_of_uniq_ids and type(info['uniq_id']) == int\n",
    "    if info['uniq_id'] not in list_of_uniq_ids:\n",
    "        id = info['uniq_id']\n",
    "    else:\n",
    "        id = gen_unique_id(6307)\n",
    "    id = int(id)\n",
    "    \n",
    "    list_of_uniq_ids.add(id)\n",
    "    data = info.copy()\n",
    "    data['attention'] = False\n",
    "    dataset[id] = data.copy()\n",
    "\n",
    "with open('../data/dataset.json', 'w') as f:\n",
    "    json.dump(dataset, f)"
   ]
  },
  {
   "cell_type": "markdown",
   "id": "c07edb11-6f45-4e0f-83d6-4120f6865c02",
   "metadata": {},
   "source": [
    "## Prepare GPT"
   ]
  },
  {
   "cell_type": "code",
   "execution_count": 7,
   "id": "b0976575-3d34-4c2c-8335-81dd418e322d",
   "metadata": {},
   "outputs": [],
   "source": [
    "with open('../data/dataset.json', 'r') as f:\n",
    "    dataset = json.load(f)"
   ]
  },
  {
   "cell_type": "code",
   "execution_count": 8,
   "id": "fd178ad0-bc2f-414c-a35f-255117c8d198",
   "metadata": {},
   "outputs": [],
   "source": [
    "from functions import process_questions_concurrently\n",
    "from openai import OpenAI\n",
    "\n",
    "MODEL_NAME = 'gpt-4o'\n",
    "client = OpenAI(api_key='')"
   ]
  },
  {
   "cell_type": "code",
   "execution_count": 4,
   "id": "3b188335-1086-43e0-acc9-89c34a228b28",
   "metadata": {},
   "outputs": [],
   "source": [
    "sample_questions = {k: dataset.get(k) for k in random.sample(list(dataset.keys()), 60) }"
   ]
  },
  {
   "cell_type": "markdown",
   "id": "4036688e-f937-4b58-ab58-56feab820be0",
   "metadata": {},
   "source": [
    "### One question per request"
   ]
  },
  {
   "cell_type": "code",
   "execution_count": 5,
   "id": "6ab5ecd9-ff8b-4054-966e-766044d33056",
   "metadata": {},
   "outputs": [],
   "source": [
    "system_prompt = \"\"\"You are an expert assistant in Open-Domain Question Answering. Answer the following question based on your knowledge and any external materials or sources available to you, adhering to these guidelines:\n",
    "\n",
    "**Guidelines for Answering**:\n",
    "- Provide a concise, factual answer using only relevant information from both internal knowledge and external sources.\n",
    "- Avoid paraphrasing the question; answer only with the information requested.\n",
    "- Use only singular nouns or names in their base form, avoiding declensions and articles.\n",
    "- Use no punctuation, commas, or periods.\n",
    "- If multiple answers exist, separate them with a special token (e.g., \"|\") and sort them by relevance (the most famous one first).\n",
    "- If the answer is unknown or ambiguous, make a best guess based on common or widely accepted knowledge from available sources, but avoid speculation. Use \"Unknown\" only if no answer can be reasonably provided from any source.\n",
    "\n",
    "**Examples**:\n",
    "Question: What is the largest planet in solar system?\n",
    "Answer: Jupyter\n",
    "\n",
    "Question: Who starred in the movie Titanic?\n",
    "Answer: Leonardo DiCaprio | Kate Winslet | Billy Zane | Kathy Bates\n",
    "\n",
    "Question: When did World War II start?\n",
    "Answer: 01.09.1939\"\"\"\n",
    "\n",
    "\n",
    "question_prompt = lambda question: f\"Question: {question}\\nAnswer: \""
   ]
  },
  {
   "cell_type": "code",
   "execution_count": 6,
   "id": "4b63b8ba-dd8b-4cbb-92cb-c9a70cafafd7",
   "metadata": {
    "scrolled": true
   },
   "outputs": [],
   "source": [
    "question_batch = [(id, question_prompt(info['question'])) for id, info in sample_questions.items()]\n",
    "result_batch_single = process_questions_concurrently(question_batch, system_prompt, MODEL_NAME, client, max_workers=32)\n",
    "result_single_dict = {id: info['result'] for id, info in result_batch_single.items()}"
   ]
  },
  {
   "cell_type": "code",
   "execution_count": 7,
   "id": "fb88b88c-d415-4fc4-bced-0e5ed58f4203",
   "metadata": {},
   "outputs": [],
   "source": [
    "assert set(result_single_dict.keys()) == set([str(id) for id in sample_questions.keys()])"
   ]
  },
  {
   "cell_type": "code",
   "execution_count": 8,
   "id": "c20d9d5b-d502-4bd6-8fae-4055a1e513ee",
   "metadata": {},
   "outputs": [
    {
     "data": {
      "text/plain": [
       "16742"
      ]
     },
     "execution_count": 8,
     "metadata": {},
     "output_type": "execute_result"
    }
   ],
   "source": [
    "# Tokens used per 60 questions\n",
    "sum([info['usage']['total_tokens'] for info in result_batch_single.values()])"
   ]
  },
  {
   "cell_type": "markdown",
   "id": "f4fd2eea-64f2-4575-a33c-95dd36a892ef",
   "metadata": {},
   "source": [
    "### Multiple questions per request"
   ]
  },
  {
   "cell_type": "code",
   "execution_count": 14,
   "id": "c932d437-f2a1-45bb-809f-56d3e7bad92f",
   "metadata": {},
   "outputs": [],
   "source": [
    "system_prompt = \"\"\"You are an expert assistant in Open-Domain Question Answering. Answer the following list of questions based on your knowledge and any external materials or sources available to you, adhering to these guidelines:\n",
    "\n",
    "**Guidelines for Answering**:\n",
    "- Provide a concise, factual answer for each question using relevant information from both internal knowledge and external sources.\n",
    "- Treat each question as independent, even though they are listed together.\n",
    "- Each answer should strictly start with the unique ID associated with its question.\n",
    "- Use only singular nouns or names in their base form, avoiding declensions and articles.\n",
    "- Use no punctuation, commas, or periods.\n",
    "- If multiple answers exist, separate them with a special token (e.g., \"|\") and sort them by relevance (the most famous one first).\n",
    "- If the answer is unknown or ambiguous, make a best guess based on common or widely accepted knowledge from available sources, but avoid speculation. Use \"Unknown\" only if no answer can reasonably be provided from any source.\n",
    "\n",
    "**Example**:\n",
    "\n",
    "Questions:\n",
    "1782. What is the largest planet in solar system?\n",
    "78. Who starred in the movie Titanic?\n",
    "9231. When did World War II start?\n",
    "\n",
    "Answers:\n",
    "1782. Jupyter\n",
    "78. Leonardo DiCaprio | Kate Winslet | Billy Zane | Kathy Bates\n",
    "9231. 01.09.1939\n",
    "\"\"\""
   ]
  },
  {
   "cell_type": "code",
   "execution_count": 15,
   "id": "a7b20ad5-0bc9-430b-994c-b7d6c77e9b0f",
   "metadata": {},
   "outputs": [],
   "source": [
    "def create_prompt_for_batch(batch):\n",
    "    prompt = 'Questions:\\n'\n",
    "    for (id, question) in batch:\n",
    "        prompt += f\"{str(id)}. {question}\\n\"\n",
    "\n",
    "    prompt += '\\nAnswers:\\n'\n",
    "\n",
    "    return prompt\n",
    "\n",
    "def unpack_batch(result):\n",
    "    result_dict = {}\n",
    "    \n",
    "    # Split the data by lines and process each line\n",
    "    for line in result.splitlines():\n",
    "        key, value = line.split(\". \", 1)  # Split at the first occurrence of \". \"\n",
    "        result_dict[key] = value.strip()  # Convert key to int and strip any whitespace from value\n",
    "\n",
    "    return result_dict"
   ]
  },
  {
   "cell_type": "code",
   "execution_count": 16,
   "id": "ed08e2ed-40ef-4918-91be-347762513f71",
   "metadata": {},
   "outputs": [],
   "source": [
    "question_batch = [(id, info['question']) for id, info in sample_questions.items()]\n",
    "question_batch = [(0, create_prompt_for_batch(question_batch))]\n",
    "result_batch_multiple = process_questions_concurrently(question_batch, system_prompt, MODEL_NAME, client)\n",
    "result_multiple_dict = unpack_batch(result_batch_multiple[0]['result'])"
   ]
  },
  {
   "cell_type": "code",
   "execution_count": 17,
   "id": "3d39b0b4-d5bb-4a56-be86-a399605f6c5e",
   "metadata": {},
   "outputs": [],
   "source": [
    "assert set(result_multiple_dict.keys()) == set([str(id) for id in sample_questions.keys()])"
   ]
  },
  {
   "cell_type": "code",
   "execution_count": 18,
   "id": "3c4b1f8a-8899-4cf9-8b2e-19f5aae3f124",
   "metadata": {},
   "outputs": [
    {
     "data": {
      "text/plain": [
       "1740"
      ]
     },
     "execution_count": 18,
     "metadata": {},
     "output_type": "execute_result"
    }
   ],
   "source": [
    "# Total tokens per 60 questions\n",
    "result_batch_multiple[0]['usage']['total_tokens']"
   ]
  },
  {
   "cell_type": "markdown",
   "id": "9dc7e10b-8f5f-40a3-aee1-e95050a9ae61",
   "metadata": {},
   "source": [
    "### Compare"
   ]
  },
  {
   "cell_type": "code",
   "execution_count": 21,
   "id": "bd6b2c04-fa8f-4fd1-85bf-e3e32727c624",
   "metadata": {},
   "outputs": [],
   "source": [
    "compare_table = pd.DataFrame({\n",
    "    'Single': pd.Series(result_single_dict),\n",
    "    'Multiple': pd.Series(result_multiple_dict),\n",
    "    'Gold': pd.Series({k: ' | '.join(info['text answers']) for k, info in sample_questions.items()})\n",
    "})\n",
    "\n",
    "# compare_table.to_csv('artefacts/sample_compare_table.csv', index=False)"
   ]
  },
  {
   "cell_type": "code",
   "execution_count": 24,
   "id": "0b609cf3-1aea-4efd-acb1-43555d8d849b",
   "metadata": {},
   "outputs": [
    {
     "data": {
      "text/plain": [
       "Single      25\n",
       "Multiple    32\n",
       "Gold         0\n",
       "dtype: int64"
      ]
     },
     "execution_count": 24,
     "metadata": {},
     "output_type": "execute_result"
    }
   ],
   "source": [
    "(compare_table == 'Unknown').sum()"
   ]
  },
  {
   "cell_type": "code",
   "execution_count": 27,
   "id": "71391c2d-bbad-45ec-8b3e-63ac915ad2ac",
   "metadata": {},
   "outputs": [
    {
     "name": "stdout",
     "output_type": "stream",
     "text": [
      "Single accuracy: 5\n",
      "Multiple accuracy: 11\n"
     ]
    }
   ],
   "source": [
    "print('Single accuracy:', (compare_table['Single'] == compare_table['Gold']).sum())\n",
    "print('Multiple accuracy:', (compare_table['Multiple'] == compare_table['Gold']).sum())"
   ]
  },
  {
   "cell_type": "code",
   "execution_count": 186,
   "id": "c69aa63c-5600-48e5-ba9e-36a463b57af2",
   "metadata": {},
   "outputs": [
    {
     "data": {
      "text/html": [
       "<div>\n",
       "<style scoped>\n",
       "    .dataframe tbody tr th:only-of-type {\n",
       "        vertical-align: middle;\n",
       "    }\n",
       "\n",
       "    .dataframe tbody tr th {\n",
       "        vertical-align: top;\n",
       "    }\n",
       "\n",
       "    .dataframe thead th {\n",
       "        text-align: right;\n",
       "    }\n",
       "</style>\n",
       "<table border=\"1\" class=\"dataframe\">\n",
       "  <thead>\n",
       "    <tr style=\"text-align: right;\">\n",
       "      <th></th>\n",
       "      <th>Question</th>\n",
       "      <th>attention</th>\n",
       "      <th>text answers</th>\n",
       "      <th>prediction</th>\n",
       "    </tr>\n",
       "  </thead>\n",
       "  <tbody>\n",
       "    <tr>\n",
       "      <th>376</th>\n",
       "      <td>Which team does Cristiano Ronaldo play for cur...</td>\n",
       "      <td>True</td>\n",
       "      <td>[Al-Nassr, Portugal men's national football team]</td>\n",
       "      <td>[Al Nassr]</td>\n",
       "    </tr>\n",
       "    <tr>\n",
       "      <th>377</th>\n",
       "      <td>Which team did Cristiano Ronaldo play for last...</td>\n",
       "      <td>False</td>\n",
       "      <td>[Manchester United F.C.]</td>\n",
       "      <td>[Manchester United]</td>\n",
       "    </tr>\n",
       "    <tr>\n",
       "      <th>378</th>\n",
       "      <td>Which team does Neymar play for currently?</td>\n",
       "      <td>True</td>\n",
       "      <td>[Al Hilal SFC, Brazil men's national football ...</td>\n",
       "      <td>[Al Hilal]</td>\n",
       "    </tr>\n",
       "    <tr>\n",
       "      <th>379</th>\n",
       "      <td>Which team did Neymar play for last before joi...</td>\n",
       "      <td>False</td>\n",
       "      <td>[Paris Saint-Germain F.C.]</td>\n",
       "      <td>[Paris Saint-Germain]</td>\n",
       "    </tr>\n",
       "    <tr>\n",
       "      <th>390</th>\n",
       "      <td>Which team does Arash Roshanipour play for cur...</td>\n",
       "      <td>True</td>\n",
       "      <td>[Saba Qom F.C.]</td>\n",
       "      <td>[Ezz Steel]</td>\n",
       "    </tr>\n",
       "    <tr>\n",
       "      <th>...</th>\n",
       "      <td>...</td>\n",
       "      <td>...</td>\n",
       "      <td>...</td>\n",
       "      <td>...</td>\n",
       "    </tr>\n",
       "    <tr>\n",
       "      <th>3286</th>\n",
       "      <td>Who is the spouse of the previous head of the ...</td>\n",
       "      <td>False</td>\n",
       "      <td>[Elvira Fernández]</td>\n",
       "      <td>[Sonsoles Espinosa]</td>\n",
       "    </tr>\n",
       "    <tr>\n",
       "      <th>3287</th>\n",
       "      <td>Who did the current head of the government of ...</td>\n",
       "      <td>False</td>\n",
       "      <td>[Michel Bouchez]</td>\n",
       "      <td>[Unknown]</td>\n",
       "    </tr>\n",
       "    <tr>\n",
       "      <th>3288</th>\n",
       "      <td>Who did the previous head of the government of...</td>\n",
       "      <td>False</td>\n",
       "      <td>[Alexandre Bernard]</td>\n",
       "      <td>[Unknown]</td>\n",
       "    </tr>\n",
       "    <tr>\n",
       "      <th>3289</th>\n",
       "      <td>Who did the current head of the government of ...</td>\n",
       "      <td>False</td>\n",
       "      <td>[Federico Sboarina]</td>\n",
       "      <td>[Federico Sboarina]</td>\n",
       "    </tr>\n",
       "    <tr>\n",
       "      <th>3290</th>\n",
       "      <td>Who did the previous head of the government of...</td>\n",
       "      <td>False</td>\n",
       "      <td>[Flavio Tosi]</td>\n",
       "      <td>[Flavio Tosi]</td>\n",
       "    </tr>\n",
       "  </tbody>\n",
       "</table>\n",
       "<p>6011 rows × 4 columns</p>\n",
       "</div>"
      ],
      "text/plain": [
       "                                               Question  attention  \\\n",
       "376   Which team does Cristiano Ronaldo play for cur...       True   \n",
       "377   Which team did Cristiano Ronaldo play for last...      False   \n",
       "378          Which team does Neymar play for currently?       True   \n",
       "379   Which team did Neymar play for last before joi...      False   \n",
       "390   Which team does Arash Roshanipour play for cur...       True   \n",
       "...                                                 ...        ...   \n",
       "3286  Who is the spouse of the previous head of the ...      False   \n",
       "3287  Who did the current head of the government of ...      False   \n",
       "3288  Who did the previous head of the government of...      False   \n",
       "3289  Who did the current head of the government of ...      False   \n",
       "3290  Who did the previous head of the government of...      False   \n",
       "\n",
       "                                           text answers             prediction  \n",
       "376   [Al-Nassr, Portugal men's national football team]             [Al Nassr]  \n",
       "377                            [Manchester United F.C.]    [Manchester United]  \n",
       "378   [Al Hilal SFC, Brazil men's national football ...             [Al Hilal]  \n",
       "379                          [Paris Saint-Germain F.C.]  [Paris Saint-Germain]  \n",
       "390                                     [Saba Qom F.C.]            [Ezz Steel]  \n",
       "...                                                 ...                    ...  \n",
       "3286                                 [Elvira Fernández]    [Sonsoles Espinosa]  \n",
       "3287                                   [Michel Bouchez]              [Unknown]  \n",
       "3288                                [Alexandre Bernard]              [Unknown]  \n",
       "3289                                [Federico Sboarina]    [Federico Sboarina]  \n",
       "3290                                      [Flavio Tosi]          [Flavio Tosi]  \n",
       "\n",
       "[6011 rows x 4 columns]"
      ]
     },
     "execution_count": 186,
     "metadata": {},
     "output_type": "execute_result"
    }
   ],
   "source": [
    "compare_table "
   ]
  },
  {
   "cell_type": "markdown",
   "id": "9dd3a16c-f040-44f7-bd9a-00703ca1d45a",
   "metadata": {},
   "source": [
    "# Process"
   ]
  },
  {
   "cell_type": "code",
   "execution_count": 15,
   "id": "cddb3913-cebf-4a9a-9677-eeeb216d722b",
   "metadata": {},
   "outputs": [],
   "source": [
    "from functions import process_questions_concurrently\n",
    "from openai import OpenAI\n",
    "\n",
    "MODEL_NAME = 'gpt-4o'\n",
    "client = OpenAI(api_key='')"
   ]
  },
  {
   "cell_type": "code",
   "execution_count": 128,
   "id": "a8e2ce56-46e8-4750-82c4-566f0631d9be",
   "metadata": {},
   "outputs": [],
   "source": [
    "def create_prompt_for_batch(batch):\n",
    "    prompt = 'Questions:\\n'\n",
    "    for (id, question) in batch:\n",
    "        prompt += f\"{str(id)}. {question}\\n\"\n",
    "\n",
    "    prompt += '\\nAnswers:\\n'\n",
    "\n",
    "    return prompt\n",
    "\n",
    "def unpack_batch(result):\n",
    "    result_dict = {}\n",
    "    \n",
    "    # Split the data by lines and process each line\n",
    "    for line in result.splitlines():\n",
    "        if '.' in line:\n",
    "            key, value = line.split(\". \", 1)  # Split at the first occurrence of \". \"\n",
    "            result_dict[key] = value.strip()  # Convert key to int and strip any whitespace from value\n",
    "\n",
    "    return result_dict"
   ]
  },
  {
   "cell_type": "code",
   "execution_count": 11,
   "id": "b6b3c02e-1041-423e-90cd-b4099e618fcf",
   "metadata": {},
   "outputs": [],
   "source": [
    "system_prompt = \"\"\"You are an expert assistant in Open-Domain Question Answering. Answer the following list of questions based on your knowledge and any external materials or sources available to you, adhering to these guidelines:\n",
    "\n",
    "**Guidelines for Answering**:\n",
    "- Provide a concise, factual answer for each question using relevant information from both internal knowledge and external sources.\n",
    "- Treat each question as independent, even though they are listed together.\n",
    "- Each answer should strictly start with the unique ID associated with its question.\n",
    "- Use only singular nouns or names in their base form, avoiding declensions and articles.\n",
    "- Use no punctuation, commas, or periods.\n",
    "- If multiple answers exist, separate them with a special token (e.g., \"|\") and sort them by relevance (the most famous one first).\n",
    "- If the answer is unknown or ambiguous, make a best guess based on common or widely accepted knowledge from available sources, but avoid speculation. Use \"Unknown\" only if no answer can reasonably be provided from any source.\n",
    "\n",
    "**Example**:\n",
    "\n",
    "Questions:\n",
    "1782. What is the largest planet in solar system?\n",
    "78. Who starred in the movie Titanic?\n",
    "9231. When did World War II start?\n",
    "\n",
    "Answers:\n",
    "1782. Jupyter\n",
    "78. Leonardo DiCaprio | Kate Winslet | Billy Zane | Kathy Bates\n",
    "9231. 01.09.1939\n",
    "\"\"\""
   ]
  },
  {
   "cell_type": "code",
   "execution_count": 80,
   "id": "3c2dc34f-10ff-4d2a-a79b-ca4a8c771963",
   "metadata": {},
   "outputs": [],
   "source": [
    "chunk_size = 64\n",
    "\n",
    "questions_to_process = []\n",
    "batch_id_info = {}\n",
    "\n",
    "for i, k in enumerate(range(0, len(dataset), chunk_size)):\n",
    "    batch_ids = unique_ids[k:k + chunk_size]\n",
    "    batch_questions = [(id, info['question']) for id, info in dataset.items() if id in batch_ids]\n",
    "\n",
    "    batch = create_prompt_for_batch(batch_questions)\n",
    "    questions_to_process += [(i, batch)]\n",
    "    batch_id_info[i] = batch_questions.copy()"
   ]
  },
  {
   "cell_type": "code",
   "execution_count": 134,
   "id": "b621766a-a37b-4cde-b5f9-1587e3a459ce",
   "metadata": {},
   "outputs": [],
   "source": [
    "dataset_batched_answers = process_questions_concurrently(questions_to_process, system_prompt, MODEL_NAME, client)"
   ]
  },
  {
   "cell_type": "code",
   "execution_count": 135,
   "id": "d8880205-75fc-42d1-a2a5-4b2d3db323f4",
   "metadata": {},
   "outputs": [],
   "source": [
    "for i, info in dataset_batched_answers.items():\n",
    "    if info.get('finish_reason', None) != 'stop' or info['error'] is not None:\n",
    "        print(f'Batch {i} was not completed!')\n",
    "    else:\n",
    "        try:\n",
    "            if set(unpack_batch(info.get('result', {})).keys()) == set([str(id) for id, _ in batch_id_info[i]]):\n",
    "                clean_answers[i] = info.copy()\n",
    "            else:\n",
    "                print(f'Batch {i} was not completed!')\n",
    "        except:\n",
    "            print(f'Batch {i} was not completed!')\n",
    "            continue\n",
    "\n",
    "with open('artefacts/dataset_batched_answers.json', 'w') as f:\n",
    "    json.dump(clean_answers, f)"
   ]
  },
  {
   "cell_type": "code",
   "execution_count": 140,
   "id": "2909eb91-e76a-4f64-b3f3-a3774c8c6fcd",
   "metadata": {},
   "outputs": [],
   "source": [
    "dataset_answers = {}\n",
    "\n",
    "for id, info in clean_answers.items():\n",
    "    dataset_answers.update(unpack_batch(info.get('result', {})))\n",
    "\n",
    "assert set(dataset_answers.keys()) == set(dataset.keys())\n",
    "\n",
    "with open('artefacts/dataset_answers.json', 'w') as f:\n",
    "    json.dump(dataset_answers, f)"
   ]
  },
  {
   "cell_type": "markdown",
   "id": "a3b07a7d-b1aa-425d-ad37-ea0b313ef1fa",
   "metadata": {},
   "source": [
    "# Check answers"
   ]
  },
  {
   "cell_type": "code",
   "execution_count": 141,
   "id": "1da907ec-966f-4e50-a627-99e7c8b3195d",
   "metadata": {},
   "outputs": [],
   "source": [
    "with open('artefacts/dataset_answers.json', 'r') as f:\n",
    "    dataset_answers = json.load(f)"
   ]
  },
  {
   "cell_type": "code",
   "execution_count": 157,
   "id": "ba6791b1-5519-473b-b967-10e2afc2c9f8",
   "metadata": {},
   "outputs": [],
   "source": [
    "df = pd.DataFrame.from_dict(dataset, orient='index')\n",
    "\n",
    "# Select the required columns and rename them\n",
    "result_table = df[['question', 'attention', 'text answers',]].copy()\n",
    "\n",
    "# Rename columns as specified\n",
    "result_table = result_table.rename(columns={\n",
    "    'question': 'Question',\n",
    "    'text answers': 'text answers'\n",
    "})\n",
    "\n",
    "result_table['prediction'] = pd.Series({k: v.split(' | ') for k, v in dataset_answers.items()})"
   ]
  },
  {
   "cell_type": "code",
   "execution_count": 158,
   "id": "d7912119-b57c-488b-9049-e32b021e1715",
   "metadata": {},
   "outputs": [
    {
     "data": {
      "text/html": [
       "<div>\n",
       "<style scoped>\n",
       "    .dataframe tbody tr th:only-of-type {\n",
       "        vertical-align: middle;\n",
       "    }\n",
       "\n",
       "    .dataframe tbody tr th {\n",
       "        vertical-align: top;\n",
       "    }\n",
       "\n",
       "    .dataframe thead th {\n",
       "        text-align: right;\n",
       "    }\n",
       "</style>\n",
       "<table border=\"1\" class=\"dataframe\">\n",
       "  <thead>\n",
       "    <tr style=\"text-align: right;\">\n",
       "      <th></th>\n",
       "      <th>Question</th>\n",
       "      <th>attention</th>\n",
       "      <th>text answers</th>\n",
       "      <th>prediction</th>\n",
       "    </tr>\n",
       "  </thead>\n",
       "  <tbody>\n",
       "    <tr>\n",
       "      <th>376</th>\n",
       "      <td>Which team does Cristiano Ronaldo play for cur...</td>\n",
       "      <td>True</td>\n",
       "      <td>[Al-Nassr, Portugal men's national football team]</td>\n",
       "      <td>[Al Nassr]</td>\n",
       "    </tr>\n",
       "    <tr>\n",
       "      <th>377</th>\n",
       "      <td>Which team did Cristiano Ronaldo play for last...</td>\n",
       "      <td>False</td>\n",
       "      <td>[Manchester United F.C.]</td>\n",
       "      <td>[Manchester United]</td>\n",
       "    </tr>\n",
       "    <tr>\n",
       "      <th>378</th>\n",
       "      <td>Which team does Neymar play for currently?</td>\n",
       "      <td>True</td>\n",
       "      <td>[Al Hilal SFC, Brazil men's national football ...</td>\n",
       "      <td>[Al Hilal]</td>\n",
       "    </tr>\n",
       "    <tr>\n",
       "      <th>379</th>\n",
       "      <td>Which team did Neymar play for last before joi...</td>\n",
       "      <td>False</td>\n",
       "      <td>[Paris Saint-Germain F.C.]</td>\n",
       "      <td>[Paris Saint-Germain]</td>\n",
       "    </tr>\n",
       "    <tr>\n",
       "      <th>390</th>\n",
       "      <td>Which team does Arash Roshanipour play for cur...</td>\n",
       "      <td>True</td>\n",
       "      <td>[Saba Qom F.C.]</td>\n",
       "      <td>[Ezz Steel]</td>\n",
       "    </tr>\n",
       "    <tr>\n",
       "      <th>...</th>\n",
       "      <td>...</td>\n",
       "      <td>...</td>\n",
       "      <td>...</td>\n",
       "      <td>...</td>\n",
       "    </tr>\n",
       "    <tr>\n",
       "      <th>3286</th>\n",
       "      <td>Who is the spouse of the previous head of the ...</td>\n",
       "      <td>False</td>\n",
       "      <td>[Elvira Fernández]</td>\n",
       "      <td>[Sonsoles Espinosa]</td>\n",
       "    </tr>\n",
       "    <tr>\n",
       "      <th>3287</th>\n",
       "      <td>Who did the current head of the government of ...</td>\n",
       "      <td>False</td>\n",
       "      <td>[Michel Bouchez]</td>\n",
       "      <td>[Unknown]</td>\n",
       "    </tr>\n",
       "    <tr>\n",
       "      <th>3288</th>\n",
       "      <td>Who did the previous head of the government of...</td>\n",
       "      <td>False</td>\n",
       "      <td>[Alexandre Bernard]</td>\n",
       "      <td>[Unknown]</td>\n",
       "    </tr>\n",
       "    <tr>\n",
       "      <th>3289</th>\n",
       "      <td>Who did the current head of the government of ...</td>\n",
       "      <td>False</td>\n",
       "      <td>[Federico Sboarina]</td>\n",
       "      <td>[Federico Sboarina]</td>\n",
       "    </tr>\n",
       "    <tr>\n",
       "      <th>3290</th>\n",
       "      <td>Who did the previous head of the government of...</td>\n",
       "      <td>False</td>\n",
       "      <td>[Flavio Tosi]</td>\n",
       "      <td>[Flavio Tosi]</td>\n",
       "    </tr>\n",
       "  </tbody>\n",
       "</table>\n",
       "<p>6011 rows × 4 columns</p>\n",
       "</div>"
      ],
      "text/plain": [
       "                                               Question  attention  \\\n",
       "376   Which team does Cristiano Ronaldo play for cur...       True   \n",
       "377   Which team did Cristiano Ronaldo play for last...      False   \n",
       "378          Which team does Neymar play for currently?       True   \n",
       "379   Which team did Neymar play for last before joi...      False   \n",
       "390   Which team does Arash Roshanipour play for cur...       True   \n",
       "...                                                 ...        ...   \n",
       "3286  Who is the spouse of the previous head of the ...      False   \n",
       "3287  Who did the current head of the government of ...      False   \n",
       "3288  Who did the previous head of the government of...      False   \n",
       "3289  Who did the current head of the government of ...      False   \n",
       "3290  Who did the previous head of the government of...      False   \n",
       "\n",
       "                                           text answers             prediction  \n",
       "376   [Al-Nassr, Portugal men's national football team]             [Al Nassr]  \n",
       "377                            [Manchester United F.C.]    [Manchester United]  \n",
       "378   [Al Hilal SFC, Brazil men's national football ...             [Al Hilal]  \n",
       "379                          [Paris Saint-Germain F.C.]  [Paris Saint-Germain]  \n",
       "390                                     [Saba Qom F.C.]            [Ezz Steel]  \n",
       "...                                                 ...                    ...  \n",
       "3286                                 [Elvira Fernández]    [Sonsoles Espinosa]  \n",
       "3287                                   [Michel Bouchez]              [Unknown]  \n",
       "3288                                [Alexandre Bernard]              [Unknown]  \n",
       "3289                                [Federico Sboarina]    [Federico Sboarina]  \n",
       "3290                                      [Flavio Tosi]          [Flavio Tosi]  \n",
       "\n",
       "[6011 rows x 4 columns]"
      ]
     },
     "execution_count": 158,
     "metadata": {},
     "output_type": "execute_result"
    }
   ],
   "source": [
    "result_table"
   ]
  },
  {
   "cell_type": "code",
   "execution_count": 163,
   "id": "b576b539-9a41-46a1-b5f4-3c706152b0c4",
   "metadata": {},
   "outputs": [
    {
     "data": {
      "image/png": "[encoded data removed]",
      "text/plain": [
       "<Figure size 1200x600 with 1 Axes>"
      ]
     },
     "metadata": {},
     "output_type": "display_data"
    }
   ],
   "source": [
    "import pandas as pd\n",
    "import matplotlib.pyplot as plt\n",
    "\n",
    "# Sample data setup\n",
    "# Assuming `compare_table` is already loaded with columns:\n",
    "# ['Question', 'text answers', 'attention', 'Top-1 from text answers', 'prediction']\n",
    "\n",
    "compare_table = result_table.copy()\n",
    "\n",
    "# 1. Number of predictions with answer 'Unknown', None, [] or ''\n",
    "def count_empty_predictions(row):\n",
    "    return row in [['Unknown'], [None], [], ['']]\n",
    "total_questions = compare_table.shape[0]\n",
    "\n",
    "empty_predictions_count = compare_table['prediction'].apply(count_empty_predictions).sum()\n",
    "\n",
    "# Decompose empty predictions based on attention flag\n",
    "empty_with_attention = compare_table[compare_table['attention'] & compare_table['prediction'].apply(count_empty_predictions)].shape[0]\n",
    "empty_without_attention = empty_predictions_count - empty_with_attention\n",
    "\n",
    "# 2. Number of correctly guessed predictions (at least one element from prediction list is in text answers)\n",
    "def partially_correct(row):\n",
    "    return any(pred in row['text answers'] for pred in row['prediction']) if isinstance(row['prediction'], list) else False\n",
    "\n",
    "partial_correct_count = compare_table.apply(partially_correct, axis=1).sum()\n",
    "\n",
    "# Decompose partially correct predictions based on attention flag\n",
    "partial_correct_with_attention = compare_table[compare_table['attention'] & compare_table.apply(partially_correct, axis=1)].shape[0]\n",
    "partial_correct_without_attention = partial_correct_count - partial_correct_with_attention\n",
    "\n",
    "# 3. Number of correctly guessed predictions (whole list intersection only considered as correctly guessed)\n",
    "def fully_correct(row):\n",
    "    return set(row['prediction']) == set(row['text answers']) if isinstance(row['prediction'], list) else False\n",
    "\n",
    "full_correct_count = compare_table.apply(fully_correct, axis=1).sum()\n",
    "\n",
    "# Decompose fully correct predictions based on attention flag\n",
    "full_correct_with_attention = compare_table[compare_table['attention'] & compare_table.apply(fully_correct, axis=1)].shape[0]\n",
    "full_correct_without_attention = full_correct_count - full_correct_with_attention\n",
    "\n",
    "# 4. Number of totally incorrect predictions (no overlap)\n",
    "def totally_incorrect(row):\n",
    "    is_empty = count_empty_predictions(row['prediction'])\n",
    "    if is_empty:\n",
    "        return False\n",
    "    return not any(pred in row['text answers'] for pred in row['prediction']) if isinstance(row['prediction'], list) else True\n",
    "\n",
    "totally_incorrect_count = compare_table.apply(totally_incorrect, axis=1).sum()\n",
    "\n",
    "# Decompose totally incorrect predictions based on attention flag\n",
    "totally_incorrect_with_attention = compare_table[compare_table['attention'] & compare_table.apply(totally_incorrect, axis=1)].shape[0]\n",
    "totally_incorrect_without_attention = totally_incorrect_count - totally_incorrect_with_attention\n",
    "\n",
    "# Normalizing counts to percentages\n",
    "labels = ['Empty Predictions', 'Partially Correct', 'Fully Correct', 'Totally Incorrect']\n",
    "total_counts = [empty_predictions_count, partial_correct_count, full_correct_count, totally_incorrect_count]\n",
    "attention_counts = [empty_with_attention, partial_correct_with_attention, full_correct_with_attention, totally_incorrect_with_attention]\n",
    "no_attention_counts = [empty_without_attention, partial_correct_without_attention, full_correct_without_attention, totally_incorrect_without_attention]\n",
    "\n",
    "# Normalize to percentage\n",
    "total_counts = [count / total_questions * 100 for count in total_counts]\n",
    "attention_counts = [count / total_questions * 100 for count in attention_counts]\n",
    "no_attention_counts = [count / total_questions * 100 for count in no_attention_counts]\n",
    "\n",
    "# Plotting the normalized bar charts\n",
    "x = range(len(labels))\n",
    "plt.figure(figsize=(12, 6))\n",
    "\n",
    "plt.bar(x, total_counts, width=0.4, label='Total (%)', color='gray')\n",
    "plt.bar([p - 0.2 for p in x], attention_counts, width=0.4, label='Attention = True (%)', color='blue')\n",
    "plt.bar([p + 0.2 for p in x], no_attention_counts, width=0.4, label='Attention = False (%)', color='orange')\n",
    "\n",
    "plt.xlabel('Prediction Type')\n",
    "plt.ylabel('Percentage (%)')\n",
    "plt.title('Normalized Prediction Analysis with Attention Decomposition')\n",
    "plt.xticks(x, labels)\n",
    "plt.legend()\n",
    "plt.show()"
   ]
  }
 ],
 "metadata": {
  "kernelspec": {
   "display_name": "Python 3 (ipykernel)",
   "language": "python",
   "name": "python3"
  },
  "language_info": {
   "codemirror_mode": {
    "name": "ipython",
    "version": 3
   },
   "file_extension": ".py",
   "mimetype": "text/x-python",
   "name": "python",
   "nbconvert_exporter": "python",
   "pygments_lexer": "ipython3",
   "version": "3.11.8"
  }
 },
 "nbformat": 4,
 "nbformat_minor": 5
}
