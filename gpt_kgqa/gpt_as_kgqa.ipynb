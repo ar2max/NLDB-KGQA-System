{
 "cells": [
  {
   "cell_type": "code",
   "execution_count": 1,
   "id": "803f8ed4-fa45-4f00-9f9e-653451004908",
   "metadata": {},
   "outputs": [],
   "source": [
    "import re\n",
    "import json\n",
    "import pandas as pd"
   ]
  },
  {
   "cell_type": "markdown",
   "id": "4e7b8ca5-6322-4c9e-8f1a-8ed144362991",
   "metadata": {},
   "source": [
    "# Read datasets"
   ]
  },
  {
   "cell_type": "code",
   "execution_count": 2,
   "id": "b97c5005-da63-4dd0-8cf6-abf108835ce2",
   "metadata": {},
   "outputs": [],
   "source": [
    "# def read_dataset(name, split):\n",
    "#     return json.load(open(f'../data/preprocessed/{name}/{name}_{split}.json'))['dataset']\n",
    "\n",
    "def read_dataset(name, split):\n",
    "    return json.load(open(f'data/e2e_validation_datasets/{name}_input_dataset.json'))"
   ]
  },
  {
   "cell_type": "markdown",
   "id": "0b31d25d-c780-43e5-a262-a91f0cf8d604",
   "metadata": {},
   "source": [
    "# Make tasks"
   ]
  },
  {
   "cell_type": "code",
   "execution_count": 3,
   "id": "4fee1f34-bf8a-4b48-912a-f7539f740259",
   "metadata": {},
   "outputs": [],
   "source": [
    "system_prompt = \"\"\"You are a text-to-SPARQL converter for Wikidata. Given a natural language question (QUESTION) and a set of extracted entities (QUESTION ENTITIES) - Wikidata IDs and labels, generate an optimized SPARQL query that retrieves relevant data from Wikidata's query service. Ensure the query is efficient, using appropriate properties, filters, and service clauses where necessary.\n",
    "Do not include any explanations, comments, or additional text before or after the SPARQL query. Output only the SPARQL query enclosed within triple backticks (```).\n",
    "\n",
    "Examples:\n",
    "QUESTION: What is the name of the capital of Romania?\n",
    "ENTITIES:\n",
    "Q218 - Romania\n",
    "\n",
    "RELATIONS:\n",
    "P36 - capital\n",
    "P1376 - capital of\n",
    "\n",
    "assistant: ```select ?answer where { wd:Q218 wdt:P36 ?answer }```\n",
    "\n",
    "QUESTION: Which countries have places with more than two caves?\n",
    "ENTITIES:\n",
    "Q35509: cave\n",
    "\n",
    "RELATIONS:\n",
    "P31 - instance of\n",
    "P17 - country\n",
    "\n",
    "assistant: ``select distinct ?uri where { ?cave wdt:P31 wd:Q35509 ; wdt:P17 ?uri  } group by ?uri having ( count ( ?cave ) > 2 )```\n",
    "\n",
    "\n",
    "QUESTION: Who did the current head of the government of Kinmen succeed in office?\n",
    "ENTITIES:\n",
    "Q249870 - Kinmen County\n",
    "\n",
    "RELATIONS:\n",
    "P6: head of government\n",
    "P1365 - replaces\n",
    "\n",
    "assistant: ```SELECT ?item ?itemLabel (YEAR(?starttime) AS ?yearstarttime) ?endtime WHERE { wd:Q249870 p:P6 ?s  . ?s  ps:P6 ?item . ?s  pq:P580 ?starttime  . FILTER NOT EXISTS{ ?s pq:P582 ?endtime .}. } order by desc(?starttime)```\n",
    "\"\"\"\n",
    "\n",
    "question_task = lambda question, entities,  lang='en': f'''QUESTION: {question}\\nQUESTION ENTITIES:\\n{format_id2alias(id2alias, lang)}'''"
   ]
  },
  {
   "cell_type": "code",
   "execution_count": 4,
   "id": "d65bacb1-f3f5-4f46-a571-627b3105efee",
   "metadata": {},
   "outputs": [],
   "source": [
    "# response_format = {\n",
    "#     \"type\": \"json_schema\",\n",
    "#     \"json_schema\": {\n",
    "#         \"name\": \"SPARQL_query\",\n",
    "#         \"strict\": True,\n",
    "#         \"schema\": {\n",
    "#             \"type\": \"object\",\n",
    "#             \"properties\": {\n",
    "#                 \"sparql_query\": {\"type\": \"string\"}\n",
    "#             },\n",
    "#             \"required\": [\"sparql_query\"],\n",
    "#             \"additionalProperties\": False\n",
    "#         }\n",
    "#     }\n",
    "\n",
    "def format_gold_qid(id_map):\n",
    "    if not id_map:\n",
    "        return \" - None\\n\"\n",
    "    return \"\".join(f\"{pid} - {label.get('en', 'N/A')}\\n\" for pid, label in id_map.items() if label)\n",
    "\n",
    "def format_qid(id_map):\n",
    "    if not id_map:\n",
    "        return \" - None\\n\"\n",
    "    return \"\".join(f\"{qid} - {label}\\n\" for qid, label in id_map.items() if label)\n",
    "\n",
    "def format_id2alias(id2alias, lang='en'):\n",
    "    alias_list = []\n",
    "    for wikidata_id, alias_lang_dict in id2alias.items():\n",
    "        if alias_lang_dict:\n",
    "            label = alias_lang_dict.get(lang)\n",
    "            alias_list.append(f'{wikidata_id}: {label}')\n",
    "    return '\\n'.join(alias_list)\n",
    "\n",
    "def create_task(item, lang='en'):\n",
    "    question = item[f'question']\n",
    "    # entities = item['entities']['question'] if item['entities']['question'] not in (None, {}) else item['entities']['query']\n",
    "    # relations = item['relations']['question'] if item['relations']['question'] not in (None, {}) else item['relations']['query']\n",
    "    # entities_string = format_gold_qid(entities)\n",
    "    # relations_string = format_gold_qid(relations)\n",
    "\n",
    "    entities = item['entities']\n",
    "    relations = item['relations']\n",
    "    entities_string = format_qid(entities)\n",
    "    relations_string = format_qid(relations)\n",
    "    \n",
    "\n",
    "    return f\"QUESTION: {question}\\nENTITIES:\\n{entities_string}\\nRELATIONS:\\n{relations_string}\\n\"\n",
    "\n",
    "\n",
    "def create_request(request_id, task, metadata, model_name, system_prompt=system_prompt):\n",
    "    return {\n",
    "        \"custom_id\": request_id,\n",
    "        \"method\": \"POST\",\n",
    "        \"url\": \"/v1/chat/completions\",\n",
    "        \"body\": {\n",
    "            \"model\": model_name,\n",
    "            \"store\": True,\n",
    "            \"messages\": [\n",
    "                {\n",
    "                  \"role\": \"system\",\n",
    "                  \"content\": system_prompt\n",
    "                },\n",
    "                {\n",
    "                  \"role\": \"user\",\n",
    "                  \"content\": task,\n",
    "                }\n",
    "            ],\n",
    "            \"metadata\": metadata,\n",
    "           # \"response_format\": response_format,\n",
    "            \"seed\": 42,      \n",
    "        }\n",
    "    }\n",
    "\n",
    "def item2request(item, dataset_name, model_name='gpt-4', lang='en'):\n",
    "    request_id = str(item['id'])\n",
    "    question = item[f'question']\n",
    "    task = create_task(item)\n",
    "    metadata = {\n",
    "        \"dataset\": dataset_name,\n",
    "        \"question\": question\n",
    "    }\n",
    "    \n",
    "    return create_request(request_id, task, metadata, model_name=model_name)\n",
    "\n",
    "def create_jsonl_file(requests_list, file_path):\n",
    "    with open(file_path, \"w\", encoding=\"utf-8\") as f:\n",
    "        for request in requests_list:\n",
    "            f.write(json.dumps(request, ensure_ascii=False) + \"\\n\")\n",
    "\n",
    "    print(f\"JSONL file created successfully at {file_path}\")\n",
    "\n",
    "\n",
    "def extract_sparql(sparql_string):\n",
    "    match = re.search(r'```(.*?)```', sparql_string, re.DOTALL)\n",
    "    if match:\n",
    "        return match.group(1).strip()\n",
    "    else:\n",
    "        return sparql_string"
   ]
  },
  {
   "cell_type": "markdown",
   "id": "eefb0bd2-1ed3-4618-8bd1-b042a14a4da1",
   "metadata": {},
   "source": [
    "# Test"
   ]
  },
  {
   "cell_type": "code",
   "execution_count": 14,
   "id": "9e0b87a6-a86c-43f3-b842-d0695fa66e9b",
   "metadata": {},
   "outputs": [],
   "source": [
    "from openai import OpenAI\n",
    "\n",
    "API_KEY = ''\n",
    "client = OpenAI(api_key=API_KEY)\n",
    "\n",
    "model_name = 'gpt-4'\n",
    "lang = 'en'"
   ]
  },
  {
   "cell_type": "markdown",
   "id": "3b704fd6-f718-4390-9218-b6e7b5203622",
   "metadata": {},
   "source": [
    "# RuBQ"
   ]
  },
  {
   "cell_type": "code",
   "execution_count": 15,
   "id": "e3f1757e-5561-45f9-8826-c1e7a6dfc255",
   "metadata": {},
   "outputs": [
    {
     "name": "stdout",
     "output_type": "stream",
     "text": [
      "JSONL file created successfully at data/gpt_as_kgqa/batches/rubq_batch.jsonl\n"
     ]
    }
   ],
   "source": [
    "dataset_name = 'rubq'\n",
    "\n",
    "dataset = read_dataset(dataset_name, 'test')\n",
    "assert len({d['id'] for d in dataset}) == len(dataset), \"Duplicate IDs found!\"\n",
    "\n",
    "requests_list = [item2request(item, dataset_name, model_name=model_name, lang=lang) for item in dataset]\n",
    "batch_filepath = f\"data/gpt_as_kgqa/batches/{dataset_name}_batch.jsonl\"\n",
    "\n",
    "create_jsonl_file(requests_list, batch_filepath)\n",
    "\n",
    "batch_input_file = client.files.create(\n",
    "    file=open(batch_filepath, \"rb\"),\n",
    "    purpose=\"batch\"\n",
    ")\n",
    "\n",
    "batch = client.batches.create(\n",
    "    input_file_id=batch_input_file.id,\n",
    "    endpoint=\"/v1/chat/completions\",\n",
    "    completion_window=\"24h\",\n",
    "    metadata={\n",
    "        \"dataset\": dataset_name\n",
    "    }\n",
    ")"
   ]
  },
  {
   "cell_type": "code",
   "execution_count": 19,
   "id": "146549a4-ca38-4389-b8fd-3cbf86b279d9",
   "metadata": {},
   "outputs": [
    {
     "name": "stdout",
     "output_type": "stream",
     "text": [
      "Batch(id='batch_67d716338e3c819086de9fe7d8d9e848', completion_window='24h', created_at=1742149171, endpoint='/v1/chat/completions', input_file_id='file-JCu93JW4uzv2JLqm2EbamX', object='batch', status='completed', cancelled_at=None, cancelling_at=None, completed_at=1742149774, error_file_id=None, errors=None, expired_at=None, expires_at=1742235571, failed_at=None, finalizing_at=1742149739, in_progress_at=1742149173, metadata={'dataset': 'rubq'}, output_file_id='file-QQidiwrXiRYDNCEpyb6g1d', request_counts=BatchRequestCounts(completed=474, failed=0, total=474))\n"
     ]
    }
   ],
   "source": [
    "file_id = batch_input_file.id\n",
    "batch_id = batch.id\n",
    "\n",
    "batch = client.batches.retrieve(batch_id)\n",
    "print(batch)"
   ]
  },
  {
   "cell_type": "code",
   "execution_count": 21,
   "id": "5be5f542-bb10-4310-8219-322043951285",
   "metadata": {},
   "outputs": [],
   "source": [
    "batch = client.batches.retrieve(batch_id)\n",
    "output_file_id = batch.output_file_id\n",
    "\n",
    "file_response = client.files.content(output_file_id)\n",
    "responses = [json.loads(line) for line in file_response.text.splitlines()]\n",
    "\n",
    "gpt_predicted_sparqls = {response['custom_id']: extract_sparql(response['response']['body']['choices'][0]['message']['content']) for response in responses}\n",
    "id2question = {str(item['id']): item['question'] for item in dataset}\n",
    "id2sparql = {str(item['id']): item['query'] for item in dataset}\n",
    "assert set(gpt_predicted_sparqls.keys()) == set(id2question.keys())\n",
    "\n",
    "prediction = pd.DataFrame({\n",
    "    'question': id2question,\n",
    "    'sparql': id2sparql,\n",
    "    'gpt_sparql': gpt_predicted_sparqls\n",
    "})\n",
    "\n",
    "prediction.to_csv(f'data/gpt_as_kgqa/refined_results/{dataset_name}.csv')"
   ]
  },
  {
   "cell_type": "code",
   "execution_count": 22,
   "id": "fa8d0312-9f38-4a9a-8c10-ae54e374f2f4",
   "metadata": {},
   "outputs": [
    {
     "data": {
      "text/html": [
       "<div>\n",
       "<style scoped>\n",
       "    .dataframe tbody tr th:only-of-type {\n",
       "        vertical-align: middle;\n",
       "    }\n",
       "\n",
       "    .dataframe tbody tr th {\n",
       "        vertical-align: top;\n",
       "    }\n",
       "\n",
       "    .dataframe thead th {\n",
       "        text-align: right;\n",
       "    }\n",
       "</style>\n",
       "<table border=\"1\" class=\"dataframe\">\n",
       "  <thead>\n",
       "    <tr style=\"text-align: right;\">\n",
       "      <th></th>\n",
       "      <th>question</th>\n",
       "      <th>sparql</th>\n",
       "      <th>gpt_sparql</th>\n",
       "    </tr>\n",
       "  </thead>\n",
       "  <tbody>\n",
       "    <tr>\n",
       "      <th>4</th>\n",
       "      <td>Which country does the famous Easter island be...</td>\n",
       "      <td>select ?answer where { wd:Q14452 wdt:P17 ?answ...</td>\n",
       "      <td>SELECT ?answerLabel WHERE { wd:Q14452 wdt:P17 ...</td>\n",
       "    </tr>\n",
       "    <tr>\n",
       "      <th>7</th>\n",
       "      <td>Which music group is Mick Jagger's name inextr...</td>\n",
       "      <td>select ?answer where { wd:Q128121 wdt:P361 ?an...</td>\n",
       "      <td>SELECT ?group WHERE { wd:Q128121 wdt:P463 ?gro...</td>\n",
       "    </tr>\n",
       "    <tr>\n",
       "      <th>14</th>\n",
       "      <td>Where is the Summer garden?</td>\n",
       "      <td>select ?answer where { wd:Q1229234 wdt:P131 ?a...</td>\n",
       "      <td>SELECT ?location WHERE { wd:Q1229234 wdt:P276 ...</td>\n",
       "    </tr>\n",
       "    <tr>\n",
       "      <th>22</th>\n",
       "      <td>Which city is the capital of Turkmenistan?</td>\n",
       "      <td>select ?answer where { wd:Q874 wdt:P36 ?answer }</td>\n",
       "      <td>select ?answer where { wd:Q874 wdt:P36 ?answer }</td>\n",
       "    </tr>\n",
       "    <tr>\n",
       "      <th>25</th>\n",
       "      <td>In which city was the first Russian revolution...</td>\n",
       "      <td>select ?answer where { wd:Q2533402 wdt:P159 ?a...</td>\n",
       "      <td>SELECT ?city ?cityLabel WHERE { wd:Q2533402 wd...</td>\n",
       "    </tr>\n",
       "  </tbody>\n",
       "</table>\n",
       "</div>"
      ],
      "text/plain": [
       "                                             question  \\\n",
       "4   Which country does the famous Easter island be...   \n",
       "7   Which music group is Mick Jagger's name inextr...   \n",
       "14                        Where is the Summer garden?   \n",
       "22         Which city is the capital of Turkmenistan?   \n",
       "25  In which city was the first Russian revolution...   \n",
       "\n",
       "                                               sparql  \\\n",
       "4   select ?answer where { wd:Q14452 wdt:P17 ?answ...   \n",
       "7   select ?answer where { wd:Q128121 wdt:P361 ?an...   \n",
       "14  select ?answer where { wd:Q1229234 wdt:P131 ?a...   \n",
       "22   select ?answer where { wd:Q874 wdt:P36 ?answer }   \n",
       "25  select ?answer where { wd:Q2533402 wdt:P159 ?a...   \n",
       "\n",
       "                                           gpt_sparql  \n",
       "4   SELECT ?answerLabel WHERE { wd:Q14452 wdt:P17 ...  \n",
       "7   SELECT ?group WHERE { wd:Q128121 wdt:P463 ?gro...  \n",
       "14  SELECT ?location WHERE { wd:Q1229234 wdt:P276 ...  \n",
       "22   select ?answer where { wd:Q874 wdt:P36 ?answer }  \n",
       "25  SELECT ?city ?cityLabel WHERE { wd:Q2533402 wd...  "
      ]
     },
     "execution_count": 22,
     "metadata": {},
     "output_type": "execute_result"
    }
   ],
   "source": [
    "prediction.head()"
   ]
  },
  {
   "cell_type": "markdown",
   "id": "20971eed-c241-4055-a436-373dd352f6a1",
   "metadata": {},
   "source": [
    "# Qald"
   ]
  },
  {
   "cell_type": "code",
   "execution_count": 25,
   "id": "53d6b98c-e275-4412-a768-5fed5da48de6",
   "metadata": {},
   "outputs": [
    {
     "name": "stdout",
     "output_type": "stream",
     "text": [
      "JSONL file created successfully at data/gpt_as_kgqa/batches/qald_batch.jsonl\n"
     ]
    }
   ],
   "source": [
    "dataset_name = 'qald'\n",
    "\n",
    "dataset = read_dataset(dataset_name, 'test')\n",
    "assert len({d['id'] for d in dataset}) == len(dataset), \"Duplicate IDs found!\"\n",
    "\n",
    "requests_list = [item2request(item, dataset_name, model_name=model_name, lang=lang) for item in dataset]\n",
    "batch_filepath = f\"data/gpt_as_kgqa/batches/{dataset_name}_batch.jsonl\"\n",
    "\n",
    "create_jsonl_file(requests_list, batch_filepath)\n",
    "\n",
    "batch_input_file = client.files.create(\n",
    "    file=open(batch_filepath, \"rb\"),\n",
    "    purpose=\"batch\"\n",
    ")\n",
    "\n",
    "batch = client.batches.create(\n",
    "    input_file_id=batch_input_file.id,\n",
    "    endpoint=\"/v1/chat/completions\",\n",
    "    completion_window=\"24h\",\n",
    "    metadata={\n",
    "        \"dataset\": dataset_name\n",
    "    }\n",
    ")"
   ]
  },
  {
   "cell_type": "code",
   "execution_count": 29,
   "id": "ecf127c1-1a17-4fd4-92dc-55be006cd3a9",
   "metadata": {},
   "outputs": [
    {
     "name": "stdout",
     "output_type": "stream",
     "text": [
      "Batch(id='batch_67d7191b666c81909b2fdd058f4e2d04', completion_window='24h', created_at=1742149915, endpoint='/v1/chat/completions', input_file_id='file-8ggBkNc8KQiob9aWnioi4E', object='batch', status='completed', cancelled_at=None, cancelling_at=None, completed_at=1742150078, error_file_id=None, errors=None, expired_at=None, expires_at=1742236315, failed_at=None, finalizing_at=1742150051, in_progress_at=1742149916, metadata={'dataset': 'qald'}, output_file_id='file-GfDEbdKeejh7VLfMLFQdeL', request_counts=BatchRequestCounts(completed=384, failed=0, total=384))\n"
     ]
    }
   ],
   "source": [
    "file_id = batch_input_file.id\n",
    "batch_id = batch.id\n",
    "\n",
    "batch = client.batches.retrieve(batch_id)\n",
    "print(batch)"
   ]
  },
  {
   "cell_type": "code",
   "execution_count": 32,
   "id": "0abe6f31-8fb4-4a50-a558-d264f2ae13a6",
   "metadata": {},
   "outputs": [],
   "source": [
    "batch = client.batches.retrieve(batch_id)\n",
    "output_file_id = batch.output_file_id\n",
    "\n",
    "file_response = client.files.content(output_file_id)\n",
    "responses = [json.loads(line) for line in file_response.text.splitlines()]\n",
    "\n",
    "gpt_predicted_sparqls = {response['custom_id']: extract_sparql(response['response']['body']['choices'][0]['message']['content']) for response in responses}\n",
    "id2question = {str(item['id']): item['question'] for item in dataset}\n",
    "id2sparql = {str(item['id']): item['query'] for item in dataset}\n",
    "assert set(gpt_predicted_sparqls.keys()) == set(id2question.keys())\n",
    "\n",
    "prediction = pd.DataFrame({\n",
    "    'question': id2question,\n",
    "    'sparql': id2sparql,\n",
    "    'gpt_sparql': gpt_predicted_sparqls\n",
    "})\n",
    "\n",
    "prediction.to_csv(f'data/gpt_as_kgqa/refined_results/{dataset_name}.csv')"
   ]
  },
  {
   "cell_type": "code",
   "execution_count": 33,
   "id": "adf0ae6b-3c22-48c1-9611-55167b8ed12e",
   "metadata": {},
   "outputs": [
    {
     "data": {
      "text/html": [
       "<div>\n",
       "<style scoped>\n",
       "    .dataframe tbody tr th:only-of-type {\n",
       "        vertical-align: middle;\n",
       "    }\n",
       "\n",
       "    .dataframe tbody tr th {\n",
       "        vertical-align: top;\n",
       "    }\n",
       "\n",
       "    .dataframe thead th {\n",
       "        text-align: right;\n",
       "    }\n",
       "</style>\n",
       "<table border=\"1\" class=\"dataframe\">\n",
       "  <thead>\n",
       "    <tr style=\"text-align: right;\">\n",
       "      <th></th>\n",
       "      <th>question</th>\n",
       "      <th>sparql</th>\n",
       "      <th>gpt_sparql</th>\n",
       "    </tr>\n",
       "  </thead>\n",
       "  <tbody>\n",
       "    <tr>\n",
       "      <th>0</th>\n",
       "      <td>After whom is the Riemannian geometry named?</td>\n",
       "      <td>select distinct ?result where { wd:Q761383 wdt...</td>\n",
       "      <td>SELECT ?answer WHERE { wd:Q761383 wdt:P138 ?an...</td>\n",
       "    </tr>\n",
       "    <tr>\n",
       "      <th>1</th>\n",
       "      <td>Which animal participated in a military operat...</td>\n",
       "      <td>select distinct ?result where { ?result wdt:P3...</td>\n",
       "      <td>SELECT ?animal ?animalLabel WHERE {\\n  ?animal...</td>\n",
       "    </tr>\n",
       "    <tr>\n",
       "      <th>2</th>\n",
       "      <td>among the characters in the witcher, who has t...</td>\n",
       "      <td>select distinct ?result where { wd:Q11835640 w...</td>\n",
       "      <td>SELECT ?character WHERE { ?character wdt:P451 ...</td>\n",
       "    </tr>\n",
       "    <tr>\n",
       "      <th>3</th>\n",
       "      <td>among the founders of tencent company, who has...</td>\n",
       "      <td>select distinct ?result where { wd:Q860580 wdt...</td>\n",
       "      <td>SELECT ?founder ?founderLabel WHERE {\\n  wd:Q4...</td>\n",
       "    </tr>\n",
       "    <tr>\n",
       "      <th>4</th>\n",
       "      <td>among the other representative work of the aut...</td>\n",
       "      <td>select distinct ?result where { wd:Q696071 wdt...</td>\n",
       "      <td>SELECT ?work ?workLabel WHERE { \\n  wd:Q696071...</td>\n",
       "    </tr>\n",
       "  </tbody>\n",
       "</table>\n",
       "</div>"
      ],
      "text/plain": [
       "                                            question  \\\n",
       "0       After whom is the Riemannian geometry named?   \n",
       "1  Which animal participated in a military operat...   \n",
       "2  among the characters in the witcher, who has t...   \n",
       "3  among the founders of tencent company, who has...   \n",
       "4  among the other representative work of the aut...   \n",
       "\n",
       "                                              sparql  \\\n",
       "0  select distinct ?result where { wd:Q761383 wdt...   \n",
       "1  select distinct ?result where { ?result wdt:P3...   \n",
       "2  select distinct ?result where { wd:Q11835640 w...   \n",
       "3  select distinct ?result where { wd:Q860580 wdt...   \n",
       "4  select distinct ?result where { wd:Q696071 wdt...   \n",
       "\n",
       "                                          gpt_sparql  \n",
       "0  SELECT ?answer WHERE { wd:Q761383 wdt:P138 ?an...  \n",
       "1  SELECT ?animal ?animalLabel WHERE {\\n  ?animal...  \n",
       "2  SELECT ?character WHERE { ?character wdt:P451 ...  \n",
       "3  SELECT ?founder ?founderLabel WHERE {\\n  wd:Q4...  \n",
       "4  SELECT ?work ?workLabel WHERE { \\n  wd:Q696071...  "
      ]
     },
     "execution_count": 33,
     "metadata": {},
     "output_type": "execute_result"
    }
   ],
   "source": [
    "prediction.head()"
   ]
  },
  {
   "cell_type": "markdown",
   "id": "c89d1517-b045-4336-a5ac-7e00ab51c86b",
   "metadata": {},
   "source": [
    "### LcQuad"
   ]
  },
  {
   "cell_type": "code",
   "execution_count": 35,
   "id": "3f502f77-8303-43a1-934a-09e5520440a9",
   "metadata": {},
   "outputs": [
    {
     "name": "stdout",
     "output_type": "stream",
     "text": [
      "JSONL file created successfully at data/gpt_as_kgqa/batches/lcquad_batch.jsonl\n"
     ]
    }
   ],
   "source": [
    "dataset_name = 'lcquad'\n",
    "\n",
    "dataset = read_dataset(dataset_name, 'test')\n",
    "assert len({d['id'] for d in dataset}) == len(dataset), \"Duplicate IDs found!\"\n",
    "\n",
    "requests_list = [item2request(item, dataset_name, model_name=model_name, lang=lang) for item in dataset]\n",
    "batch_filepath = f\"data/gpt_as_kgqa/batches/{dataset_name}_batch.jsonl\"\n",
    "\n",
    "create_jsonl_file(requests_list, batch_filepath)\n",
    "\n",
    "batch_input_file = client.files.create(\n",
    "    file=open(batch_filepath, \"rb\"),\n",
    "    purpose=\"batch\"\n",
    ")\n",
    "\n",
    "batch = client.batches.create(\n",
    "    input_file_id=batch_input_file.id,\n",
    "    endpoint=\"/v1/chat/completions\",\n",
    "    completion_window=\"24h\",\n",
    "    metadata={\n",
    "        \"dataset\": dataset_name\n",
    "    }\n",
    ")"
   ]
  },
  {
   "cell_type": "code",
   "execution_count": 42,
   "id": "08de6572-7c0b-4a13-acbe-d5f226cf710f",
   "metadata": {},
   "outputs": [
    {
     "name": "stdout",
     "output_type": "stream",
     "text": [
      "Batch(id='batch_67d719f942bc8190ba965409fc0c918c', completion_window='24h', created_at=1742150137, endpoint='/v1/chat/completions', input_file_id='file-JTExccHAfQXAdzJQFNcszf', object='batch', status='completed', cancelled_at=None, cancelling_at=None, completed_at=1742152679, error_file_id=None, errors=None, expired_at=None, expires_at=1742236537, failed_at=None, finalizing_at=1742152269, in_progress_at=1742150139, metadata={'dataset': 'lcquad'}, output_file_id='file-T2wTvBmP9RUwzK1fBieV2F', request_counts=BatchRequestCounts(completed=4540, failed=0, total=4540))\n"
     ]
    }
   ],
   "source": [
    "file_id = batch_input_file.id\n",
    "batch_id = batch.id\n",
    "\n",
    "batch = client.batches.retrieve(batch_id)\n",
    "print(batch)"
   ]
  },
  {
   "cell_type": "code",
   "execution_count": 43,
   "id": "c3d11871-851b-4751-bdfd-8ec75511c72d",
   "metadata": {},
   "outputs": [],
   "source": [
    "batch = client.batches.retrieve(batch_id)\n",
    "output_file_id = batch.output_file_id\n",
    "\n",
    "file_response = client.files.content(output_file_id)\n",
    "responses = [json.loads(line) for line in file_response.text.splitlines()]\n",
    "\n",
    "gpt_predicted_sparqls = {response['custom_id']: extract_sparql(response['response']['body']['choices'][0]['message']['content']) for response in responses}\n",
    "id2question = {str(item['id']): item['question'] for item in dataset}\n",
    "id2sparql = {str(item['id']): item['query'] for item in dataset}\n",
    "assert set(gpt_predicted_sparqls.keys()) == set(id2question.keys())\n",
    "\n",
    "prediction = pd.DataFrame({\n",
    "    'question': id2question,\n",
    "    'sparql': id2sparql,\n",
    "    'gpt_sparql': gpt_predicted_sparqls\n",
    "})\n",
    "\n",
    "prediction.to_csv(f'data/gpt_as_kgqa/refined_results/{dataset_name}.csv')"
   ]
  },
  {
   "cell_type": "code",
   "execution_count": 44,
   "id": "4c73e6f4-983e-4ad1-b8b3-524484f74a69",
   "metadata": {},
   "outputs": [
    {
     "data": {
      "text/html": [
       "<div>\n",
       "<style scoped>\n",
       "    .dataframe tbody tr th:only-of-type {\n",
       "        vertical-align: middle;\n",
       "    }\n",
       "\n",
       "    .dataframe tbody tr th {\n",
       "        vertical-align: top;\n",
       "    }\n",
       "\n",
       "    .dataframe thead th {\n",
       "        text-align: right;\n",
       "    }\n",
       "</style>\n",
       "<table border=\"1\" class=\"dataframe\">\n",
       "  <thead>\n",
       "    <tr style=\"text-align: right;\">\n",
       "      <th></th>\n",
       "      <th>question</th>\n",
       "      <th>sparql</th>\n",
       "      <th>gpt_sparql</th>\n",
       "    </tr>\n",
       "  </thead>\n",
       "  <tbody>\n",
       "    <tr>\n",
       "      <th>0</th>\n",
       "      <td>What was the population of Somalia in 2009-0-0?</td>\n",
       "      <td>select ?obj where { wd:Q1045 p:P1082 ?s . ?s p...</td>\n",
       "      <td>SELECT ?population WHERE { wd:Q1045 p:P1082 ?s...</td>\n",
       "    </tr>\n",
       "    <tr>\n",
       "      <th>1</th>\n",
       "      <td>Which female actress is the voice over on Sout...</td>\n",
       "      <td>select ?answer where { wd:Q16538 wdt:P725 ?ans...</td>\n",
       "      <td>SELECT DISTINCT ?actress ?actressLabel WHERE {...</td>\n",
       "    </tr>\n",
       "    <tr>\n",
       "      <th>2</th>\n",
       "      <td>What was the population of Clermont-Ferrand on...</td>\n",
       "      <td>select ?obj where { wd:Q42168 p:P1082 ?s . ?s ...</td>\n",
       "      <td>SELECT ?population WHERE { \\n  wd:Q42168 p:P10...</td>\n",
       "    </tr>\n",
       "    <tr>\n",
       "      <th>3</th>\n",
       "      <td>On Lake Winnipeg what is the lakes on river?</td>\n",
       "      <td>select distinct ?answer where { ?answer wdt:P4...</td>\n",
       "      <td>SELECT ?river ?riverLabel WHERE { wd:Q3272 wdt...</td>\n",
       "    </tr>\n",
       "    <tr>\n",
       "      <th>4</th>\n",
       "      <td>What open cluster has the largest radius?</td>\n",
       "      <td>select ?ent where { ?ent wdt:P31 wd:Q11387 . ?...</td>\n",
       "      <td>SELECT ?cluster ?clusterLabel ?radius WHERE { ...</td>\n",
       "    </tr>\n",
       "  </tbody>\n",
       "</table>\n",
       "</div>"
      ],
      "text/plain": [
       "                                            question  \\\n",
       "0    What was the population of Somalia in 2009-0-0?   \n",
       "1  Which female actress is the voice over on Sout...   \n",
       "2  What was the population of Clermont-Ferrand on...   \n",
       "3       On Lake Winnipeg what is the lakes on river?   \n",
       "4          What open cluster has the largest radius?   \n",
       "\n",
       "                                              sparql  \\\n",
       "0  select ?obj where { wd:Q1045 p:P1082 ?s . ?s p...   \n",
       "1  select ?answer where { wd:Q16538 wdt:P725 ?ans...   \n",
       "2  select ?obj where { wd:Q42168 p:P1082 ?s . ?s ...   \n",
       "3  select distinct ?answer where { ?answer wdt:P4...   \n",
       "4  select ?ent where { ?ent wdt:P31 wd:Q11387 . ?...   \n",
       "\n",
       "                                          gpt_sparql  \n",
       "0  SELECT ?population WHERE { wd:Q1045 p:P1082 ?s...  \n",
       "1  SELECT DISTINCT ?actress ?actressLabel WHERE {...  \n",
       "2  SELECT ?population WHERE { \\n  wd:Q42168 p:P10...  \n",
       "3  SELECT ?river ?riverLabel WHERE { wd:Q3272 wdt...  \n",
       "4  SELECT ?cluster ?clusterLabel ?radius WHERE { ...  "
      ]
     },
     "execution_count": 44,
     "metadata": {},
     "output_type": "execute_result"
    }
   ],
   "source": [
    "prediction.head()"
   ]
  },
  {
   "cell_type": "markdown",
   "id": "d760ebe5-0940-4945-a30f-97e522686ef1",
   "metadata": {},
   "source": [
    "### PAT"
   ]
  },
  {
   "cell_type": "code",
   "execution_count": 45,
   "id": "5e981daf-fdee-4189-b6b1-24ba95bd3e87",
   "metadata": {},
   "outputs": [
    {
     "name": "stdout",
     "output_type": "stream",
     "text": [
      "JSONL file created successfully at data/gpt_as_kgqa/batches/pat_batch.jsonl\n"
     ]
    }
   ],
   "source": [
    "dataset_name = 'pat'\n",
    "\n",
    "dataset = read_dataset(dataset_name, 'test')\n",
    "assert len({d['id'] for d in dataset}) == len(dataset), \"Duplicate IDs found!\"\n",
    "\n",
    "requests_list = [item2request(item, dataset_name, model_name=model_name, lang=lang) for item in dataset]\n",
    "batch_filepath = f\"data/gpt_as_kgqa/batches/{dataset_name}_batch.jsonl\"\n",
    "\n",
    "create_jsonl_file(requests_list, batch_filepath)\n",
    "\n",
    "batch_input_file = client.files.create(\n",
    "    file=open(batch_filepath, \"rb\"),\n",
    "    purpose=\"batch\"\n",
    ")\n",
    "\n",
    "batch = client.batches.create(\n",
    "    input_file_id=batch_input_file.id,\n",
    "    endpoint=\"/v1/chat/completions\",\n",
    "    completion_window=\"24h\",\n",
    "    metadata={\n",
    "        \"dataset\": dataset_name\n",
    "    }\n",
    ")"
   ]
  },
  {
   "cell_type": "code",
   "execution_count": 48,
   "id": "18dc31a7-edc0-421c-aa82-7ed60a6cec06",
   "metadata": {},
   "outputs": [
    {
     "name": "stdout",
     "output_type": "stream",
     "text": [
      "Batch(id='batch_67d7256860088190abec027056d18120', completion_window='24h', created_at=1742153064, endpoint='/v1/chat/completions', input_file_id='file-TVzumss8MaGNU8TeaNDgoB', object='batch', status='completed', cancelled_at=None, cancelling_at=None, completed_at=1742154483, error_file_id=None, errors=None, expired_at=None, expires_at=1742239464, failed_at=None, finalizing_at=1742154379, in_progress_at=1742153067, metadata={'dataset': 'pat'}, output_file_id='file-4dUNuYGraoKeAfKiEUb4Tb', request_counts=BatchRequestCounts(completed=1210, failed=0, total=1210))\n"
     ]
    }
   ],
   "source": [
    "file_id = batch_input_file.id\n",
    "batch_id = batch.id\n",
    "\n",
    "batch = client.batches.retrieve(batch_id)\n",
    "print(batch)"
   ]
  },
  {
   "cell_type": "code",
   "execution_count": 50,
   "id": "63fbe902-3330-4509-accc-151e4ea7144f",
   "metadata": {},
   "outputs": [],
   "source": [
    "batch = client.batches.retrieve(batch_id)\n",
    "output_file_id = batch.output_file_id\n",
    "\n",
    "file_response = client.files.content(output_file_id)\n",
    "responses = [json.loads(line) for line in file_response.text.splitlines()]\n",
    "\n",
    "gpt_predicted_sparqls = {response['custom_id']: extract_sparql(response['response']['body']['choices'][0]['message']['content']) for response in responses}\n",
    "id2question = {str(item['id']): item['question'] for item in dataset}\n",
    "id2sparql = {str(item['id']): item['query'] for item in dataset}\n",
    "assert set(gpt_predicted_sparqls.keys()) == set(id2question.keys())\n",
    "\n",
    "prediction = pd.DataFrame({\n",
    "    'question': id2question,\n",
    "    'sparql': id2sparql,\n",
    "    'gpt_sparql': gpt_predicted_sparqls\n",
    "})\n",
    "\n",
    "prediction.to_csv(f'data/gpt_as_kgqa/refined_results/{dataset_name}.csv')"
   ]
  },
  {
   "cell_type": "code",
   "execution_count": 51,
   "id": "c1ca8fd4-d720-4f56-82d4-c51a5e5c25fc",
   "metadata": {},
   "outputs": [
    {
     "data": {
      "text/html": [
       "<div>\n",
       "<style scoped>\n",
       "    .dataframe tbody tr th:only-of-type {\n",
       "        vertical-align: middle;\n",
       "    }\n",
       "\n",
       "    .dataframe tbody tr th {\n",
       "        vertical-align: top;\n",
       "    }\n",
       "\n",
       "    .dataframe thead th {\n",
       "        text-align: right;\n",
       "    }\n",
       "</style>\n",
       "<table border=\"1\" class=\"dataframe\">\n",
       "  <thead>\n",
       "    <tr style=\"text-align: right;\">\n",
       "      <th></th>\n",
       "      <th>question</th>\n",
       "      <th>sparql</th>\n",
       "      <th>gpt_sparql</th>\n",
       "    </tr>\n",
       "  </thead>\n",
       "  <tbody>\n",
       "    <tr>\n",
       "      <th>10719</th>\n",
       "      <td>Who is the head coach of the team that Naoki W...</td>\n",
       "      <td>\\n    SELECT ?item ?itemLabel ?starttime ?endt...</td>\n",
       "      <td>SELECT ?coach ?coachLabel WHERE {\\n  wd:Q28921...</td>\n",
       "    </tr>\n",
       "    <tr>\n",
       "      <th>2502</th>\n",
       "      <td>Who was the previous chair of World Wide Fund ...</td>\n",
       "      <td>\\n    SELECT ?item ?itemLabel ?starttime ?endt...</td>\n",
       "      <td>SELECT ?chairperson ?chairpersonLabel (YEAR(?e...</td>\n",
       "    </tr>\n",
       "    <tr>\n",
       "      <th>11622</th>\n",
       "      <td>What is the home venue of the team that Neil D...</td>\n",
       "      <td>\\n    SELECT ?item ?itemLabel ?starttime ?endt...</td>\n",
       "      <td>SELECT ?venue ?venueLabel WHERE {\\n  wd:Q38742...</td>\n",
       "    </tr>\n",
       "    <tr>\n",
       "      <th>12496</th>\n",
       "      <td>Where was the previous head coach of Philadelp...</td>\n",
       "      <td>\\n    SELECT ?item ?itemLabel ?starttime ?endt...</td>\n",
       "      <td>SELECT ?placeOfBirth WHERE {\\n  wd:Q219714 p:P...</td>\n",
       "    </tr>\n",
       "    <tr>\n",
       "      <th>10820</th>\n",
       "      <td>Who is the owner of the team that Zaza Pachuli...</td>\n",
       "      <td>\\n    SELECT ?item ?itemLabel (YEAR(?starttime...</td>\n",
       "      <td>SELECT ?owner WHERE { wd:Q319614 p:P54 ?member...</td>\n",
       "    </tr>\n",
       "  </tbody>\n",
       "</table>\n",
       "</div>"
      ],
      "text/plain": [
       "                                                question  \\\n",
       "10719  Who is the head coach of the team that Naoki W...   \n",
       "2502   Who was the previous chair of World Wide Fund ...   \n",
       "11622  What is the home venue of the team that Neil D...   \n",
       "12496  Where was the previous head coach of Philadelp...   \n",
       "10820  Who is the owner of the team that Zaza Pachuli...   \n",
       "\n",
       "                                                  sparql  \\\n",
       "10719  \\n    SELECT ?item ?itemLabel ?starttime ?endt...   \n",
       "2502   \\n    SELECT ?item ?itemLabel ?starttime ?endt...   \n",
       "11622  \\n    SELECT ?item ?itemLabel ?starttime ?endt...   \n",
       "12496  \\n    SELECT ?item ?itemLabel ?starttime ?endt...   \n",
       "10820  \\n    SELECT ?item ?itemLabel (YEAR(?starttime...   \n",
       "\n",
       "                                              gpt_sparql  \n",
       "10719  SELECT ?coach ?coachLabel WHERE {\\n  wd:Q28921...  \n",
       "2502   SELECT ?chairperson ?chairpersonLabel (YEAR(?e...  \n",
       "11622  SELECT ?venue ?venueLabel WHERE {\\n  wd:Q38742...  \n",
       "12496  SELECT ?placeOfBirth WHERE {\\n  wd:Q219714 p:P...  \n",
       "10820  SELECT ?owner WHERE { wd:Q319614 p:P54 ?member...  "
      ]
     },
     "execution_count": 51,
     "metadata": {},
     "output_type": "execute_result"
    }
   ],
   "source": [
    "prediction.head()"
   ]
  },
  {
   "cell_type": "code",
   "execution_count": null,
   "id": "7908c661-cb66-4262-94c2-c2b5b8df3caa",
   "metadata": {},
   "outputs": [],
   "source": []
  }
 ],
 "metadata": {
  "kernelspec": {
   "display_name": "Python 3 (ipykernel)",
   "language": "python",
   "name": "python3"
  },
  "language_info": {
   "codemirror_mode": {
    "name": "ipython",
    "version": 3
   },
   "file_extension": ".py",
   "mimetype": "text/x-python",
   "name": "python",
   "nbconvert_exporter": "python",
   "pygments_lexer": "ipython3",
   "version": "3.11.8"
  }
 },
 "nbformat": 4,
 "nbformat_minor": 5
}
