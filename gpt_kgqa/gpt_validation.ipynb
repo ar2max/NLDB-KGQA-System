{
 "cells": [
  {
   "cell_type": "code",
   "execution_count": 1,
   "id": "dbc67bbd-6462-4848-97d9-c839e2da7872",
   "metadata": {},
   "outputs": [],
   "source": [
    "import re\n",
    "import json\n",
    "import aiohttp\n",
    "import asyncio\n",
    "import pandas as pd\n",
    "from tqdm import tqdm\n",
    "from aiohttp import ClientTimeout\n",
    "from SPARQLWrapper import SPARQLWrapper, JSON"
   ]
  },
  {
   "cell_type": "code",
   "execution_count": 2,
   "id": "67ae20ed-ec96-4074-9fa5-3d8a563ecf3f",
   "metadata": {},
   "outputs": [],
   "source": [
    "async def execute_sparql(session, query, timeout=30, max_retries=3):\n",
    "    SEM = asyncio.Semaphore(20) \n",
    "    \n",
    "    if not query:\n",
    "        return None\n",
    "\n",
    "    url = \"https://query.wikidata.org/sparql\"\n",
    "    headers = {\"Accept\": \"application/sparql-results+json\"}\n",
    "    data = {\"query\": query, \"format\": \"json\"}\n",
    "\n",
    "    async with SEM:  # Limit concurrent requests\n",
    "        for attempt in range(1, max_retries + 1):\n",
    "            try:\n",
    "                async with session.post(url, data=data, headers=headers, timeout=ClientTimeout(total=timeout)) as response:\n",
    "                    if response.status == 200:\n",
    "                        results = await response.json()\n",
    "                        return extract_answers_from_response(results)\n",
    "                    elif response.status == 400:  # Query malformed\n",
    "                        return None\n",
    "\n",
    "            except aiohttp.ClientError as e:\n",
    "                if attempt == max_retries:\n",
    "                    return []\n",
    "                await asyncio.sleep(1)\n",
    "            except asyncio.TimeoutError:\n",
    "                if attempt == max_retries:\n",
    "                    return []\n",
    "                await asyncio.sleep(1)\n",
    "        return []\n",
    "\n",
    "def extract_answers_from_response(response):\n",
    "    answers = []\n",
    "    if 'results' in response:\n",
    "        for binding in response['results']['bindings']:\n",
    "            for key, sub_answer in binding.items():\n",
    "                value = sub_answer.get('value')\n",
    "                if re.match(r\"^https?://www\\.wikidata\\.org/entity/Q\\d+$\", value):\n",
    "                    answers.append(extract_wikidata_id_from_link(value))\n",
    "                else:\n",
    "                    answers.append(value)\n",
    "    elif 'boolean' in response:\n",
    "        answers.append(response['boolean'])\n",
    "    return answers\n",
    "\n",
    "def extract_wikidata_id_from_link(link):\n",
    "    match = re.search(r\"https?://www\\.wikidata\\.org/entity/(Q\\d+)\", link)\n",
    "    return match.group(1) if match else None"
   ]
  },
  {
   "cell_type": "code",
   "execution_count": 3,
   "id": "5216ae75-251e-440a-8d52-ba5ff184c643",
   "metadata": {},
   "outputs": [],
   "source": [
    "def extract_answers_from_response(response):\n",
    "    answers = []\n",
    "    \n",
    "    if 'results' in response:\n",
    "        for binding in response['results']['bindings']:\n",
    "            for _, sub_answer in binding.items():\n",
    "                value = sub_answer.get('value')\n",
    "                if isinstance(value, str) and re.match(r\"^https?://www\\.wikidata\\.org/entity/Q\\d+$\", value):\n",
    "                    answers.append(value.split(\"/\")[-1])\n",
    "                else:\n",
    "                    answers.append(value)\n",
    "    elif 'boolean' in response:\n",
    "        answers.append(response['boolean'])\n",
    "    elif 'head' in response and 'vars' in response['head'] and not response.get('results', {}).get('bindings'):\n",
    "        return []  # Ensures an empty response if no bindings are present\n",
    "    \n",
    "    return answers\n",
    "\n",
    "async def execute_sparql_query(query: str):\n",
    "    endpoint = \"https://query.wikidata.org/sparql\"\n",
    "    params = {\"query\": query, \"format\": \"json\"}\n",
    "    \n",
    "    async with aiohttp.ClientSession() as session:\n",
    "        try:\n",
    "            async with session.get(endpoint, params=params) as response:\n",
    "                if response.status != 200:\n",
    "                    return None\n",
    "                \n",
    "                data = await response.json()\n",
    "                extracted_answers = extract_answers_from_response(data)\n",
    "                \n",
    "                if not extracted_answers:\n",
    "                    return []\n",
    "                \n",
    "                return extracted_answers\n",
    "        \n",
    "        except Exception as e:\n",
    "            return \"error\", str(e)\n",
    "\n",
    "def extract_sparql(text: str) -> str:\n",
    "    pattern = r\"```(?:[^\\n]*\\n)?(.*?)```\"\n",
    "    match = re.search(pattern, text, re.DOTALL)\n",
    "    if match:\n",
    "        return match.group(1).strip()\n",
    "\n",
    "    return text.strip()\n",
    "\n",
    "def calculate_metrics(correct, predicted):\n",
    "    correct_set = set(correct)\n",
    "    predicted_set = set(predicted)\n",
    "\n",
    "    em = correct_set == predicted_set\n",
    "    true_positives = len(correct_set & predicted_set)  # Intersection\n",
    "\n",
    "    precision = true_positives / len(predicted_set) if predicted_set else 0\n",
    "    recall = true_positives / len(correct_set) if correct_set else 0\n",
    "    f1_score = (2 * precision * recall) / (precision + recall) if (precision + recall) > 0 else 0\n",
    "\n",
    "    return {'em': em, 'f1': f1_score, 'precision': precision, 'recall': recall}"
   ]
  },
  {
   "cell_type": "markdown",
   "id": "4147b427-5593-4ead-b6cb-a2c653457b8e",
   "metadata": {},
   "source": [
    "## RuBQ"
   ]
  },
  {
   "cell_type": "code",
   "execution_count": 8,
   "id": "3378e52b-6045-4e37-86c9-d073ba64697c",
   "metadata": {},
   "outputs": [
    {
     "name": "stderr",
     "output_type": "stream",
     "text": [
      "100%|█████████████████████████████████████████| 480/480 [06:41<00:00,  1.20it/s]\n"
     ]
    },
    {
     "data": {
      "text/plain": [
       "f1           71.5\n",
       "precision    64.3\n",
       "recall       86.3\n",
       "incorrect     4.2\n",
       "empty         3.7\n",
       "dtype: float64"
      ]
     },
     "execution_count": 8,
     "metadata": {},
     "output_type": "execute_result"
    }
   ],
   "source": [
    "dataset_name = 'rubq'\n",
    "rubq_results = pd.read_csv(f'data/gpt_as_kgqa/results/{dataset_name}.csv')\n",
    "\n",
    "metrics_list = []\n",
    "\n",
    "\n",
    "for index, row in tqdm(rubq_results.iterrows(), total=rubq_results.shape[0]):\n",
    "    gold_query = row['sparql']\n",
    "    pred_query = extract_sparql(row['gpt_sparql'])\n",
    "\n",
    "    gold_entities = await execute_sparql_query(gold_query)\n",
    "    pred_entities = await execute_sparql_query(pred_query)\n",
    "\n",
    "    if not gold_entities:\n",
    "        continue  \n",
    "\n",
    "    if pred_entities is None:\n",
    "        metric = {'em': False, 'f1': 0, 'precision': 0.0, 'recall': 0, 'incorrect': True, 'empty': False}\n",
    "    else:\n",
    "        metric = calculate_metrics(gold_entities, pred_entities)\n",
    "        metric.update({'incorrect': False, 'empty': len(pred_entities) == 0})\n",
    "\n",
    "    metrics_list.append(metric)\n",
    "\n",
    "metrics_df = pd.DataFrame(metrics_list)\n",
    "metrics_df[[\"f1\", \"precision\", \"recall\", \"incorrect\", \"empty\"]].mean().round(3)*100"
   ]
  },
  {
   "cell_type": "code",
   "execution_count": 9,
   "id": "59d4f000-8bc9-4528-862c-ec9516eba429",
   "metadata": {},
   "outputs": [
    {
     "data": {
      "text/plain": [
       "f1           71.5\n",
       "precision    64.3\n",
       "recall       86.3\n",
       "incorrect     4.2\n",
       "empty         3.7\n",
       "dtype: float64"
      ]
     },
     "execution_count": 9,
     "metadata": {},
     "output_type": "execute_result"
    }
   ],
   "source": [
    "metrics_df[[\"f1\", \"precision\", \"recall\", \"incorrect\", \"empty\"]].mean().round(3)*100"
   ]
  },
  {
   "cell_type": "markdown",
   "id": "aef82216-a4d9-48bb-91dd-49fe566cc4a6",
   "metadata": {},
   "source": [
    "## QaLD"
   ]
  },
  {
   "cell_type": "code",
   "execution_count": 4,
   "id": "9c7be70e-839c-4951-8fb8-5de3f227c46a",
   "metadata": {},
   "outputs": [
    {
     "name": "stderr",
     "output_type": "stream",
     "text": [
      "100%|█████████████████████████████████████████| 386/386 [11:59<00:00,  1.86s/it]\n"
     ]
    },
    {
     "data": {
      "text/plain": [
       "f1           56.6\n",
       "precision    52.5\n",
       "recall       66.9\n",
       "incorrect     4.2\n",
       "empty         7.6\n",
       "dtype: float64"
      ]
     },
     "execution_count": 4,
     "metadata": {},
     "output_type": "execute_result"
    }
   ],
   "source": [
    "dataset_name = 'qald'\n",
    "qald_results = pd.read_csv(f'data/gpt_as_kgqa/results/{dataset_name}.csv')\n",
    "\n",
    "metrics_list = []\n",
    "\n",
    "\n",
    "for index, row in tqdm(qald_results.iterrows(), total=qald_results.shape[0]):\n",
    "    gold_query = row['sparql']\n",
    "    pred_query = extract_sparql(row['gpt_sparql'])\n",
    "\n",
    "    gold_entities = await execute_sparql_query(gold_query)\n",
    "    pred_entities = await execute_sparql_query(pred_query)\n",
    "\n",
    "    if not gold_entities:\n",
    "        continue  \n",
    "\n",
    "    if pred_entities is None:\n",
    "        metric = {'em': False, 'f1': 0, 'precision': 0.0, 'recall': 0, 'incorrect': True, 'empty': False}\n",
    "    else:\n",
    "        metric = calculate_metrics(gold_entities, pred_entities)\n",
    "        metric.update({'incorrect': False, 'empty': len(pred_entities) == 0})\n",
    "\n",
    "    metrics_list.append(metric)\n",
    "\n",
    "metrics_df = pd.DataFrame(metrics_list)\n",
    "metrics_df[[\"f1\", \"precision\", \"recall\", \"incorrect\", \"empty\"]].mean().round(3)*100"
   ]
  },
  {
   "cell_type": "code",
   "execution_count": 5,
   "id": "8ed2f9ea-0cd6-4ac0-bc27-9de47b48e5fd",
   "metadata": {},
   "outputs": [
    {
     "data": {
      "text/plain": [
       "f1           56.6\n",
       "precision    52.5\n",
       "recall       66.9\n",
       "incorrect     4.2\n",
       "empty         7.6\n",
       "dtype: float64"
      ]
     },
     "execution_count": 5,
     "metadata": {},
     "output_type": "execute_result"
    }
   ],
   "source": [
    "metrics_df[[\"f1\", \"precision\", \"recall\", \"incorrect\", \"empty\"]].mean().round(3)*100"
   ]
  },
  {
   "cell_type": "markdown",
   "id": "1345aba8-2a55-44c2-a932-f06f8e64a040",
   "metadata": {},
   "source": [
    "## LcQUAD_2.0"
   ]
  },
  {
   "cell_type": "code",
   "execution_count": 6,
   "id": "3747eeae-f5c1-429b-b74b-aca09442c9aa",
   "metadata": {},
   "outputs": [
    {
     "name": "stderr",
     "output_type": "stream",
     "text": [
      "100%|█████████████████████████████████████| 4541/4541 [1:19:52<00:00,  1.06s/it]\n"
     ]
    },
    {
     "data": {
      "text/plain": [
       "f1           46.8\n",
       "precision    44.0\n",
       "recall       54.9\n",
       "incorrect     2.5\n",
       "empty        25.6\n",
       "dtype: float64"
      ]
     },
     "execution_count": 6,
     "metadata": {},
     "output_type": "execute_result"
    }
   ],
   "source": [
    "dataset_name = 'lcquad_2.0'\n",
    "lcqaud_results = pd.read_csv(f'data/gpt_as_kgqa/results/{dataset_name}.csv')\n",
    "\n",
    "metrics_list = []\n",
    "\n",
    "\n",
    "for index, row in tqdm(lcqaud_results.iterrows(), total=lcqaud_results.shape[0]):\n",
    "    gold_query = row['sparql']\n",
    "    pred_query = extract_sparql(row['gpt_sparql'])\n",
    "\n",
    "    gold_entities = await execute_sparql_query(gold_query)\n",
    "    pred_entities = await execute_sparql_query(pred_query)\n",
    "\n",
    "    if not gold_entities:\n",
    "        continue  \n",
    "\n",
    "    if pred_entities is None:\n",
    "        metric = {'em': False, 'f1': 0, 'precision': 0.0, 'recall': 0, 'incorrect': True, 'empty': False}\n",
    "    else:\n",
    "        metric = calculate_metrics(gold_entities, pred_entities)\n",
    "        metric.update({'incorrect': False, 'empty': len(pred_entities) == 0})\n",
    "\n",
    "    metrics_list.append(metric)\n",
    "\n",
    "metrics_df = pd.DataFrame(metrics_list)\n",
    "metrics_df[[\"f1\", \"precision\", \"recall\", \"incorrect\", \"empty\"]].mean().round(3)*100"
   ]
  },
  {
   "cell_type": "code",
   "execution_count": 7,
   "id": "12ad77bd-01f5-4cf4-b53b-8fd26f915348",
   "metadata": {},
   "outputs": [
    {
     "data": {
      "text/plain": [
       "f1           46.8\n",
       "precision    44.0\n",
       "recall       54.9\n",
       "incorrect     2.5\n",
       "empty        25.6\n",
       "dtype: float64"
      ]
     },
     "execution_count": 7,
     "metadata": {},
     "output_type": "execute_result"
    }
   ],
   "source": [
    "metrics_df[[\"f1\", \"precision\", \"recall\", \"incorrect\", \"empty\"]].mean().round(3)*100"
   ]
  },
  {
   "cell_type": "markdown",
   "id": "e71db893-762a-4126-bf65-1f47f7fefccd",
   "metadata": {},
   "source": [
    "## PAT"
   ]
  },
  {
   "cell_type": "code",
   "execution_count": 10,
   "id": "e93debf0-cba2-40bd-9181-34e0e3c77f78",
   "metadata": {},
   "outputs": [
    {
     "name": "stderr",
     "output_type": "stream",
     "text": [
      "100%|███████████████████████████████████████| 1199/1199 [52:36<00:00,  2.63s/it]\n"
     ]
    },
    {
     "data": {
      "text/plain": [
       "f1           37.3\n",
       "precision    55.3\n",
       "recall       33.3\n",
       "incorrect     4.1\n",
       "empty        24.2\n",
       "dtype: float64"
      ]
     },
     "execution_count": 10,
     "metadata": {},
     "output_type": "execute_result"
    }
   ],
   "source": [
    "dataset_name = 'pat'\n",
    "pat_results = pd.read_csv(f'data/gpt_as_kgqa/results/{dataset_name}.csv')\n",
    "\n",
    "metrics_list = []\n",
    "\n",
    "\n",
    "for index, row in tqdm(pat_results.iterrows(), total=pat_results.shape[0]):\n",
    "    gold_query = row['sparql']\n",
    "    pred_query = extract_sparql(row['gpt_sparql'])\n",
    "\n",
    "    gold_entities = await execute_sparql_query(gold_query)\n",
    "    pred_entities = await execute_sparql_query(pred_query)\n",
    "\n",
    "    if not gold_entities:\n",
    "        continue  \n",
    "\n",
    "    if pred_entities is None:\n",
    "        metric = {'em': False, 'f1': 0, 'precision': 0.0, 'recall': 0, 'incorrect': True, 'empty': False}\n",
    "    else:\n",
    "        metric = calculate_metrics(gold_entities, pred_entities)\n",
    "        metric.update({'incorrect': False, 'empty': len(pred_entities) == 0})\n",
    "\n",
    "    metrics_list.append(metric)\n",
    "\n",
    "metrics_df = pd.DataFrame(metrics_list)\n",
    "metrics_df[[\"f1\", \"precision\", \"recall\", \"incorrect\", \"empty\"]].mean().round(3)*100"
   ]
  }
 ],
 "metadata": {
  "kernelspec": {
   "display_name": "Python 3 (ipykernel)",
   "language": "python",
   "name": "python3"
  },
  "language_info": {
   "codemirror_mode": {
    "name": "ipython",
    "version": 3
   },
   "file_extension": ".py",
   "mimetype": "text/x-python",
   "name": "python",
   "nbconvert_exporter": "python",
   "pygments_lexer": "ipython3",
   "version": "3.11.8"
  }
 },
 "nbformat": 4,
 "nbformat_minor": 5
}
